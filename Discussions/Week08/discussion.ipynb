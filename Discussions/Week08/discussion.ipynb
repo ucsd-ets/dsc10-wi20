{
 "cells": [
  {
   "cell_type": "code",
   "execution_count": null,
   "metadata": {
    "slideshow": {
     "slide_type": "skip"
    }
   },
   "outputs": [],
   "source": [
    "import babypandas as bpd\n",
    "from scipy.stats import norm\n",
    "from IPython.display import clear_output\n",
    "import numpy as np\n",
    "import matplotlib.pyplot as plt\n",
    "%matplotlib inline\n",
    "plt.style.use(\"fivethirtyeight\")"
   ]
  },
  {
   "cell_type": "markdown",
   "metadata": {
    "slideshow": {
     "slide_type": "slide"
    }
   },
   "source": [
    "# DSC 10 Discussion Week 8\n",
    "---"
   ]
  },
  {
   "cell_type": "markdown",
   "metadata": {
    "slideshow": {
     "slide_type": "slide"
    }
   },
   "source": [
    "# Confidence Intervals\n",
    "---\n",
    "\n",
    "Today, we'll be working on sampling and confidence intervals."
   ]
  },
  {
   "cell_type": "code",
   "execution_count": null,
   "metadata": {
    "slideshow": {
     "slide_type": "subslide"
    }
   },
   "outputs": [],
   "source": [
    "full_data = bpd.read_csv(\"Life Expectancy Data.csv\")"
   ]
  },
  {
   "cell_type": "code",
   "execution_count": null,
   "metadata": {
    "slideshow": {
     "slide_type": "fragment"
    }
   },
   "outputs": [],
   "source": [
    "full_data"
   ]
  },
  {
   "cell_type": "markdown",
   "metadata": {
    "slideshow": {
     "slide_type": "subslide"
    }
   },
   "source": [
    "This data comes from the World Health Organization.  We can learn more about the meanings of the columns by looking here: https://www.kaggle.com/kumarajarshi/life-expectancy-who\n",
    "\n",
    "Let's travel back in time to the year 2015 and collect some data!  For the duration of this discussion, we're going to consider the following data to be our *\"population\"*.\n",
    "\n",
    "Let's take a look at it."
   ]
  },
  {
   "cell_type": "code",
   "execution_count": null,
   "metadata": {
    "slideshow": {
     "slide_type": "fragment"
    }
   },
   "outputs": [],
   "source": [
    "recent_data = full_data[full_data.get(\"Year\") == 2015]"
   ]
  },
  {
   "cell_type": "code",
   "execution_count": null,
   "metadata": {},
   "outputs": [],
   "source": [
    "recent_data.columns"
   ]
  },
  {
   "cell_type": "code",
   "execution_count": null,
   "metadata": {
    "slideshow": {
     "slide_type": "fragment"
    }
   },
   "outputs": [],
   "source": [
    "recent_data"
   ]
  },
  {
   "cell_type": "code",
   "execution_count": null,
   "metadata": {
    "slideshow": {
     "slide_type": "subslide"
    }
   },
   "outputs": [],
   "source": [
    "# Let's visualize our population distribution.\n",
    "\n",
    "# Defining a function to create bins easily\n",
    "def get_bins(array, bin_size=1):\n",
    "    return np.arange(\n",
    "        int(array.min()), int(array.max()) + 1 + bin_size, bin_size\n",
    "    ) "
   ]
  },
  {
   "cell_type": "code",
   "execution_count": null,
   "metadata": {
    "slideshow": {
     "slide_type": "fragment"
    }
   },
   "outputs": [],
   "source": [
    "MEASURE = \"Life expectancy \"\n",
    "bool_mask = recent_data.get(MEASURE) >= 0\n",
    "data = recent_data[bool_mask] # This is just to remove nans\n",
    "measured = data.get(MEASURE)\n",
    "bins = get_bins(measured, 5) # <-- Try playing around with the bin size\n",
    "\n",
    "data.plot(kind = \"hist\", y = MEASURE, bins=bins)"
   ]
  },
  {
   "cell_type": "code",
   "execution_count": null,
   "metadata": {
    "slideshow": {
     "slide_type": "subslide"
    }
   },
   "outputs": [],
   "source": [
    "data.sort_values(\"Life expectancy \", ascending=False)"
   ]
  },
  {
   "cell_type": "markdown",
   "metadata": {
    "slideshow": {
     "slide_type": "subslide"
    }
   },
   "source": [
    "# This is our ... ? (Population or Sample Distribution)"
   ]
  },
  {
   "cell_type": "markdown",
   "metadata": {
    "slideshow": {
     "slide_type": "fragment"
    }
   },
   "source": [
    "```\n",
    "??? Distribution\n",
    "```"
   ]
  },
  {
   "cell_type": "markdown",
   "metadata": {
    "slideshow": {
     "slide_type": "subslide"
    }
   },
   "source": [
    "So, what is our aim?  We want to estimate the average life expectancy for the globe!  Let's say we don't have access to the entire population.  Let's say we can only collect data reliably from 20 countries.\n",
    "\n",
    "As are standard procedures, we'll be creating a confidence interval around this estimate.  We can sample and use bootstrapping to find this."
   ]
  },
  {
   "cell_type": "code",
   "execution_count": null,
   "metadata": {
    "slideshow": {
     "slide_type": "fragment"
    }
   },
   "outputs": [],
   "source": [
    "# How do we create a representative sample?\n",
    "collected = data.sample(20, replace = False)"
   ]
  },
  {
   "cell_type": "code",
   "execution_count": null,
   "metadata": {
    "slideshow": {
     "slide_type": "fragment"
    }
   },
   "outputs": [],
   "source": [
    "collected"
   ]
  },
  {
   "cell_type": "code",
   "execution_count": null,
   "metadata": {
    "slideshow": {
     "slide_type": "subslide"
    }
   },
   "outputs": [],
   "source": [
    "data.plot(kind = \"hist\", y = MEASURE, bins=bins)"
   ]
  },
  {
   "cell_type": "code",
   "execution_count": null,
   "metadata": {},
   "outputs": [],
   "source": [
    "collected.plot(kind = \"hist\", y = MEASURE, bins=get_bins(collected.get(MEASURE), 5))"
   ]
  },
  {
   "cell_type": "markdown",
   "metadata": {
    "slideshow": {
     "slide_type": "subslide"
    }
   },
   "source": [
    "# This is our ...? (Sample or Population Distribution)"
   ]
  },
  {
   "cell_type": "markdown",
   "metadata": {
    "slideshow": {
     "slide_type": "fragment"
    }
   },
   "source": [
    "```\n",
    "... DISTRIBUTION\n",
    "```"
   ]
  },
  {
   "cell_type": "markdown",
   "metadata": {
    "slideshow": {
     "slide_type": "subslide"
    }
   },
   "source": [
    "We're interested in estimating the mean life expectancy.  So, let's find the mean of our sample."
   ]
  },
  {
   "cell_type": "code",
   "execution_count": null,
   "metadata": {
    "slideshow": {
     "slide_type": "fragment"
    }
   },
   "outputs": [],
   "source": [
    "sample_mean = collected.get(MEASURE).mean()\n",
    "sample_mean"
   ]
  },
  {
   "cell_type": "code",
   "execution_count": null,
   "metadata": {
    "slideshow": {
     "slide_type": "fragment"
    }
   },
   "outputs": [],
   "source": [
    "# We can show our mean in relation to the sample.\n",
    "collected.plot(kind = \"hist\", y = MEASURE, bins=get_bins(collected.get(MEASURE), 5))\n",
    "plt.axvline(sample_mean, c='r');"
   ]
  },
  {
   "cell_type": "markdown",
   "metadata": {
    "slideshow": {
     "slide_type": "subslide"
    }
   },
   "source": [
    "What happens when we resample?"
   ]
  },
  {
   "cell_type": "code",
   "execution_count": null,
   "metadata": {
    "slideshow": {
     "slide_type": "subslide"
    }
   },
   "outputs": [],
   "source": [
    "# Run this multiple time to see what changes.\n",
    "\n",
    "resampled = collected.sample(collected.shape[0], replace = True)\n",
    "resampled_mean = resampled.get(MEASURE).mean()\n",
    "\n",
    "print(\"The resampled mean is:\\t\\t\", resampled_mean, \"\\nCompared to the original:\\t\", sample_mean)\n",
    "\n",
    "resampled.plot(kind = \"hist\", y = MEASURE, bins=get_bins(collected.get(MEASURE),5))\n",
    "plt.axvline(resampled_mean, c='r')\n",
    "plt.axvline(sample_mean, c='b')\n",
    "plt.legend([\"Resampled Mean\",\"Sample Mean\"]);"
   ]
  },
  {
   "cell_type": "markdown",
   "metadata": {
    "slideshow": {
     "slide_type": "fragment"
    }
   },
   "source": [
    "# What do the red and blue lines represent again?"
   ]
  },
  {
   "cell_type": "markdown",
   "metadata": {
    "slideshow": {
     "slide_type": "fragment"
    }
   },
   "source": [
    "```\n",
    "What is the difference between the initial sample and the resamples?\n",
    "```"
   ]
  },
  {
   "cell_type": "markdown",
   "metadata": {
    "slideshow": {
     "slide_type": "subslide"
    }
   },
   "source": [
    "Now, let's run the bootstrap so we can create our confidence interval!"
   ]
  },
  {
   "cell_type": "code",
   "execution_count": null,
   "metadata": {
    "slideshow": {
     "slide_type": "fragment"
    }
   },
   "outputs": [],
   "source": [
    "sample_means = np.array([])\n",
    "\n",
    "for i in range(5_000):\n",
    "    if i % 200 == 0: print(i, end = ', ')\n",
    "    bootstrapped = collected.sample(collected.shape[0], replace = True)\n",
    "    boot_mean = bootstrapped.get(MEASURE).mean()\n",
    "    sample_means = np.append(sample_means, boot_mean)\n",
    "\n",
    "plt.hist(sample_means, bins=get_bins(sample_means, 0.5));"
   ]
  },
  {
   "cell_type": "code",
   "execution_count": null,
   "metadata": {
    "slideshow": {
     "slide_type": "subslide"
    }
   },
   "outputs": [],
   "source": [
    "# Fast version!\n",
    "bootstrap_count = 5_000\n",
    "n = collected.shape[0]\n",
    "life_exp = collected.get(MEASURE)\n",
    "sample_means = np.array([life_exp.iloc[np.random.choice(n, n)].mean() for i in range(bootstrap_count)])\n",
    "\n",
    "plt.hist(sample_means, bins=get_bins(sample_means, 0.5));"
   ]
  },
  {
   "cell_type": "markdown",
   "metadata": {
    "slideshow": {
     "slide_type": "fragment"
    }
   },
   "source": [
    "# What does this graph represent?"
   ]
  },
  {
   "cell_type": "markdown",
   "metadata": {
    "slideshow": {
     "slide_type": "fragment"
    }
   },
   "source": [
    "```\n",
    "DISTRIBUTION OF ...\n",
    "```"
   ]
  },
  {
   "cell_type": "markdown",
   "metadata": {
    "slideshow": {
     "slide_type": "subslide"
    }
   },
   "source": [
    "Recall, the confidence interval uses percentiles as the bounds."
   ]
  },
  {
   "cell_type": "code",
   "execution_count": null,
   "metadata": {
    "slideshow": {
     "slide_type": "fragment"
    }
   },
   "outputs": [],
   "source": [
    "# First, we choose a confidence level.\n",
    "confidence_level = 95\n",
    " \n",
    "# What is the mean we're estimating?\n",
    "mean = sample_means.mean()\n",
    "\n",
    "# And then our lower and upper bounds?\n",
    "# Let's try to find a way to calculate them regardless of our confidence level.\n",
    "low = (100 - confidence_level) / 2\n",
    "high = confidence_level + (100 - confidence_level) / 2\n",
    "print(\"Percentages Low {}, High {}\".format(low, high))\n",
    "lower_bound = np.percentile(sample_means, low)\n",
    "upper_bound = np.percentile(sample_means, high)\n",
    "\n",
    "# Printing it out so we can easily see our results.\n",
    "print(\"\"\"\n",
    "Mean:\\t{}\n",
    "\n",
    "Lower:\\t{}\n",
    "Upper:\\t{}\n",
    "\n",
    "Level:\\t{}%\n",
    "\"\"\".format(mean, lower_bound, upper_bound, confidence_level))"
   ]
  },
  {
   "cell_type": "markdown",
   "metadata": {
    "slideshow": {
     "slide_type": "subslide"
    }
   },
   "source": [
    "Out of curiosity... what's the difference between our bounds and the mean?"
   ]
  },
  {
   "cell_type": "code",
   "execution_count": null,
   "metadata": {
    "slideshow": {
     "slide_type": "fragment"
    }
   },
   "outputs": [],
   "source": [
    "abs(mean-lower_bound)"
   ]
  },
  {
   "cell_type": "code",
   "execution_count": null,
   "metadata": {
    "slideshow": {
     "slide_type": "fragment"
    }
   },
   "outputs": [],
   "source": [
    "abs(mean-upper_bound)"
   ]
  },
  {
   "cell_type": "markdown",
   "metadata": {
    "slideshow": {
     "slide_type": "subslide"
    }
   },
   "source": [
    "# How do we interpret this confidence interval?\n",
    "---"
   ]
  },
  {
   "cell_type": "raw",
   "metadata": {
    "slideshow": {
     "slide_type": "fragment"
    }
   },
   "source": [
    "If we repeat this sample and interval constructing process, 95% of the intervals will contain the mean life expectancy for 2015"
   ]
  },
  {
   "cell_type": "markdown",
   "metadata": {
    "slideshow": {
     "slide_type": "slide"
    }
   },
   "source": [
    "# Let's get a feel for how the distribution of sample means arises\n",
    "---\n",
    "\n",
    "We'll take a bunch of resamples and visualize the distribution as the number of resamples increases."
   ]
  },
  {
   "cell_type": "code",
   "execution_count": null,
   "metadata": {
    "slideshow": {
     "slide_type": "subslide"
    }
   },
   "outputs": [],
   "source": [
    "trials = 5_000\n",
    "\n",
    "sample_means = np.array([])\n",
    "update_var = 1\n",
    "\n",
    "for i in range(trials):\n",
    "    bootstrapped = collected.sample(collected.shape[0], replace = True)\n",
    "    boot_mean = bootstrapped.get(MEASURE).mean()\n",
    "    sample_means = np.append(sample_means, boot_mean)\n",
    "    \n",
    "    # Update the plot every once in a while (more frequently at lower values)\n",
    "    if i >= update_var - 1 or i == trials - 1: # or at the last trial\n",
    "        update_var *= 1.25\n",
    "        clear_output(wait=True)\n",
    "        \n",
    "        plt.hist(sample_means, density=True, bins=get_bins(sample_means, 0.5))\n",
    "        plt.axvline(np.mean(sample_means), c='r')\n",
    "        \n",
    "        plt.pause(0.01)\n",
    "        print(\"Resamples:\\t\",i + 1)"
   ]
  },
  {
   "cell_type": "markdown",
   "metadata": {
    "slideshow": {
     "slide_type": "subslide"
    }
   },
   "source": [
    "# A bit of recap\n",
    "---\n",
    "\n",
    "Let's draw some things on the chalkboard.\n",
    "\n",
    "- Our **POPULATION DISTRIBUTION** is unknown, and can be any shape.\n",
    "\n",
    "\n",
    "- A **SAMPLE DISTRIBUTION** should have a shape roughly similar to the population distribution.  \n",
    "(provided that the sample was large enough and was properly randomized)\n",
    "\n",
    "\n",
    "- A **SAMPLE MEAN** is just the mean of that sample distribution.\n",
    "\n",
    "\n",
    "- We can collect a handful of sample means (or fake it by bootstrapping)\n",
    "\n",
    "\n",
    "- The **DISTRIBUTION OF SAMPLE MEANS** will resemble a normal distribution as the number of sample means increases. (Law of Large Numbers)\n",
    "\n",
    "\n",
    "- The **CENTER/MEAN** of the distribution of sample means should be similar to the true population mean.  \n",
    "(provided that our original sample was proper)"
   ]
  },
  {
   "cell_type": "code",
   "execution_count": null,
   "metadata": {
    "slideshow": {
     "slide_type": "fragment"
    }
   },
   "outputs": [],
   "source": [
    "# Let's try this out on another column to see if the above claims hold!"
   ]
  },
  {
   "cell_type": "markdown",
   "metadata": {
    "slideshow": {
     "slide_type": "subslide"
    }
   },
   "source": [
    "# What if I told you there's another way?\n",
    "---\n",
    "\n",
    "Since we know that a normal distribution will arise as the number of resamples increases, then do we really need to go through all the effort of running a bootstrap?\n",
    "\n",
    "Instead, we can rely on what we know about normal distributions!  The two defining features of a normal distribution are its center/mean and it's spread/standard deviation.\n",
    "\n",
    "So, what's the standard deviation of the normal distribution that arises? Let's find these values and plot the corresponding normal distribution."
   ]
  },
  {
   "cell_type": "code",
   "execution_count": null,
   "metadata": {
    "slideshow": {
     "slide_type": "subslide"
    }
   },
   "outputs": [],
   "source": [
    "# # Running a bootstrap again to get the distribution\n",
    "bootstrap_count = 5_000\n",
    "n = collected.shape[0]\n",
    "m = collected.get(MEASURE)\n",
    "resampled_means = np.array([m.iloc[np.random.choice(n,n)].mean() for i in range(5_000)])\n",
    "plt.hist(resampled_means, bins=get_bins(resampled_means, 0.5), density=True)\n",
    "\n",
    "# Plotting a normal curve over the top of it.\n",
    "mean = collected.get(MEASURE).mean() # The mean should be ..?\n",
    "# Let's figure out what the standard deviation of the sample means should be!\n",
    "std = np.std(collected.get(MEASURE)) / np.sqrt(collected.shape[0])\n",
    "# Well, it SHOULD be the population SD / sqrt(Sample Size)\n",
    "# but we can't access the population sd!  So, we use the sample sd instead.\n",
    "x = np.linspace(*plt.xlim(), 100)\n",
    "plt.plot(x, norm.pdf(x, mean, std), c='r');"
   ]
  },
  {
   "cell_type": "markdown",
   "metadata": {
    "slideshow": {
     "slide_type": "subslide"
    }
   },
   "source": [
    "So, we can create our CI mathematically instead of running the bootstrap."
   ]
  },
  {
   "cell_type": "markdown",
   "metadata": {
    "slideshow": {
     "slide_type": "fragment"
    }
   },
   "source": [
    "For our normal curve, we'll have:\n",
    "$$Mean = Sample\\ Mean$$ \n",
    "\n",
    "$$Standard\\ Deviation\\ of\\ Sample\\ Means = \\frac{Sample\\ SD}{\\sqrt{Sample\\ Size}}$$\n",
    "\n",
    "We have a distribution of different sample mean values as above.\n",
    "\n",
    "As we get more and more sample means, the mean of their distribution will approach the true population mean.\n",
    "\n",
    "The standard deviation of this distribution will keep on decreasing."
   ]
  },
  {
   "cell_type": "markdown",
   "metadata": {
    "slideshow": {
     "slide_type": "fragment"
    }
   },
   "source": [
    "Let's use the normal curve we constructed above.\n",
    "\n",
    "Now that we have a normal curve with a mean and standard deviation, how do we find the confidence interval from before?"
   ]
  },
  {
   "cell_type": "code",
   "execution_count": null,
   "metadata": {
    "slideshow": {
     "slide_type": "subslide"
    }
   },
   "outputs": [],
   "source": [
    "# We know that 95% of data is within 1.96 standard deviations of\n",
    "# the mean of a normal distribution.\n",
    "\n",
    "# Sample mean (20 countries)\n",
    "mean = collected.get(MEASURE).mean()\n",
    "\n",
    "# What's the SD of the distrib. of sample means again?\n",
    "std = np.std(collected.get(MEASURE)) / np.sqrt(collected.shape[0])\n",
    "\n",
    "percent_95_limit = 1.96 # 95% of the area under the normal dist. is within 1.96 std of the mean\n",
    "\n",
    "lower_bound = mean - 1.96 * std\n",
    "upper_bound = mean + 1.96 * std\n",
    "\n",
    "print(\"\"\"\n",
    "Mean:\\t{}\n",
    "\n",
    "Lower:\\t{}\n",
    "Upper:\\t{}\n",
    "\n",
    "Level:\\t95%\n",
    "\"\"\".format(mean, lower_bound, upper_bound))"
   ]
  },
  {
   "cell_type": "markdown",
   "metadata": {
    "slideshow": {
     "slide_type": "subslide"
    }
   },
   "source": [
    "Just like before, I'm curious to see the difference between our bounds and mean."
   ]
  },
  {
   "cell_type": "code",
   "execution_count": null,
   "metadata": {
    "slideshow": {
     "slide_type": "fragment"
    }
   },
   "outputs": [],
   "source": [
    "mean-lower_bound"
   ]
  },
  {
   "cell_type": "code",
   "execution_count": null,
   "metadata": {
    "slideshow": {
     "slide_type": "fragment"
    }
   },
   "outputs": [],
   "source": [
    "upper_bound-mean"
   ]
  },
  {
   "cell_type": "code",
   "execution_count": null,
   "metadata": {
    "slideshow": {
     "slide_type": "subslide"
    }
   },
   "outputs": [],
   "source": [
    "# How close were we to our bootstrap confidence interval?"
   ]
  },
  {
   "cell_type": "markdown",
   "metadata": {
    "slideshow": {
     "slide_type": "fragment"
    }
   },
   "source": [
    "```\n",
    "very close\n",
    "```"
   ]
  },
  {
   "cell_type": "code",
   "execution_count": null,
   "metadata": {
    "slideshow": {
     "slide_type": "fragment"
    }
   },
   "outputs": [],
   "source": [
    "# What happens if we decrease/increase the number of resamples?"
   ]
  },
  {
   "cell_type": "markdown",
   "metadata": {
    "slideshow": {
     "slide_type": "fragment"
    }
   },
   "source": [
    "```\n",
    "Less / More?\n",
    "decrease: ... like mathmatically calculated lower and upper bounds\n",
    "increase: ... like mathmatically calculated lower and upper bounds\n",
    "```"
   ]
  },
  {
   "cell_type": "markdown",
   "metadata": {
    "slideshow": {
     "slide_type": "subslide"
    }
   },
   "source": [
    "Cool!  Now, since we do have the *\"population\"* that we're estimating, let's check the validity of our confidence interval."
   ]
  },
  {
   "cell_type": "code",
   "execution_count": null,
   "metadata": {
    "slideshow": {
     "slide_type": "fragment"
    }
   },
   "outputs": [],
   "source": [
    "# What was the population mean?\n",
    "pop_mean = data.get(MEASURE).mean()\n",
    "pop_mean"
   ]
  },
  {
   "cell_type": "code",
   "execution_count": null,
   "metadata": {
    "slideshow": {
     "slide_type": "fragment"
    }
   },
   "outputs": [],
   "source": [
    "# Is the population mean inside of our interval?\n",
    "lower_bound <= pop_mean <= upper_bound"
   ]
  },
  {
   "cell_type": "markdown",
   "metadata": {
    "slideshow": {
     "slide_type": "slide"
    }
   },
   "source": [
    "# Interval widths\n",
    "---\n",
    "\n",
    "What if we think our interval size is too big?  How does our interval size change as other parameters change?"
   ]
  },
  {
   "cell_type": "markdown",
   "metadata": {
    "slideshow": {
     "slide_type": "subslide"
    }
   },
   "source": [
    "# Provided that we want to keep 95% level of confidence, how will we narrow our interval width?"
   ]
  },
  {
   "cell_type": "code",
   "execution_count": null,
   "metadata": {
    "slideshow": {
     "slide_type": "fragment"
    }
   },
   "outputs": [],
   "source": [
    "# BEFORE we answer that, let's think about one more thing:\n",
    "#\n",
    "# What is the width of our interval, in terms of our mean and standard deviation?"
   ]
  },
  {
   "cell_type": "markdown",
   "metadata": {
    "slideshow": {
     "slide_type": "fragment"
    }
   },
   "source": [
    "\n",
    "$$Interval\\ Width = 4\\cdot Sample\\ Mean\\ Standard\\ Deviation$$\n",
    "$$= 4\\cdot \\frac{Sample\\ SD}{\\sqrt{Sample\\ Size}}$$"
   ]
  },
  {
   "cell_type": "markdown",
   "metadata": {
    "slideshow": {
     "slide_type": "fragment"
    }
   },
   "source": [
    "```\n",
    "Decrease the sample deviation? Increase the sample size?\n",
    "```"
   ]
  },
  {
   "cell_type": "markdown",
   "metadata": {
    "slideshow": {
     "slide_type": "subslide"
    }
   },
   "source": [
    "# Whats potentially wrong with what we've done above?"
   ]
  },
  {
   "cell_type": "markdown",
   "metadata": {
    "slideshow": {
     "slide_type": "fragment"
    }
   },
   "source": [
    "```\n",
    "Our sample probably isn't big enough to be very reliable. There are almost 200 countries in the world, and each can have very unique characteristics.\n",
    "\n",
    "Therefore there may be very large variance in the population distribution. The sample size of 20 is around 10% of the. original dist. It may not be enough to represent all the countries. However, if we were working on something else, for example weight and height statistics in humans, than it could be appropriate.\n",
    "```"
   ]
  },
  {
   "cell_type": "code",
   "execution_count": null,
   "metadata": {
    "slideshow": {
     "slide_type": "subslide"
    }
   },
   "outputs": [],
   "source": [
    "# What happens if we can't tolerate a 5% chance of being wrong?\n",
    "#\n",
    "# If this is really important, we may want 99.7% confidence!\n",
    "#\n",
    "# What will happen to the width of our interval?"
   ]
  },
  {
   "cell_type": "markdown",
   "metadata": {
    "slideshow": {
     "slide_type": "fragment"
    }
   },
   "source": [
    "```\n",
    "As we require more and more confidence, the width of the CI decreases / increases?\n",
    "```"
   ]
  },
  {
   "cell_type": "markdown",
   "metadata": {
    "slideshow": {
     "slide_type": "subslide"
    }
   },
   "source": [
    "# What will our interval width be in term of mean and standard deviation?"
   ]
  },
  {
   "cell_type": "markdown",
   "metadata": {
    "slideshow": {
     "slide_type": "fragment"
    }
   },
   "source": [
    "To answer this, we need to know the \"Empirical Rule\".\n",
    "\n",
    "For a normal distribution, we have approximately:"
   ]
  },
  {
   "cell_type": "markdown",
   "metadata": {
    "slideshow": {
     "slide_type": "fragment"
    }
   },
   "source": [
    "|# of SD away from mean|% of data contained in ± #SD|\n",
    "|---|---|\n",
    "|1|68%|\n",
    "|2|95%|\n",
    "|3|99.7%|"
   ]
  },
  {
   "cell_type": "code",
   "execution_count": null,
   "metadata": {
    "slideshow": {
     "slide_type": "subslide"
    }
   },
   "outputs": [],
   "source": [
    "# So, we can calculate the CI if we need 99.7% confidence\n",
    "\n",
    "mean = collected.get(MEASURE).mean()\n",
    "\n",
    "std = np.std(collected.get(MEASURE)) / np.sqrt(collected.shape[0])\n",
    "\n",
    "lower_bound_997 = mean - 3 * std\n",
    "upper_bound_997 = mean + 3 * std\n",
    "\n",
    "print(\"\"\"\n",
    " Mean:\\t{}\n",
    "\n",
    "Lower:\\t{}\n",
    "Upper:\\t{}\n",
    "\n",
    "Level:\\t99.7%\n",
    "\"\"\".format(mean, lower_bound_997, upper_bound_997))"
   ]
  },
  {
   "cell_type": "code",
   "execution_count": null,
   "metadata": {
    "slideshow": {
     "slide_type": "subslide"
    }
   },
   "outputs": [],
   "source": [
    "# Let's look at the bounds for 95% versus 99.7% confidence\n",
    "print(\"\"\"\n",
    "95% Lower:\\t{0}\\t99.7% Lower:\\t{2}\n",
    "95% Upper:\\t{1}\\t99.7% Upper:\\t{3}\n",
    "\"\"\".format(lower_bound, upper_bound, lower_bound_997, upper_bound_997))"
   ]
  },
  {
   "cell_type": "markdown",
   "metadata": {},
   "source": [
    "### Question: Can we have a 100% confidence interval? If so when?"
   ]
  },
  {
   "cell_type": "markdown",
   "metadata": {},
   "source": [
    "### It is easy for fully deterministic systems. You know everything already, there is no randomness."
   ]
  },
  {
   "cell_type": "markdown",
   "metadata": {},
   "source": [
    "### How about a random event? When can we have 100% confidence in a certain interval?"
   ]
  },
  {
   "cell_type": "code",
   "execution_count": null,
   "metadata": {},
   "outputs": [],
   "source": []
  }
 ],
 "metadata": {
  "celltoolbar": "Slideshow",
  "kernelspec": {
   "display_name": "Python 3",
   "language": "python",
   "name": "python3"
  },
  "language_info": {
   "codemirror_mode": {
    "name": "ipython",
    "version": 3
   },
   "file_extension": ".py",
   "mimetype": "text/x-python",
   "name": "python",
   "nbconvert_exporter": "python",
   "pygments_lexer": "ipython3",
   "version": "3.7.3"
  }
 },
 "nbformat": 4,
 "nbformat_minor": 2
}
