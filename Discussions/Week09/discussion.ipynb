{
 "cells": [
  {
   "cell_type": "code",
   "execution_count": 1,
   "metadata": {
    "slideshow": {
     "slide_type": "skip"
    }
   },
   "outputs": [],
   "source": [
    "import babypandas as bpd\n",
    "import numpy as np\n",
    "import matplotlib.pyplot as plt\n",
    "plt.style.use(\"fivethirtyeight\")\n",
    "%matplotlib inline"
   ]
  },
  {
   "cell_type": "markdown",
   "metadata": {
    "slideshow": {
     "slide_type": "slide"
    }
   },
   "source": [
    "# Week 9: Ice cream and shark attacks\n",
    "---\n",
    "\n",
    "Today we'll be looking at Ice Cream, Fudge, and Sharks!"
   ]
  },
  {
   "cell_type": "code",
   "execution_count": 2,
   "metadata": {
    "slideshow": {
     "slide_type": "subslide"
    }
   },
   "outputs": [
    {
     "data": {
      "text/html": [
       "<div>\n",
       "<style scoped>\n",
       "    .dataframe tbody tr th:only-of-type {\n",
       "        vertical-align: middle;\n",
       "    }\n",
       "\n",
       "    .dataframe tbody tr th {\n",
       "        vertical-align: top;\n",
       "    }\n",
       "\n",
       "    .dataframe thead th {\n",
       "        text-align: right;\n",
       "    }\n",
       "</style>\n",
       "<table border=\"1\" class=\"dataframe\">\n",
       "  <thead>\n",
       "    <tr style=\"text-align: right;\">\n",
       "      <th></th>\n",
       "      <th>Ice Cream Sales (cones)</th>\n",
       "      <th>Fudge Sale Volume (g)</th>\n",
       "      <th>Shark Attacks</th>\n",
       "    </tr>\n",
       "  </thead>\n",
       "  <tbody>\n",
       "    <tr>\n",
       "      <th>0</th>\n",
       "      <td>20</td>\n",
       "      <td>5090.230379</td>\n",
       "      <td>296.0</td>\n",
       "    </tr>\n",
       "    <tr>\n",
       "      <th>1</th>\n",
       "      <td>21</td>\n",
       "      <td>5835.929912</td>\n",
       "      <td>254.0</td>\n",
       "    </tr>\n",
       "    <tr>\n",
       "      <th>2</th>\n",
       "      <td>22</td>\n",
       "      <td>6015.842367</td>\n",
       "      <td>448.0</td>\n",
       "    </tr>\n",
       "    <tr>\n",
       "      <th>3</th>\n",
       "      <td>23</td>\n",
       "      <td>6074.030582</td>\n",
       "      <td>239.0</td>\n",
       "    </tr>\n",
       "    <tr>\n",
       "      <th>4</th>\n",
       "      <td>24</td>\n",
       "      <td>5876.716421</td>\n",
       "      <td>347.0</td>\n",
       "    </tr>\n",
       "    <tr>\n",
       "      <th>...</th>\n",
       "      <td>...</td>\n",
       "      <td>...</td>\n",
       "      <td>...</td>\n",
       "    </tr>\n",
       "    <tr>\n",
       "      <th>95</th>\n",
       "      <td>116</td>\n",
       "      <td>6391.581016</td>\n",
       "      <td>2186.0</td>\n",
       "    </tr>\n",
       "    <tr>\n",
       "      <th>96</th>\n",
       "      <td>117</td>\n",
       "      <td>7429.923774</td>\n",
       "      <td>2470.0</td>\n",
       "    </tr>\n",
       "    <tr>\n",
       "      <th>97</th>\n",
       "      <td>118</td>\n",
       "      <td>7496.537723</td>\n",
       "      <td>1872.0</td>\n",
       "    </tr>\n",
       "    <tr>\n",
       "      <th>98</th>\n",
       "      <td>119</td>\n",
       "      <td>8995.265802</td>\n",
       "      <td>2035.0</td>\n",
       "    </tr>\n",
       "    <tr>\n",
       "      <th>99</th>\n",
       "      <td>120</td>\n",
       "      <td>8594.133216</td>\n",
       "      <td>2091.0</td>\n",
       "    </tr>\n",
       "  </tbody>\n",
       "</table>\n",
       "<p>100 rows × 3 columns</p>\n",
       "</div>"
      ],
      "text/plain": [
       "    Ice Cream Sales (cones)  Fudge Sale Volume (g)  Shark Attacks\n",
       "0                        20            5090.230379          296.0\n",
       "1                        21            5835.929912          254.0\n",
       "2                        22            6015.842367          448.0\n",
       "3                        23            6074.030582          239.0\n",
       "4                        24            5876.716421          347.0\n",
       "..                      ...                    ...            ...\n",
       "95                      116            6391.581016         2186.0\n",
       "96                      117            7429.923774         2470.0\n",
       "97                      118            7496.537723         1872.0\n",
       "98                      119            8995.265802         2035.0\n",
       "99                      120            8594.133216         2091.0\n",
       "\n",
       "[100 rows x 3 columns]"
      ]
     },
     "execution_count": 2,
     "metadata": {},
     "output_type": "execute_result"
    }
   ],
   "source": [
    "tbl = bpd.read_csv(\"ice-cream-stats.csv\")\n",
    "tbl"
   ]
  },
  {
   "cell_type": "code",
   "execution_count": 3,
   "metadata": {
    "slideshow": {
     "slide_type": "fragment"
    }
   },
   "outputs": [],
   "source": [
    "# Let's set some variables to the columns for easier reference\n",
    "ice, fudge, shark = tbl.get(\"Ice Cream Sales (cones)\"), tbl.get(\"Fudge Sale Volume (g)\"), tbl.get(\"Shark Attacks\") "
   ]
  },
  {
   "cell_type": "markdown",
   "metadata": {
    "slideshow": {
     "slide_type": "slide"
    }
   },
   "source": [
    "# First, let's cement some knowledge\n",
    "---"
   ]
  },
  {
   "cell_type": "markdown",
   "metadata": {
    "slideshow": {
     "slide_type": "fragment"
    }
   },
   "source": [
    "Before we get into it, let's make sure we are clear on a few things related to distributions, confidence intervals, hypothesis testing, etc.  Let's draw it all out on the chalkboard:\n",
    "\n",
    "1. **Population**\n",
    "   - Distribution\n",
    "   - Population Parameters\n",
    "     - Mean, SD, others\n",
    "     \n",
    "     \n",
    "2. **Sample**\n",
    "   - How to obtain (without replacement from pop)\n",
    "   - Distribution\n",
    "   - Sample Statistics\n",
    "     - Mean, SD, others\n",
    "     \n",
    "     \n",
    "3. **Distribution of Sample Statistics**\n",
    "   - How to obtain (with replacement from sample, or mathematically)\n",
    "   - Distribution\n",
    "     - What is the statistic?\n",
    "   - Features\n",
    "     - Mean, SD"
   ]
  },
  {
   "cell_type": "markdown",
   "metadata": {
    "slideshow": {
     "slide_type": "subslide"
    }
   },
   "source": [
    "# Let's talk about relationships\n",
    "---\n",
    "\n",
    "Let's consider the following table:"
   ]
  },
  {
   "cell_type": "markdown",
   "metadata": {
    "slideshow": {
     "slide_type": "fragment"
    }
   },
   "source": [
    "|x|y|\n",
    "|---|---|\n",
    "|1|1|\n",
    "|2|4|\n",
    "|4|8|\n",
    "|5|10|"
   ]
  },
  {
   "cell_type": "markdown",
   "metadata": {
    "slideshow": {
     "slide_type": "fragment"
    }
   },
   "source": [
    "If we were to receive an $x=3$, what would we expect the corresponding $y$ to equal? Why?\n",
    "\n",
    "Does this expectation seem like a solid choice?"
   ]
  },
  {
   "cell_type": "markdown",
   "metadata": {
    "slideshow": {
     "slide_type": "subslide"
    }
   },
   "source": [
    "```\n",
    "We expect that y=6.\n",
    "\n",
    "We see a perfect linear relationship between x and y, where y = 2x.\n",
    "\n",
    "This expectation seems very solid, as data on either side of x=3 exhibits this exact trend.\n",
    "```"
   ]
  },
  {
   "cell_type": "markdown",
   "metadata": {
    "slideshow": {
     "slide_type": "subslide"
    }
   },
   "source": [
    "Now, let's consider what we expect the value of $y$ to equal when we receive an $x=6$.\n",
    "\n",
    "Given x := 6, what do we expect y to equal?\n",
    "\n",
    "Does this expectation seem like a solid choice?"
   ]
  },
  {
   "cell_type": "markdown",
   "metadata": {
    "slideshow": {
     "slide_type": "fragment"
    }
   },
   "source": [
    "```\n",
    "While we'd like to say that y should equal 12, we're extrapolating beyond our data set, so this is risky!\n",
    "```"
   ]
  },
  {
   "cell_type": "markdown",
   "metadata": {
    "slideshow": {
     "slide_type": "subslide"
    }
   },
   "source": [
    "What about the following graph of `Ice Cream Sales` versus `Fudge Sales Volume`?"
   ]
  },
  {
   "cell_type": "code",
   "execution_count": 6,
   "metadata": {},
   "outputs": [
    {
     "data": {
      "text/plain": [
       "<matplotlib.axes._subplots.AxesSubplot at 0x7f25baec9668>"
      ]
     },
     "execution_count": 6,
     "metadata": {},
     "output_type": "execute_result"
    },
    {
     "data": {
      "image/png": "[encoded data removed]",
      "text/plain": [
       "<Figure size 432x288 with 1 Axes>"
      ]
     },
     "metadata": {
      "needs_background": "light"
     },
     "output_type": "display_data"
    }
   ],
   "source": [
    "tbl.plot(kind = \"scatter\", x = \"Ice Cream Sales (cones)\", y = \"Fudge Sale Volume (g)\")"
   ]
  },
  {
   "cell_type": "markdown",
   "metadata": {
    "slideshow": {
     "slide_type": "subslide"
    }
   },
   "source": [
    "What, roughly, would we expect $Fudge\\ Sales\\ Volume$ to equal provided that $Ice\\ Cream\\ Sales = 100$?"
   ]
  },
  {
   "cell_type": "markdown",
   "metadata": {
    "slideshow": {
     "slide_type": "fragment"
    }
   },
   "source": [
    "```\n",
    "When Ice Cream = 100, Fudge ≈ 2000.\n",
    "```"
   ]
  },
  {
   "cell_type": "markdown",
   "metadata": {
    "slideshow": {
     "slide_type": "slide"
    }
   },
   "source": [
    "Let's focus on our justification for coming up with a value for $Fudge$.  We saw a strong *relationship* between $Ice \\ Cream$ and $Fudge$.  What does that mean?\n",
    "\n",
    "If we're speaking statistically, then we consider `relationship == association`.  And an association really boils down to the following claim:  \n",
    "\n",
    "<center>\"When this changes value, then that changes value too.\"</center>"
   ]
  },
  {
   "cell_type": "markdown",
   "metadata": {
    "slideshow": {
     "slide_type": "subslide"
    }
   },
   "source": [
    "# Correlation\n",
    "---\n",
    "\n",
    "What does correlation (or the correlation coefficient) tell us?"
   ]
  },
  {
   "cell_type": "markdown",
   "metadata": {
    "slideshow": {
     "slide_type": "fragment"
    }
   },
   "source": [
    "```\n",
    "How linear the relationship between x and y is.\n",
    "```"
   ]
  },
  {
   "cell_type": "markdown",
   "metadata": {
    "slideshow": {
     "slide_type": "subslide"
    }
   },
   "source": [
    "Correlation can be positive or negative, and it can be perfect, strong, moderate, weak, or zero.  We can also quantify it using the correlation coefficient, $r$.\n",
    "\n",
    "So, going back to our table of $x$ and $y$ above, what correlation do we see?  What about for $Ice\\ Cream$ and $Fudge$?"
   ]
  },
  {
   "cell_type": "code",
   "execution_count": 5,
   "metadata": {
    "slideshow": {
     "slide_type": "fragment"
    }
   },
   "outputs": [],
   "source": [
    "# What is the correlation (qualitatively) between x and y?"
   ]
  },
  {
   "cell_type": "markdown",
   "metadata": {
    "slideshow": {
     "slide_type": "fragment"
    }
   },
   "source": [
    "```\n",
    "x and y are perfectly positively correlated\n",
    "```"
   ]
  },
  {
   "cell_type": "code",
   "execution_count": 49,
   "metadata": {
    "slideshow": {
     "slide_type": "subslide"
    }
   },
   "outputs": [],
   "source": [
    "# Ice Cream and Fudge are strongly associated.\n",
    "# What is the correlation between Ice Cream and Fudge?  Is it a strong correlation?"
   ]
  },
  {
   "cell_type": "markdown",
   "metadata": {
    "slideshow": {
     "slide_type": "fragment"
    }
   },
   "source": [
    "```\n",
    "No, the relationship between Ice Cream and Fudge is not linear, so there is not a strong correlation.\n",
    "```"
   ]
  },
  {
   "cell_type": "markdown",
   "metadata": {
    "slideshow": {
     "slide_type": "subslide"
    }
   },
   "source": [
    "So, how do we go about measuring the correlation (finding the correlation coefficient)?\n",
    "\n",
    "We must first put our x and y values into *\"standard units\"*.  Recall, to put a point into standard units, what formula is used?"
   ]
  },
  {
   "cell_type": "code",
   "execution_count": 7,
   "metadata": {
    "slideshow": {
     "slide_type": "fragment"
    }
   },
   "outputs": [],
   "source": [
    "# First, what does it mean (in words) for something a point to be `n` in standard units?"
   ]
  },
  {
   "cell_type": "markdown",
   "metadata": {
    "slideshow": {
     "slide_type": "fragment"
    }
   },
   "source": [
    "```\n",
    "It means that point is n standard deviations away from the mean of the data set.\n",
    "```"
   ]
  },
  {
   "cell_type": "markdown",
   "metadata": {
    "slideshow": {
     "slide_type": "subslide"
    }
   },
   "source": [
    "For some data set, $X$, let $x_i = some\\ datapoint\\ in\\ X$\n",
    "\n",
    "Then, $x_{i, SU} =$ ??\n",
    "\n",
    "\n",
    "And, replacing $x_i$ with all of our datapoints, $X$, we can convert the entire data set into standard units."
   ]
  },
  {
   "cell_type": "markdown",
   "metadata": {
    "slideshow": {
     "slide_type": "skip"
    }
   },
   "source": [
    "$$\\frac{x_i-mean_X}{SD_X}$$"
   ]
  },
  {
   "cell_type": "code",
   "execution_count": 8,
   "metadata": {
    "slideshow": {
     "slide_type": "subslide"
    }
   },
   "outputs": [],
   "source": [
    "# Before we convert Ice Cream and Fudge to SU, what do we know about what the scatter plot\n",
    "# will look like after converting both?"
   ]
  },
  {
   "cell_type": "markdown",
   "metadata": {
    "slideshow": {
     "slide_type": "fragment"
    }
   },
   "source": [
    "```\n",
    "The shape of the plot will remain the same.\n",
    "```"
   ]
  },
  {
   "cell_type": "code",
   "execution_count": 9,
   "metadata": {
    "slideshow": {
     "slide_type": "fragment"
    }
   },
   "outputs": [],
   "source": [
    "# Let's write a quick standard units function\n",
    "def standard_units(array):\n",
    "    return (array - array.mean()) / np.std(array)"
   ]
  },
  {
   "cell_type": "code",
   "execution_count": 10,
   "metadata": {
    "slideshow": {
     "slide_type": "subslide"
    }
   },
   "outputs": [
    {
     "data": {
      "image/png": "[encoded data removed]",
      "text/plain": [
       "<Figure size 432x288 with 1 Axes>"
      ]
     },
     "metadata": {
      "needs_background": "light"
     },
     "output_type": "display_data"
    }
   ],
   "source": [
    "ice_su = standard_units(ice)\n",
    "fudge_su = standard_units(fudge)\n",
    "\n",
    "plt.scatter(ice_su, fudge_su)\n",
    "plt.xlabel(\"Ice Cream Sales (cones) In Standard Units\"); plt.ylabel(\"Fudge Sale Volume (g) In Standard Units\");"
   ]
  },
  {
   "cell_type": "code",
   "execution_count": 11,
   "metadata": {
    "slideshow": {
     "slide_type": "fragment"
    }
   },
   "outputs": [],
   "source": [
    "# What changed between the two plots?"
   ]
  },
  {
   "cell_type": "markdown",
   "metadata": {
    "slideshow": {
     "slide_type": "fragment"
    }
   },
   "source": [
    "```\n",
    "The units/scale of the axes changed.\n",
    "```"
   ]
  },
  {
   "cell_type": "markdown",
   "metadata": {
    "slideshow": {
     "slide_type": "subslide"
    }
   },
   "source": [
    "Out of curiosity, what do you expect the mean and standard deviation of $a_{SU}$ to be?  What about $b_{SU}$?"
   ]
  },
  {
   "cell_type": "code",
   "execution_count": 13,
   "metadata": {
    "slideshow": {
     "slide_type": "fragment"
    }
   },
   "outputs": [
    {
     "data": {
      "text/plain": [
       "1.7763568394002505e-17"
      ]
     },
     "execution_count": 13,
     "metadata": {},
     "output_type": "execute_result"
    }
   ],
   "source": [
    "fudge_su.mean()"
   ]
  },
  {
   "cell_type": "code",
   "execution_count": 16,
   "metadata": {
    "slideshow": {
     "slide_type": "fragment"
    }
   },
   "outputs": [
    {
     "data": {
      "text/plain": [
       "0.9999999999999999"
      ]
     },
     "execution_count": 16,
     "metadata": {},
     "output_type": "execute_result"
    }
   ],
   "source": [
    "np.std(fudge_su)"
   ]
  },
  {
   "cell_type": "markdown",
   "metadata": {
    "slideshow": {
     "slide_type": "subslide"
    }
   },
   "source": [
    "Now, to find our correlation coefficient between two data sets, $X$ and $Y$, there is one more formula.  It's written as?"
   ]
  },
  {
   "cell_type": "markdown",
   "metadata": {
    "slideshow": {
     "slide_type": "skip"
    }
   },
   "source": [
    "$$r = mean[X_{SU} * Y_{SU}]$$"
   ]
  },
  {
   "cell_type": "code",
   "execution_count": 18,
   "metadata": {
    "slideshow": {
     "slide_type": "fragment"
    }
   },
   "outputs": [
    {
     "data": {
      "text/plain": [
       "-0.4709721009919221"
      ]
     },
     "execution_count": 18,
     "metadata": {},
     "output_type": "execute_result"
    }
   ],
   "source": [
    "# Calculate the correlation coefficient between a and b\n",
    "\n",
    "r = (ice_su * fudge_su).mean()\n",
    "r"
   ]
  },
  {
   "cell_type": "markdown",
   "metadata": {
    "slideshow": {
     "slide_type": "subslide"
    }
   },
   "source": [
    "Recalling what the correlation between two data sets tells us, what does this really mean?"
   ]
  },
  {
   "cell_type": "code",
   "execution_count": 15,
   "metadata": {
    "slideshow": {
     "slide_type": "fragment"
    }
   },
   "outputs": [],
   "source": [
    "# In words, what does our correlation coefficient mean?"
   ]
  },
  {
   "cell_type": "markdown",
   "metadata": {
    "slideshow": {
     "slide_type": "fragment"
    }
   },
   "source": [
    "```\n",
    "There is a moderately-weak negative linear relationship between ice cream sales and fudge sales.\n",
    "```"
   ]
  },
  {
   "cell_type": "markdown",
   "metadata": {
    "slideshow": {
     "slide_type": "slide"
    }
   },
   "source": [
    "# Onwards, to regression!\n",
    "---\n",
    "\n",
    "So, we have a correlation coefficient now.  What can we do with it?\n",
    "\n",
    "One idea is to plot it somehow.  But how?"
   ]
  },
  {
   "cell_type": "code",
   "execution_count": 19,
   "metadata": {
    "slideshow": {
     "slide_type": "subslide"
    }
   },
   "outputs": [
    {
     "data": {
      "image/png": "[encoded data removed]",
      "text/plain": [
       "<Figure size 432x288 with 1 Axes>"
      ]
     },
     "metadata": {
      "needs_background": "light"
     },
     "output_type": "display_data"
    }
   ],
   "source": [
    "# Let's try incorporating the correlation coefficient into our plot\n",
    "\n",
    "plt.scatter(ice_su, fudge_su)\n",
    "plt.plot(np.linspace(-2, 2, 2), np.linspace(-2, 2, 2)*r, c='red')\n",
    "plt.xlabel(\"Ice Cream Sales (cones) In Standard Units\"); plt.ylabel(\"Fudge Sale Volume (g) In Standard Units\");"
   ]
  },
  {
   "cell_type": "code",
   "execution_count": 20,
   "metadata": {
    "slideshow": {
     "slide_type": "subslide"
    }
   },
   "outputs": [],
   "source": [
    "# Now that we've incorporated r into our plot, what does r represent?"
   ]
  },
  {
   "cell_type": "markdown",
   "metadata": {
    "slideshow": {
     "slide_type": "fragment"
    }
   },
   "source": [
    "```\n",
    "It represents the slope of the best-fit line.\n",
    "```"
   ]
  },
  {
   "cell_type": "markdown",
   "metadata": {
    "slideshow": {
     "slide_type": "subslide"
    }
   },
   "source": [
    "And that's the premise of linear regression!\n",
    "\n",
    "So, before we go much further, let's figure something out: *What is the purpose of regression?*\n",
    "\n",
    "Well, it's very useful since it can help us **predict** a value when given an input.  Even if we don't have a data point we can still predict what the corresponding value would be.\n",
    "\n",
    "We've been looking just at linear regression—stuff that falls in a line—but the same concepts carry over to higher powers!\n",
    "\n",
    "How about we take a look at some data that's a bit more linear?  Take a look at the plot of $Ice\\ Cream\\ Sales$ vs $Shark\\ Attacks$."
   ]
  },
  {
   "cell_type": "code",
   "execution_count": 21,
   "metadata": {},
   "outputs": [
    {
     "data": {
      "text/plain": [
       "<matplotlib.axes._subplots.AxesSubplot at 0x7f24f83beac8>"
      ]
     },
     "execution_count": 21,
     "metadata": {},
     "output_type": "execute_result"
    },
    {
     "data": {
      "image/png": "[encoded data removed]",
      "text/plain": [
       "<Figure size 432x288 with 1 Axes>"
      ]
     },
     "metadata": {
      "needs_background": "light"
     },
     "output_type": "display_data"
    }
   ],
   "source": [
    "tbl.plot(kind = \"scatter\", x = \"Ice Cream Sales (cones)\", y = \"Shark Attacks\")"
   ]
  },
  {
   "cell_type": "markdown",
   "metadata": {
    "slideshow": {
     "slide_type": "subslide"
    }
   },
   "source": [
    "Okay, let's find the correlation coefficient so that we can plot a best fit line."
   ]
  },
  {
   "cell_type": "code",
   "execution_count": 19,
   "metadata": {
    "slideshow": {
     "slide_type": "fragment"
    }
   },
   "outputs": [],
   "source": [
    "# Before calculating anything, what do you think the correlation coefficient should be?"
   ]
  },
  {
   "cell_type": "markdown",
   "metadata": {
    "slideshow": {
     "slide_type": "fragment"
    }
   },
   "source": [
    "```\n",
    "Well, I thought that it was the slope of the best-fit line (about 2000 / 100).  But it can't be >1, so it can't be 20!  Aw man.\n",
    "```"
   ]
  },
  {
   "cell_type": "code",
   "execution_count": 22,
   "metadata": {
    "slideshow": {
     "slide_type": "subslide"
    }
   },
   "outputs": [
    {
     "data": {
      "text/plain": [
       "0.9808527710561902"
      ]
     },
     "execution_count": 22,
     "metadata": {},
     "output_type": "execute_result"
    }
   ],
   "source": [
    "# We can use the standard_units function we created\n",
    "ice_su = standard_units(ice)\n",
    "shark_su = standard_units(shark)\n",
    "\n",
    "r = (ice_su * shark_su).mean()\n",
    "r"
   ]
  },
  {
   "cell_type": "code",
   "execution_count": 24,
   "metadata": {
    "slideshow": {
     "slide_type": "subslide"
    }
   },
   "outputs": [
    {
     "data": {
      "image/png": "[encoded data removed]",
      "text/plain": [
       "<Figure size 432x288 with 1 Axes>"
      ]
     },
     "metadata": {
      "needs_background": "light"
     },
     "output_type": "display_data"
    }
   ],
   "source": [
    "# Let's plot it!\n",
    "\n",
    "xrange = np.linspace(ice.min(), ice.max(), 2)\n",
    "\n",
    "plt.scatter(ice, shark)\n",
    "plt.plot(xrange, xrange * r, c='r')\n",
    "plt.xlabel(\"Ice Cream Sales (cones)\"); plt.ylabel(\"Shark Attacks\");"
   ]
  },
  {
   "cell_type": "markdown",
   "metadata": {
    "slideshow": {
     "slide_type": "fragment"
    }
   },
   "source": [
    "Uh-oh.  What's wrong with that plot?"
   ]
  },
  {
   "cell_type": "code",
   "execution_count": 25,
   "metadata": {
    "slideshow": {
     "slide_type": "subslide"
    }
   },
   "outputs": [
    {
     "data": {
      "image/png": "[encoded data removed]",
      "text/plain": [
       "<Figure size 432x288 with 1 Axes>"
      ]
     },
     "metadata": {
      "needs_background": "light"
     },
     "output_type": "display_data"
    }
   ],
   "source": [
    "# Let's fix the plot\n",
    "\n",
    "xrange = np.linspace(ice_su.min(), ice_su.max(), 2)\n",
    "plt.scatter(ice_su, shark_su)\n",
    "plt.plot(xrange, xrange * r, c='r')\n",
    "plt.xlabel(\"Ice Cream Sales (cones) In Standard Units\"); plt.ylabel(\"Shark Attacks In Standard Units\"); "
   ]
  },
  {
   "cell_type": "code",
   "execution_count": 26,
   "metadata": {
    "slideshow": {
     "slide_type": "subslide"
    }
   },
   "outputs": [],
   "source": [
    "# What is the equation of the line we plotted?"
   ]
  },
  {
   "cell_type": "markdown",
   "metadata": {
    "slideshow": {
     "slide_type": "fragment"
    }
   },
   "source": [
    "$$y = r * x$$"
   ]
  },
  {
   "cell_type": "markdown",
   "metadata": {
    "slideshow": {
     "slide_type": "slide"
    }
   },
   "source": [
    "Cool.  I'm glad we fixed that plot.  We should be able to plug in values into our best-fit line now.  But I'm not really satisfied with the plot we ended up creating."
   ]
  },
  {
   "cell_type": "markdown",
   "metadata": {
    "slideshow": {
     "slide_type": "fragment"
    }
   },
   "source": [
    "```\n",
    "The line that we came up with is still in terms of standard units, so it's a bit too tedious to be useful!\n",
    "```"
   ]
  },
  {
   "cell_type": "markdown",
   "metadata": {
    "slideshow": {
     "slide_type": "subslide"
    }
   },
   "source": [
    "Let's go ahead and solve that problem.\n",
    "\n",
    "In order to come up with an equation for the best-fit line in original units (not standard units), what needs to be done?\n",
    "\n",
    "Well, let's examine what we'd need to change.  For starters, the best-fit line in standard units passes through (0, 0).  Second of all, it has a different slope than what we'd expect.\n",
    "\n",
    "In standard units, we have $y = rx$.  We want to put this back into original units as the form $y=mx+b$.\n",
    "\n",
    "$$m = r\\cdot \\frac{SD_y}{SD_x}$$\n",
    "\n",
    "$$b = mean_y - m\\cdot mean_x$$"
   ]
  },
  {
   "cell_type": "code",
   "execution_count": 28,
   "metadata": {
    "slideshow": {
     "slide_type": "fragment"
    }
   },
   "outputs": [],
   "source": [
    "# Let's derive this"
   ]
  },
  {
   "cell_type": "markdown",
   "metadata": {
    "slideshow": {
     "slide_type": "subslide"
    }
   },
   "source": [
    "\n",
    "$$y_{SU} = r\\cdot x_{SU}$$\n",
    "\n",
    "$$\\frac{y - mean_y}{SD_y} = r\\cdot \\frac{x-mean_x}{SD_x}$$\n",
    "\n",
    "$$\\hspace{2.85cm} y-mean_y = r\\cdot \\frac{1}{SD_x} \\cdot (x-mean_x) \\cdot SD_y$$\n",
    "\n",
    "$$\\hspace{1.6cm} y-mean_y = \\frac{r\\cdot SD_y}{SD_x} \\cdot (x-mean_x)$$\n",
    "\n",
    "$$\\hspace{2.45cm} y-mean_y = \\frac{r\\cdot SD_y}{SD_x}x - \\frac{r\\cdot SD_y}{SD_x}mean_x$$\n",
    "\n",
    "$$\\hspace{6.2cm} y = \\frac{r\\cdot SD_y}{SD_x}x + (mean_y - \\frac{r\\cdot SD_y}{SD_x}mean_x)$$\n"
   ]
  },
  {
   "cell_type": "markdown",
   "metadata": {
    "slideshow": {
     "slide_type": "subslide"
    }
   },
   "source": [
    "Great, so let's get our line into original units.  Then, we can start predicting values!"
   ]
  },
  {
   "cell_type": "code",
   "execution_count": 30,
   "metadata": {
    "slideshow": {
     "slide_type": "fragment"
    }
   },
   "outputs": [
    {
     "data": {
      "text/plain": [
       "'Shark Attacks = 18.743829246182646 * Ice Cream Sales (cones) + -141.1248984589306'"
      ]
     },
     "execution_count": 30,
     "metadata": {},
     "output_type": "execute_result"
    }
   ],
   "source": [
    "# Write the euqation of the best-fit line between\n",
    "# Ice Cream and Shark Attacks in original units.\n",
    "\n",
    "slope = r * np.std(shark) / np.std(ice)\n",
    "intercept = shark.mean() - slope * ice.mean()\n",
    "\n",
    "\"Shark Attacks = {} * Ice Cream Sales (cones) + {}\".format(slope, intercept)"
   ]
  },
  {
   "cell_type": "code",
   "execution_count": 31,
   "metadata": {
    "slideshow": {
     "slide_type": "fragment"
    }
   },
   "outputs": [
    {
     "data": {
      "image/png": "[encoded data removed]",
      "text/plain": [
       "<Figure size 432x288 with 1 Axes>"
      ]
     },
     "metadata": {
      "needs_background": "light"
     },
     "output_type": "display_data"
    }
   ],
   "source": [
    "# And plot it out\n",
    "xrange = np.linspace(ice.min(), ice.max(), 2)\n",
    "\n",
    "plt.scatter(ice, shark)\n",
    "plt.plot(xrange, slope * xrange + intercept, c='r')\n",
    "plt.xlabel(\"Ice Cream Sales (cones)\"); plt.ylabel(\"Shark Attacks\");"
   ]
  },
  {
   "cell_type": "code",
   "execution_count": 32,
   "metadata": {
    "slideshow": {
     "slide_type": "subslide"
    }
   },
   "outputs": [
    {
     "data": {
      "text/plain": [
       "1733.258026159334"
      ]
     },
     "execution_count": 32,
     "metadata": {},
     "output_type": "execute_result"
    }
   ],
   "source": [
    "# Alright, now, given an Ice Cream value of 100,\n",
    "# what do we expect the corresponding y value to be?\n",
    "\n",
    "value = slope * 100 + intercept\n",
    "value"
   ]
  },
  {
   "cell_type": "code",
   "execution_count": 33,
   "metadata": {
    "slideshow": {
     "slide_type": "fragment"
    }
   },
   "outputs": [
    {
     "data": {
      "text/plain": [
       "-141.1248984589306"
      ]
     },
     "execution_count": 33,
     "metadata": {},
     "output_type": "execute_result"
    }
   ],
   "source": [
    "# What if Ice Cream has a value of 0?\n",
    "\n",
    "value = slope * 0 + intercept\n",
    "value"
   ]
  },
  {
   "cell_type": "markdown",
   "metadata": {
    "slideshow": {
     "slide_type": "fragment"
    }
   },
   "source": [
    "```\n",
    "It's impossible to have negative shark attacks!  Regression doesn't work perfectly on data outside of our data set!\n",
    "```"
   ]
  },
  {
   "cell_type": "code",
   "execution_count": 34,
   "metadata": {},
   "outputs": [
    {
     "data": {
      "text/plain": [
       "(18.743829246182646, -141.1248984589306)"
      ]
     },
     "execution_count": 34,
     "metadata": {},
     "output_type": "execute_result"
    }
   ],
   "source": [
    "slope, intercept"
   ]
  },
  {
   "cell_type": "code",
   "execution_count": 35,
   "metadata": {
    "slideshow": {
     "slide_type": "subslide"
    }
   },
   "outputs": [],
   "source": [
    "# Interpret the best-fit line equation in words"
   ]
  },
  {
   "cell_type": "raw",
   "metadata": {
    "slideshow": {
     "slide_type": "fragment"
    }
   },
   "source": [
    "Every additional ice cream cone sold is associated with an increase of 18.7 shark attacks. 0 ice cream cones sold is associated with -141.1 shark attacks. (extrapolation problem)"
   ]
  },
  {
   "cell_type": "markdown",
   "metadata": {
    "slideshow": {
     "slide_type": "slide"
    }
   },
   "source": [
    "# Ice Cream &Rightarrow; Shark Attacks?\n",
    "---\n",
    "\n",
    "Well, we've done it!  We've figured out that there's a very strong positive correlation between ice cream sales and shark attacks.  Does this mean that ice cream sales cause increased shark attacks?"
   ]
  },
  {
   "cell_type": "code",
   "execution_count": 38,
   "metadata": {
    "slideshow": {
     "slide_type": "subslide"
    }
   },
   "outputs": [],
   "source": [
    "# Does the strong correlation imply that Ice Cream Sales causes increase shark attacks?"
   ]
  },
  {
   "cell_type": "markdown",
   "metadata": {
    "slideshow": {
     "slide_type": "fragment"
    }
   },
   "source": [
    "```\n",
    "No!  **Correlation does not imply causation**\n",
    "```"
   ]
  },
  {
   "cell_type": "markdown",
   "metadata": {
    "slideshow": {
     "slide_type": "slide"
    }
   },
   "source": [
    "# Bootstrapping For Regression\n",
    "\n",
    "We use bootstrapping in regression for two reasons:\n",
    "1. To determine if a correlation is significant\n",
    "2. To determine what range of values could be predicted given an input"
   ]
  },
  {
   "cell_type": "markdown",
   "metadata": {
    "slideshow": {
     "slide_type": "subslide"
    }
   },
   "source": [
    "## 1. Determine if a Correlation is Significant"
   ]
  },
  {
   "cell_type": "code",
   "execution_count": 48,
   "metadata": {
    "slideshow": {
     "slide_type": "subslide"
    }
   },
   "outputs": [
    {
     "name": "stdout",
     "output_type": "stream",
     "text": [
      "0, 500, 1000, 1500, 2000, 2500, 3000, 3500, 4000, 4500, 5000, 5500, 6000, 6500, 7000, 7500, 8000, 8500, 9000, 9500, "
     ]
    }
   ],
   "source": [
    "# Ice Cream vs Fudge\n",
    "correlations = np.array([])\n",
    "for i in range(10_000):\n",
    "    if i % 500 == 0: print(i, end = \", \")\n",
    "    indeces = np.random.choice(np.arange(len(ice)), size=len(ice))\n",
    "\n",
    "    bootstrap_ice_su = standard_units(ice.iloc[indeces])\n",
    "    bootstrap_fudge_su = standard_units(fudge.iloc[indeces])\n",
    "    \n",
    "    correlations = np.append(correlations, (bootstrap_ice_su * bootstrap_fudge_su).mean())"
   ]
  },
  {
   "cell_type": "code",
   "execution_count": 46,
   "metadata": {},
   "outputs": [
    {
     "data": {
      "text/plain": [
       "-0.677330972086794"
      ]
     },
     "execution_count": 46,
     "metadata": {},
     "output_type": "execute_result"
    }
   ],
   "source": [
    "np.percentile(correlations, 2.5)"
   ]
  },
  {
   "cell_type": "code",
   "execution_count": 47,
   "metadata": {
    "slideshow": {
     "slide_type": "fragment"
    }
   },
   "outputs": [
    {
     "data": {
      "text/plain": [
       "(-0.677330972086794, -0.2660235699563692)"
      ]
     },
     "execution_count": 47,
     "metadata": {},
     "output_type": "execute_result"
    }
   ],
   "source": [
    "np.percentile(correlations, 2.5), np.percentile(correlations, 97.5)"
   ]
  },
  {
   "cell_type": "code",
   "execution_count": null,
   "metadata": {},
   "outputs": [],
   "source": [
    "# Ice Cream vs Fudge\n",
    "correlations = np.array([])\n",
    "for i in range(10_000):\n",
    "    if i % 500 == 0: print(i, end = \", \")\n",
    "    indexes = np.random.choice(np.arange(len(ice)), size=len(ice))\n",
    "\n",
    "    bootstrap_ice_su = standard_units(ice.iloc[indexes])\n",
    "    bootstrap_fudge_su = standard_units(fudge.iloc[indexes])\n",
    "    \n",
    "    correlations = np.append(correlations, (bootstrap_ice_su * bootstrap_fudge_su).mean())"
   ]
  },
  {
   "cell_type": "code",
   "execution_count": 50,
   "metadata": {
    "slideshow": {
     "slide_type": "subslide"
    }
   },
   "outputs": [
    {
     "name": "stdout",
     "output_type": "stream",
     "text": [
      "0, 500, 1000, 1500, 2000, 2500, 3000, 3500, 4000, 4500, 5000, 5500, 6000, 6500, 7000, 7500, 8000, 8500, 9000, 9500, "
     ]
    }
   ],
   "source": [
    "# Ice Cream vs Shark Attacks\n",
    "correlations = np.array([])\n",
    "for i in range(10000):\n",
    "    if i % 500 == 0: print(i, end = \", \")\n",
    "    indeces = np.random.choice(len(ice), len(ice))\n",
    "    \n",
    "    bootstrap_ice_su = standard_units(ice.iloc[indeces])\n",
    "    bootstrap_shark_su = standard_units(shark.iloc[indeces])\n",
    "    \n",
    "    correlations = np.append(correlations, (bootstrap_ice_su * bootstrap_shark_su).mean())"
   ]
  },
  {
   "cell_type": "code",
   "execution_count": 51,
   "metadata": {
    "slideshow": {
     "slide_type": "fragment"
    }
   },
   "outputs": [
    {
     "data": {
      "text/plain": [
       "(0.9739680378512935, 0.9870297372462076)"
      ]
     },
     "execution_count": 51,
     "metadata": {},
     "output_type": "execute_result"
    }
   ],
   "source": [
    "np.percentile(correlations, 2.5), np.percentile(correlations, 97.5)"
   ]
  },
  {
   "cell_type": "markdown",
   "metadata": {
    "slideshow": {
     "slide_type": "subslide"
    }
   },
   "source": [
    "## 2. Determine the range of predictions for an input"
   ]
  },
  {
   "cell_type": "code",
   "execution_count": 54,
   "metadata": {
    "slideshow": {
     "slide_type": "subslide"
    }
   },
   "outputs": [],
   "source": [
    "preds = np.array([])\n",
    "for i in range(1000):\n",
    "    indeces = np.random.choice(len(ice), len(ice))\n",
    "\n",
    "    bootstrap_ice_su = standard_units(ice.iloc[indexes])\n",
    "    bootstrap_shark_su = standard_units(shark.iloc[indexes])\n",
    "    \n",
    "    r = (bootstrap_ice_su * bootstrap_shark_su).mean()\n",
    "    slope = r * np.std(shark.iloc[indeces]) / np.std(ice.iloc[indeces])\n",
    "    intercept = shark.iloc[indeces].mean() - slope * (ice.iloc[indeces]).mean()\n",
    "\n",
    "    preds = np.append(preds, slope * 100 + intercept)"
   ]
  },
  {
   "cell_type": "code",
   "execution_count": 55,
   "metadata": {
    "slideshow": {
     "slide_type": "fragment"
    }
   },
   "outputs": [
    {
     "data": {
      "text/plain": [
       "(1694.558541068014, 1770.5257363500607)"
      ]
     },
     "execution_count": 55,
     "metadata": {},
     "output_type": "execute_result"
    }
   ],
   "source": [
    "np.percentile(preds, 2.5), np.percentile(preds, 97.5)"
   ]
  },
  {
   "cell_type": "markdown",
   "metadata": {
    "slideshow": {
     "slide_type": "slide"
    }
   },
   "source": [
    "# Bonus!\n",
    "---\n",
    "In addition to the correlation coefficient, $r$, there is also a *\"coefficient of determination\"*, $r^2$, which is defined as:\n",
    "> The proportion of the variance in the dependent variable that explained by the best-fit line.\n",
    "\n",
    "Let's interpret it in terms of Ice Cream Sales and Shark Attacks!"
   ]
  },
  {
   "cell_type": "code",
   "execution_count": 39,
   "metadata": {
    "slideshow": {
     "slide_type": "fragment"
    }
   },
   "outputs": [
    {
     "data": {
      "text/plain": [
       "0.962072158488607"
      ]
     },
     "execution_count": 39,
     "metadata": {},
     "output_type": "execute_result"
    }
   ],
   "source": [
    "# Interpret (in words) the coefficient of determination\n",
    "\n",
    "r2 = r**2\n",
    "r2"
   ]
  },
  {
   "cell_type": "markdown",
   "metadata": {
    "slideshow": {
     "slide_type": "fragment"
    }
   },
   "source": [
    "```\n",
    "The best-fit line explains 96% of the variation in the number of Shark Attacks.\n",
    "```"
   ]
  }
 ],
 "metadata": {
  "celltoolbar": "Slideshow",
  "kernelspec": {
   "display_name": "Python 3",
   "language": "python",
   "name": "python3"
  },
  "language_info": {
   "codemirror_mode": {
    "name": "ipython",
    "version": 3
   },
   "file_extension": ".py",
   "mimetype": "text/x-python",
   "name": "python",
   "nbconvert_exporter": "python",
   "pygments_lexer": "ipython3",
   "version": "3.7.3"
  }
 },
 "nbformat": 4,
 "nbformat_minor": 2
}
