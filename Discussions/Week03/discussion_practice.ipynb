{
 "cells": [
  {
   "cell_type": "code",
   "execution_count": null,
   "metadata": {
    "slideshow": {
     "slide_type": "skip"
    }
   },
   "outputs": [],
   "source": [
    "import pandas as bpd\n",
    "import numpy as np\n",
    "from notebook.services.config import ConfigManager\n",
    "import matplotlib.pyplot as plt\n",
    "%matplotlib inline\n",
    "\n",
    "cm = ConfigManager()\n",
    "cm.update(\n",
    "    \"livereveal\", {\n",
    "        \"width\": \"90%\",\n",
    "        \"height\": \"70%\",\n",
    "        \"scroll\": True,\n",
    "})"
   ]
  },
  {
   "cell_type": "markdown",
   "metadata": {
    "slideshow": {
     "slide_type": "slide"
    }
   },
   "source": [
    "# DSC 10 Discussion Week 3\n",
    "---"
   ]
  },
  {
   "cell_type": "markdown",
   "metadata": {
    "slideshow": {
     "slide_type": "slide"
    }
   },
   "source": [
    "# What have we learned so far?\n",
    "---\n",
    "\n",
    "1. Python\n",
    "  - Assigning variables\n",
    "  - Working with data types\n",
    "  - Calling functions\n",
    "  - Defining functions\n",
    "  - If... elif... else...\n",
    "2. Arrays\n",
    "  - Creating arrays (same type!)\n",
    "  - Operations between arrays (add, mult)\n",
    "  - Adding elements to arrays (using np.append)\n",
    "3. Tables\n",
    "  - Reading tables\n",
    "  - Creating new tables\n",
    "  - Grabbing data from columns\n",
    "  - Creating a copy with additional columns\n",
    "  - Creating a copy with only certain columns\n",
    "  - Creating a copy with only certain rows\n",
    "  - Creating a copy with rows grouped on a column and a collection function\n",
    "4. Plots\n",
    "  - Creating bar charts \n",
    "  - Creating scatter plots & line plots \n",
    "  - Creating histograms to count occurrences/density"
   ]
  },
  {
   "cell_type": "markdown",
   "metadata": {
    "slideshow": {
     "slide_type": "subslide"
    }
   },
   "source": [
    "# Any questions about recent things in class?\n",
    "---\n",
    "\n",
    "We don't necessarily need to get through this entire notebook, you can treat it more as a practice test that we're doing together."
   ]
  },
  {
   "cell_type": "markdown",
   "metadata": {
    "slideshow": {
     "slide_type": "subslide"
    }
   },
   "source": [
    "# Ultimate Halloween Candy Showdown\n",
    "---\n",
    "269,000 user submitted winners of head to head candy matchups"
   ]
  },
  {
   "cell_type": "code",
   "execution_count": null,
   "metadata": {
    "slideshow": {
     "slide_type": "fragment"
    }
   },
   "outputs": [],
   "source": [
    "candy = bpd.read_csv(\"data/candy.csv\")\n",
    "candy = candy.set_index(\"competitorname\")\n",
    "candy"
   ]
  },
  {
   "cell_type": "code",
   "execution_count": null,
   "metadata": {
    "scrolled": false,
    "slideshow": {
     "slide_type": "subslide"
    }
   },
   "outputs": [],
   "source": [
    "candy = candy.sort_values(by = \"winpercent\", ascending=False)\n",
    "candy.plot(kind='bar', y='winpercent', figsize = (20,8));"
   ]
  },
  {
   "cell_type": "markdown",
   "metadata": {
    "slideshow": {
     "slide_type": "subslide"
    }
   },
   "source": [
    "## Lets use group and plotting to analyze the data\n",
    "\n",
    "* Group will show us aggregated data about groups of the data (ex. average score of chocolate candy vs. non chocolate candy)\n",
    "* Plotting will give us visual insights to the data"
   ]
  },
  {
   "cell_type": "markdown",
   "metadata": {
    "slideshow": {
     "slide_type": "subslide"
    }
   },
   "source": [
    "### Grouping"
   ]
  },
  {
   "cell_type": "markdown",
   "metadata": {},
   "source": [
    "Get the mean sugar, price and win percent for candy with chocolate, and without chocolate.\n",
    "\n",
    "Which means there will be 2 rows for no chocolate and chocolate, and 3 columns for the percents."
   ]
  },
  {
   "cell_type": "code",
   "execution_count": null,
   "metadata": {
    "slideshow": {
     "slide_type": "fragment"
    }
   },
   "outputs": [],
   "source": [
    "candy.groupby( # ... YOUR CODE HERE \n",
    "            .get([\"sugarpercent\", \"pricepercent\", \"winpercent\"])"
   ]
  },
  {
   "cell_type": "markdown",
   "metadata": {},
   "source": [
    "We haven't discussed it yet, but it turns out that you can group by *multiple columns*.\n",
    "If we groupby chocolate and caramel, and take the mean how many rows do you think we will have?\n",
    "```Python\n",
    "candy.groupby([\"chocolate\", \"caramel\"]).mean().get([\"sugarpercent\", \"pricepercent\", \"winpercent\"])\n",
    "```"
   ]
  },
  {
   "cell_type": "code",
   "execution_count": null,
   "metadata": {
    "slideshow": {
     "slide_type": "subslide"
    }
   },
   "outputs": [],
   "source": [
    "candy.groupby([\"chocolate\", \"caramel\"]).mean().get([\"sugarpercent\", \"pricepercent\", \"winpercent\"])"
   ]
  },
  {
   "cell_type": "markdown",
   "metadata": {},
   "source": [
    "How about the below, how many columns we would get?\n",
    "```Python\n",
    "candy.groupby([\"chocolate\", \"caramel\", \"bar\"]).mean().get([\"sugarpercent\", \"pricepercent\", \"winpercent\"])\n",
    "```"
   ]
  },
  {
   "cell_type": "code",
   "execution_count": null,
   "metadata": {},
   "outputs": [],
   "source": [
    "candy.groupby([\"chocolate\", \"caramel\", \"bar\"]).mean().get([\"sugarpercent\", \"pricepercent\", \"winpercent\"])"
   ]
  },
  {
   "cell_type": "markdown",
   "metadata": {
    "slideshow": {
     "slide_type": "subslide"
    }
   },
   "source": [
    "### Plotting"
   ]
  },
  {
   "cell_type": "markdown",
   "metadata": {},
   "source": [
    "Let's create a histogram of the winpercentages.\n",
    "How about the below:\n",
    "```Python\n",
    "candy.plot(kind='hist', bins = 30)\n",
    "```"
   ]
  },
  {
   "cell_type": "code",
   "execution_count": null,
   "metadata": {},
   "outputs": [],
   "source": [
    "candy.plot(kind='hist', bins = 30)"
   ]
  },
  {
   "cell_type": "code",
   "execution_count": null,
   "metadata": {
    "slideshow": {
     "slide_type": "fragment"
    }
   },
   "outputs": [],
   "source": [
    "# Create a histogram of the winpercentages\n",
    "# ... YOUR CODE HERE"
   ]
  },
  {
   "cell_type": "markdown",
   "metadata": {},
   "source": [
    "Create a pie chart of mean win percentages for the two flavors *fruity* and *caramel*\n",
    "\n",
    "The slices will be as follows\n",
    "* Fruity: False, Caramel: False\n",
    "* Fruity: False, Caramel: True\n",
    "* Fruity: True, Caramel: False\n",
    "* Fruity: True, Caramel: True"
   ]
  },
  {
   "cell_type": "code",
   "execution_count": null,
   "metadata": {},
   "outputs": [],
   "source": [
    "# Type of pie_data will be series\n",
    "# Get the mean win percent for flavors with and without fruity & caramel\n",
    "# Hint: groupby and mean functions\n",
    "pie_data = #  YOUR CODE HERE \\\n",
    "           .get(\"winpercent\")\n",
    "pie_data"
   ]
  },
  {
   "cell_type": "code",
   "execution_count": null,
   "metadata": {},
   "outputs": [],
   "source": [
    "ax = pie_data.plot(kind = 'pie', figsize = (5,5), autopct='%1.1f%%')\n",
    "ax.legend([\"fruit: F, caramel: F\",\n",
    "          \"fruit: F, caramel: T\",\n",
    "          \"fruit: T, caramel: F\",\n",
    "          \"fruit: T, caramel: T\",\n",
    "          ],  loc=\"right\", bbox_to_anchor=(1, 0, 0.5, 1))"
   ]
  },
  {
   "cell_type": "markdown",
   "metadata": {
    "slideshow": {
     "slide_type": "slide"
    }
   },
   "source": [
    "# Functions and Apply\n",
    "---\n",
    "\n",
    "Review: How do you make a function return a string that is lowercased?"
   ]
  },
  {
   "cell_type": "code",
   "execution_count": null,
   "metadata": {
    "slideshow": {
     "slide_type": "fragment"
    }
   },
   "outputs": [],
   "source": [
    "def lowercase(string):\n",
    "    return string.lower()\n",
    "\n",
    "lowercase(\"sTrInG\")"
   ]
  },
  {
   "cell_type": "markdown",
   "metadata": {
    "slideshow": {
     "slide_type": "subslide"
    }
   },
   "source": [
    "We can use functions to clean up messy data. A good example of messy data comes from a column of user inputted data"
   ]
  },
  {
   "cell_type": "code",
   "execution_count": null,
   "metadata": {
    "slideshow": {
     "slide_type": "subslide"
    }
   },
   "outputs": [],
   "source": [
    "survey_responses = bpd.DataFrame().assign(\n",
    "    name = [\"Cust1\", \"Cust2\", \"Cust3\", \"Cust4\", \"Cust5\", \" Cust6\"],\n",
    "    ord_food = [\"Pizza\", \"pizza\", \"turkey sandwich\", \"pepperoni pizza\", \"Pepperoni Pizza\", \"ham sandwich\"], \n",
    "    phone_num = [\"123-456-7890\", \"(123) 456-7890\", \"1234567890\", \"(123)4567890\", \"123 456 7890\", \"(123)456-7890\"]\n",
    ")\n",
    "survey_responses = survey_responses.set_index(\"name\")\n",
    "survey_responses"
   ]
  },
  {
   "cell_type": "markdown",
   "metadata": {
    "slideshow": {
     "slide_type": "fragment"
    }
   },
   "source": [
    "This table has difficult to access and analyze data. We can use our own functions and apply to clean it up.\n",
    "\n",
    "1. clean up ord_food by making it lowercase and only the last word of the input\n",
    "\n",
    "2. clean up the phone_num by making it a string with only 10 digits in it (what about storing it as an int?)"
   ]
  },
  {
   "cell_type": "code",
   "execution_count": null,
   "metadata": {
    "slideshow": {
     "slide_type": "subslide"
    }
   },
   "outputs": [],
   "source": [
    "# Make a function to clean up one entry of ord_food (lowercase and only last word)\n",
    "# Hint: use lower() and split(\" \") functions\n",
    "def clean_fav_food(string):\n",
    "    #  YOUR CODE HERE\n",
    "    \n",
    "clean_fav_food(\"tHIs IS a Test - piZZa!\")"
   ]
  },
  {
   "cell_type": "code",
   "execution_count": null,
   "metadata": {},
   "outputs": [],
   "source": [
    "survey_responses"
   ]
  },
  {
   "cell_type": "markdown",
   "metadata": {},
   "source": [
    "Let's apply this function to our table"
   ]
  },
  {
   "cell_type": "code",
   "execution_count": null,
   "metadata": {
    "slideshow": {
     "slide_type": "fragment"
    }
   },
   "outputs": [],
   "source": [
    "def clean_fav_food(string):\n",
    "    return string.lower().split(\" \")[-1]"
   ]
  },
  {
   "cell_type": "code",
   "execution_count": null,
   "metadata": {
    "slideshow": {
     "slide_type": "fragment"
    }
   },
   "outputs": [],
   "source": [
    "# apply this function to the ord_food column\n",
    "new_col = # YOUR CODE IS HERE\n",
    "survey_responses = survey_responses.drop(columns = \"ord_food\").assign(ord_food_clean = new_col)\n",
    "survey_responses"
   ]
  },
  {
   "cell_type": "markdown",
   "metadata": {},
   "source": [
    "Make a function to clean up one entry of phone (10 digit string)"
   ]
  },
  {
   "cell_type": "code",
   "execution_count": null,
   "metadata": {
    "slideshow": {
     "slide_type": "subslide"
    }
   },
   "outputs": [],
   "source": [
    "def clean_phone(phone):\n",
    "    return phone.replace(\"(\",\"\")\\\n",
    "                .replace(\")\",\"\")\\\n",
    "                .replace(\"-\",\"\")\\\n",
    "                .replace(\" \", \"\")\n",
    "\n",
    "def clean_phone_v2(phone):\n",
    "    digits = ['0','1','2','3','4','5','6','7','8','9']\n",
    "    return ''.join(c for c in phone if c in digits) # using a generator\n",
    "    \n",
    "print(clean_phone(\"(123)456-7890\"))\n",
    "print(clean_phone_v2(\"(123)456-7890\"))"
   ]
  },
  {
   "cell_type": "markdown",
   "metadata": {},
   "source": [
    "Let's apply it to the table"
   ]
  },
  {
   "cell_type": "markdown",
   "metadata": {},
   "source": [
    "Replace the previous phone_num column with a new column, where clean phone is applied."
   ]
  },
  {
   "cell_type": "code",
   "execution_count": null,
   "metadata": {
    "slideshow": {
     "slide_type": "fragment"
    }
   },
   "outputs": [],
   "source": [
    "# YOUR CODE IS HERE\n",
    "# YOUR CODE IS HERE\n",
    "survey_responses"
   ]
  },
  {
   "cell_type": "markdown",
   "metadata": {},
   "source": [
    "Let's go back to the candy dataset and use the apply method."
   ]
  },
  {
   "cell_type": "code",
   "execution_count": null,
   "metadata": {},
   "outputs": [],
   "source": [
    "candy = bpd.read_csv(\"data/candy.csv\")\n",
    "candy = candy.set_index(\"competitorname\")\n",
    "candy.get([\"sugarpercent\", \"pricepercent\", \"winpercent\"])"
   ]
  },
  {
   "cell_type": "markdown",
   "metadata": {},
   "source": [
    "Instead of the floating point numbers, let's turn the values into categories.\n",
    "\n",
    "For sugar percent and price percent:\n",
    "\n",
    "Assign all numbers between 0.0 - 0.1 to 0.\n",
    "\n",
    "* 0.0 to 0.1 --> 0\n",
    "* 0.1 to 0.2 --> 1\n",
    "* 0.3 to 0.4 --> 2\n",
    "* 0.4 to 0.5 --> 3\n",
    "* ...\n",
    "* 0.9 to 1.0 --> 9"
   ]
  },
  {
   "cell_type": "code",
   "execution_count": null,
   "metadata": {},
   "outputs": [],
   "source": [
    "def into_category(ratio):\n",
    "    ratio = ratio * 10\n",
    "    return int(ratio)\n",
    "candy.get(\"sugarpercent\").apply(into_category)"
   ]
  },
  {
   "cell_type": "code",
   "execution_count": null,
   "metadata": {},
   "outputs": [],
   "source": [
    "sugar_categ = candy.get(\"sugarpercent\").apply(into_category)\n",
    "candy = candy.assign(sugar_category = sugar_categ)\n",
    "candy.get([\"sugar_category\", \"pricepercent\", \"winpercent\"])"
   ]
  },
  {
   "cell_type": "markdown",
   "metadata": {},
   "source": [
    "Let's apply the same idea to the pricepercent and winpercent columns.\n",
    "\n",
    "Write a single function that can be used to turn all percentages into categories.\n",
    "\n",
    "Pricepercent is in the same range as sugarpercent, but how to deal with winpercent?"
   ]
  },
  {
   "cell_type": "code",
   "execution_count": null,
   "metadata": {},
   "outputs": [],
   "source": [
    "candy.get([\"sugarpercent\", \"pricepercent\", \"winpercent\"])"
   ]
  },
  {
   "cell_type": "code",
   "execution_count": null,
   "metadata": {},
   "outputs": [],
   "source": [
    "# A hint on how to deal with winpercent\n",
    "candy.get(\"winpercent\").min()"
   ]
  },
  {
   "cell_type": "code",
   "execution_count": null,
   "metadata": {},
   "outputs": [],
   "source": [
    "def into_category(ratio):\n",
    "    # YOUR CODE IS HERE"
   ]
  },
  {
   "cell_type": "code",
   "execution_count": null,
   "metadata": {},
   "outputs": [],
   "source": [
    "price_categ = candy.get(\"pricepercent\").apply(into_category)\n",
    "win_categ   = candy.get(\"winpercent\").apply(into_category)\n",
    "candy = candy.assign(price_category = price_categ,\n",
    "                     win_category = win_categ)\n",
    "candy.get([\"sugar_category\", \"price_category\", \"win_category\"])"
   ]
  },
  {
   "cell_type": "markdown",
   "metadata": {},
   "source": [
    "We have 10 price categories from 0 to 9.\n",
    "\n",
    "Let's print the distribution of these categories in a pie chart:"
   ]
  },
  {
   "cell_type": "code",
   "execution_count": null,
   "metadata": {},
   "outputs": [],
   "source": [
    "price_categories = candy.groupby(\"price_category\").count()\n",
    "ax = price_categories.get(\"pricepercent\").plot(kind = 'pie', figsize = (5,5), autopct='%1.1f%%')\n",
    "ax.legend(loc=\"right\", bbox_to_anchor=(1, 0, 0.5, 1))"
   ]
  },
  {
   "cell_type": "markdown",
   "metadata": {
    "slideshow": {
     "slide_type": "fragment"
    }
   },
   "source": [
    "## Our dataset is now clean and ready for analysis!"
   ]
  },
  {
   "cell_type": "markdown",
   "metadata": {
    "slideshow": {
     "slide_type": "slide"
    }
   },
   "source": [
    "# More Practice! Today's New Dataset:\n",
    "---\n",
    "\n",
    "From kaggle user Randi H Griffin:\n",
    ">This is a historical dataset on the modern Olympic Games, including all the Games from Athens 1896 to Rio 2016. I scraped this data from www.sports-reference.com in May 2018. The R code I used to scrape and wrangle the data is on GitHub. I recommend checking my kernel before starting your own analysis.\n",
    ">\n",
    ">Note that the Winter and Summer Games were held in the same year up until 1992. After that, they staggered them such that Winter Games occur on a four year cycle starting with 1994, then Summer in 1996, then Winter in 1998, and so on. A common mistake people make when analyzing this data is to assume that the Summer and Winter Games have always been staggered.\n",
    ">\n",
    ">The file athlete_events.csv contains 271116 rows and 15 columns. Each row corresponds to an individual athlete competing in an individual Olympic event (athlete-events). The columns are:\n",
    ">\n",
    ">1. ID - Unique number for each athlete  \n",
    ">2. Name - Athlete's name  \n",
    ">3. Sex - M or F  \n",
    ">4. Age - Integer  \n",
    ">5. Height - In centimeters  \n",
    ">6. Weight - In kilograms  \n",
    ">7. Team - Team name  \n",
    ">8. NOC - National Olympic Committee 3-letter code  \n",
    ">9. Games - Year and season  \n",
    ">10. Year - Integer  \n",
    ">11. Season - Summer or Winter  \n",
    ">12. City - Host city  \n",
    ">13. Sport - Sport  \n",
    ">14. Event - Event  \n",
    ">15. Medal - Gold, Silver, Bronze, or NA  \n"
   ]
  },
  {
   "cell_type": "code",
   "execution_count": null,
   "metadata": {},
   "outputs": [],
   "source": [
    "data = bpd.read_csv(\"data/athlete_events.csv\")\n",
    "data"
   ]
  },
  {
   "cell_type": "markdown",
   "metadata": {},
   "source": [
    "Let's decide if we can set an index. The best candidates seem to be the columns ID and Name.\n",
    "\n",
    "How can we decide if these would be good candidates for an index?"
   ]
  },
  {
   "cell_type": "markdown",
   "metadata": {},
   "source": [
    "We should check whether they are unique"
   ]
  },
  {
   "cell_type": "markdown",
   "metadata": {},
   "source": [
    "Given the data, test for the uniqueness of the *Name* and *ID* columns."
   ]
  },
  {
   "cell_type": "code",
   "execution_count": null,
   "metadata": {},
   "outputs": [],
   "source": [
    "# Hint: use the .unique() and len() functions\n",
    "col1 = data.get(\"Name\")\n",
    "print(# YOUR CODE IS HERE)\n",
    "\n",
    "col2 = data.get(\"ID\")\n",
    "print(# YOUR CODE IS HERE)"
   ]
  },
  {
   "cell_type": "markdown",
   "metadata": {},
   "source": [
    "Below we do some data cleaning, removing the NaN values. The details of it are not important for us right now."
   ]
  },
  {
   "cell_type": "code",
   "execution_count": null,
   "metadata": {},
   "outputs": [],
   "source": [
    "nans = np.argwhere(np.isnan(data.get(\"Age\")) | np.isnan(data.get(\"Height\")) | np.isnan(data.get(\"Weight\")))\n",
    "print(\"We're getting rid of rows like below\")\n",
    "data.take(nans[:3].flatten()) # This line is just to show us what these mismatched rows look like"
   ]
  },
  {
   "cell_type": "code",
   "execution_count": null,
   "metadata": {},
   "outputs": [],
   "source": [
    "before_drop = len(data)\n",
    "data = data.drop(data.index[nans])\n",
    "after_drop = len(data)\n",
    "print(\"rows dropped:\", before_drop - after_drop)"
   ]
  },
  {
   "cell_type": "markdown",
   "metadata": {},
   "source": [
    "Since the dataset is quite big, let's look at only years after 1992 to make working on it simpler (for the discussion)"
   ]
  },
  {
   "cell_type": "code",
   "execution_count": null,
   "metadata": {
    "slideshow": {
     "slide_type": "fragment"
    }
   },
   "outputs": [],
   "source": [
    "# Saving the full dataset in a separate variable just in case\n",
    "all_years = data\n",
    "data = data[data.get(\"Year\") >= 1992]\n",
    "data"
   ]
  },
  {
   "cell_type": "markdown",
   "metadata": {
    "slideshow": {
     "slide_type": "slide"
    }
   },
   "source": [
    "# Many interesting analysis possibilities:\n",
    "---\n",
    "1. Average age of medal winners.\n",
    "    - Does this change for males and females?\n",
    "    - min/max age of medal winners?\n",
    "        - find their entries\n",
    "2. Sports with the tallest/heaviest/oldest participants?\n",
    "3. Count of sport season by team country.\n",
    "4. Plot age by year, possibly split by sex."
   ]
  },
  {
   "cell_type": "markdown",
   "metadata": {},
   "source": [
    "Warmup: Sort the Sports according to their heaviest average competitor weight. "
   ]
  },
  {
   "cell_type": "code",
   "execution_count": null,
   "metadata": {},
   "outputs": [],
   "source": [
    "data.get(\"Sport\").unique()"
   ]
  },
  {
   "cell_type": "code",
   "execution_count": null,
   "metadata": {
    "slideshow": {
     "slide_type": "fragment"
    }
   },
   "outputs": [],
   "source": [
    "data.groupby(\"Sport\").mean().sort_values(by = \"Weight\", ascending=False)"
   ]
  },
  {
   "cell_type": "markdown",
   "metadata": {
    "slideshow": {
     "slide_type": "subslide"
    }
   },
   "source": [
    "# Repeat Participants vs One-Timers\n",
    "---\n",
    "\n",
    "Who showed up multiple times?  Who only showed up once?\n",
    "\n",
    "Can we get a table of just those people and their data?"
   ]
  },
  {
   "cell_type": "code",
   "execution_count": null,
   "metadata": {
    "slideshow": {
     "slide_type": "subslide"
    }
   },
   "outputs": [],
   "source": [
    "# Let's get how many times each athlete shows up\n",
    "counts = data.groupby([\"Name\"]).count()\n",
    "counts"
   ]
  },
  {
   "cell_type": "code",
   "execution_count": null,
   "metadata": {},
   "outputs": [],
   "source": [
    "counts = counts.get(\"ID\")"
   ]
  },
  {
   "cell_type": "code",
   "execution_count": null,
   "metadata": {
    "slideshow": {
     "slide_type": "fragment"
    }
   },
   "outputs": [],
   "source": [
    "# Let's get the names of the people that attended multiple times\n",
    "repeat_names = counts[counts > 1]\n",
    "repeat_names"
   ]
  },
  {
   "cell_type": "markdown",
   "metadata": {},
   "source": [
    "Write a function that determines if a given name is a repeated name."
   ]
  },
  {
   "cell_type": "code",
   "execution_count": null,
   "metadata": {
    "slideshow": {
     "slide_type": "fragment"
    }
   },
   "outputs": [],
   "source": [
    "def is_repeated(s):\n",
    "    # YOUR CODE IS HERE\n",
    "\n",
    "# Getting only the athletes that repeated\n",
    "repeats = data[data.get(\"Name\").apply(is_repeated)]\n",
    "repeats"
   ]
  },
  {
   "cell_type": "code",
   "execution_count": null,
   "metadata": {},
   "outputs": [],
   "source": [
    "repeater_athletes = repeats.get(\"Name\").unique()\n",
    "print(repeater_athletes)\n",
    "print(len(repeater_athletes))"
   ]
  },
  {
   "cell_type": "markdown",
   "metadata": {
    "slideshow": {
     "slide_type": "slide"
    }
   },
   "source": [
    "# Sort According to both Height and Weight\n",
    "---"
   ]
  },
  {
   "cell_type": "code",
   "execution_count": null,
   "metadata": {},
   "outputs": [],
   "source": [
    "data.get([\"Height\", \"Weight\"])"
   ]
  },
  {
   "cell_type": "markdown",
   "metadata": {},
   "source": [
    "Let's convert into imperial units since we all live in the USA.\n",
    "\n",
    "And it sounds cooler too, although it is very annoying for anything related to science."
   ]
  },
  {
   "cell_type": "code",
   "execution_count": null,
   "metadata": {},
   "outputs": [],
   "source": [
    "kg2pound  = 2.20462\n",
    "cm2inch  = 39.3701 / 100"
   ]
  },
  {
   "cell_type": "code",
   "execution_count": null,
   "metadata": {},
   "outputs": [],
   "source": [
    "def to_pound(kg):\n",
    "    pounds = kg * kg2pound\n",
    "    return pounds\n",
    "def to_inch(cm):\n",
    "    inches = cm * cm2inch\n",
    "    return inches"
   ]
  },
  {
   "cell_type": "code",
   "execution_count": null,
   "metadata": {},
   "outputs": [],
   "source": [
    "heights = data.get(\"Height\") # YOUR CODE IS HERE\n",
    "weights = # YOUR CODE IS HERE\n",
    "# We are creating a dictionary to assign multiple columns with a single assign statement\n",
    "kwargs = {\"Height inch\":  heights, \"Weight pound\":  weights}\n",
    "modified_data = data.assign(**kwargs)\n",
    "modified_data.get([\"Name\", \"Height\", \"Height inch\", \"Weight\", \"Weight pound\"])"
   ]
  },
  {
   "cell_type": "markdown",
   "metadata": {},
   "source": [
    "Let's sort the data according to height and weight combined."
   ]
  },
  {
   "cell_type": "code",
   "execution_count": null,
   "metadata": {},
   "outputs": [],
   "source": [
    "modified_data.sort_values(by = [\"Height inch\", \"Weight pound\"], ascending = False)"
   ]
  },
  {
   "cell_type": "markdown",
   "metadata": {},
   "source": [
    "# Body Mass Index"
   ]
  },
  {
   "cell_type": "markdown",
   "metadata": {},
   "source": [
    "Let's calculate the body mass index from our data and add it to the table.\n",
    "\n",
    "We are switching to the whole dataset instead of the years after 1992, as our analysis will be simpler."
   ]
  },
  {
   "cell_type": "code",
   "execution_count": null,
   "metadata": {},
   "outputs": [],
   "source": [
    "# kg / m**2\n",
    "# weight / height ** 2"
   ]
  },
  {
   "cell_type": "code",
   "execution_count": null,
   "metadata": {},
   "outputs": [],
   "source": [
    "all_years.get([\"Height\", \"Weight\"])"
   ]
  },
  {
   "cell_type": "markdown",
   "metadata": {},
   "source": [
    "I think it is easier to do it without a function."
   ]
  },
  {
   "cell_type": "code",
   "execution_count": null,
   "metadata": {},
   "outputs": [],
   "source": [
    "heights = all_years.get(\"Height\")\n",
    "weights = all_years.get(\"Weight\")\n",
    "bmi = weights / (heights / 100) ** 2\n",
    "print(bmi)"
   ]
  },
  {
   "cell_type": "markdown",
   "metadata": {},
   "source": [
    "Plot the histogram of BMI values"
   ]
  },
  {
   "cell_type": "code",
   "execution_count": null,
   "metadata": {},
   "outputs": [],
   "source": [
    "print(\"Mean: \", bmi.mean())\n",
    "print(\"Min:  \", bmi.min())\n",
    "print(\"Max:  \", bmi.max())"
   ]
  },
  {
   "cell_type": "code",
   "execution_count": null,
   "metadata": {},
   "outputs": [],
   "source": [
    "bmi.plot(kind='hist', bins=30);"
   ]
  },
  {
   "cell_type": "markdown",
   "metadata": {},
   "source": [
    "The histogram is relatively tighly centered around the mean, 22.\n",
    "\n",
    "If we could do a histogram for the whole world, how do you think the histogram would change?\n",
    "\n",
    "And why?"
   ]
  },
  {
   "cell_type": "markdown",
   "metadata": {},
   "source": [
    "Let's assign this new series into our table and plot the BMI vs years."
   ]
  },
  {
   "cell_type": "code",
   "execution_count": null,
   "metadata": {},
   "outputs": [],
   "source": [
    "all_years = all_years.assign(BMI = bmi)\n",
    "BMI_change = all_years.groupby(\"Year\").mean().get(\"BMI\")\n",
    "\n",
    "BMI_change.plot(kind = \"line\", y = \"BMI\")\n",
    "plt.title(\"Years vs BMI\")\n",
    "plt.ylabel(\"BMI\");"
   ]
  },
  {
   "cell_type": "markdown",
   "metadata": {},
   "source": [
    "Why do you think the zig zags at the end are there?"
   ]
  },
  {
   "cell_type": "markdown",
   "metadata": {},
   "source": [
    "Let's zoom in to the last 20 datapoints."
   ]
  },
  {
   "cell_type": "code",
   "execution_count": null,
   "metadata": {},
   "outputs": [],
   "source": [
    "# YOUR CODE IS HERE\n",
    "plt.title(\"Years vs BMI\")\n",
    "plt.ylabel(\"BMI\");"
   ]
  },
  {
   "cell_type": "markdown",
   "metadata": {},
   "source": [
    "Until 1992, the Summer Olympic Games and the Winter Olympic Games were held in the same year.\n",
    "\n",
    "After 1992, they were separated into different years."
   ]
  },
  {
   "cell_type": "code",
   "execution_count": null,
   "metadata": {},
   "outputs": [],
   "source": []
  }
 ],
 "metadata": {
  "celltoolbar": "Slideshow",
  "kernelspec": {
   "display_name": "Python 3",
   "language": "python",
   "name": "python3"
  },
  "language_info": {
   "codemirror_mode": {
    "name": "ipython",
    "version": 3
   },
   "file_extension": ".py",
   "mimetype": "text/x-python",
   "name": "python",
   "nbconvert_exporter": "python",
   "pygments_lexer": "ipython3",
   "version": "3.7.5"
  }
 },
 "nbformat": 4,
 "nbformat_minor": 2
}
