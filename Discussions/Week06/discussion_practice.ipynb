{
 "cells": [
  {
   "cell_type": "code",
   "execution_count": null,
   "metadata": {
    "slideshow": {
     "slide_type": "skip"
    }
   },
   "outputs": [],
   "source": [
    "import babypandas as bpd\n",
    "import numpy as np\n",
    "import matplotlib.pyplot as plt\n",
    "%matplotlib inline\n",
    "\n",
    "from notebook.services.config import ConfigManager\n",
    "\n",
    "cm = ConfigManager()\n",
    "cm.update(\n",
    "   \"livereveal\", {\n",
    "       'width': 1500,\n",
    "       'height': 700,\n",
    "       \"scroll\": True,\n",
    "})"
   ]
  },
  {
   "cell_type": "markdown",
   "metadata": {
    "slideshow": {
     "slide_type": "slide"
    }
   },
   "source": [
    "# DSC 10 Discussion: Week 6\n",
    "---"
   ]
  },
  {
   "cell_type": "markdown",
   "metadata": {
    "slideshow": {
     "slide_type": "slide"
    }
   },
   "source": [
    "# Probability\n",
    "---"
   ]
  },
  {
   "cell_type": "markdown",
   "metadata": {
    "slideshow": {
     "slide_type": "subslide"
    }
   },
   "source": [
    "## Q: What is a measure of probability?\n",
    "---"
   ]
  },
  {
   "cell_type": "markdown",
   "metadata": {
    "slideshow": {
     "slide_type": "fragment"
    }
   },
   "source": [
    "A: Measure of the likelihood an event is going to occur out of the number of possible events."
   ]
  },
  {
   "cell_type": "markdown",
   "metadata": {
    "slideshow": {
     "slide_type": "fragment"
    }
   },
   "source": [
    "## Q: In general, how do we find a probability for equally likely events?\n",
    "---"
   ]
  },
  {
   "cell_type": "markdown",
   "metadata": {
    "slideshow": {
     "slide_type": "fragment"
    }
   },
   "source": [
    "A: Out of the possible outcomes at a given time:\n",
    "* If there can only be one event that can occur (mutually exclusive)\n",
    "* And all outcomes are equally likely \n",
    "\n",
    "You can divide the number of outcomes that represent your event by the total number of possible outcomes"
   ]
  },
  {
   "cell_type": "markdown",
   "metadata": {
    "slideshow": {
     "slide_type": "subslide"
    }
   },
   "source": [
    "## Q: How do we calculate probability via experimentation or simulation?\n",
    "---"
   ]
  },
  {
   "cell_type": "markdown",
   "metadata": {
    "slideshow": {
     "slide_type": "fragment"
    }
   },
   "source": [
    "A: Number of outcomes that represent your event that occurred in your sample divided by total outcomes of the sample"
   ]
  },
  {
   "cell_type": "markdown",
   "metadata": {
    "slideshow": {
     "slide_type": "subslide"
    }
   },
   "source": [
    "# Let's make a dataset\n",
    "---\n",
    "\n",
    "Let's create our datasets instead of downloading them, for precise analysis\n",
    "\n",
    "We'll be coming up with games and creating the rules, and then simulating matches to generate a dataset."
   ]
  },
  {
   "cell_type": "markdown",
   "metadata": {
    "slideshow": {
     "slide_type": "fragment"
    }
   },
   "source": [
    "### Let's create a game and a dataset to go with it."
   ]
  },
  {
   "cell_type": "markdown",
   "metadata": {},
   "source": [
    "### GAME: You roll a die and flip a coin. Score equals: roll * 1 if heads or roll * 2 if tails.\n",
    "\n",
    "Examples:\n",
    "\n",
    "* Side Heads, Roll 5: Score 5\n",
    "* Side Tails, Roll 3: Score 6"
   ]
  },
  {
   "cell_type": "markdown",
   "metadata": {
    "slideshow": {
     "slide_type": "subslide"
    }
   },
   "source": [
    "## Let's create a dataset that contains every possible outcome\n",
    "### Q: Why is this helpful?"
   ]
  },
  {
   "cell_type": "markdown",
   "metadata": {
    "slideshow": {
     "slide_type": "fragment"
    }
   },
   "source": [
    "```\n",
    "A: We can use this to calculate the probability of each outcome!\n",
    "```"
   ]
  },
  {
   "cell_type": "code",
   "execution_count": null,
   "metadata": {
    "slideshow": {
     "slide_type": "subslide"
    }
   },
   "outputs": [],
   "source": [
    "bpd.DataFrame().assign(\n",
    "    Roll = [2],\n",
    "    Flip = [1], # Heads 0, Tails 1\n",
    "    Score = [4]\n",
    ")"
   ]
  },
  {
   "cell_type": "markdown",
   "metadata": {
    "slideshow": {
     "slide_type": "subslide"
    }
   },
   "source": [
    "### Q: How many different rows will we have in our final table? (AKA how many different outcomes are there?)"
   ]
  },
  {
   "cell_type": "markdown",
   "metadata": {
    "slideshow": {
     "slide_type": "fragment"
    }
   },
   "source": [
    "A: ..."
   ]
  },
  {
   "cell_type": "markdown",
   "metadata": {},
   "source": [
    "What if we had two dice and 2 coins?\n",
    "..."
   ]
  },
  {
   "cell_type": "markdown",
   "metadata": {},
   "source": [
    "What if we had one normal coin and two biased dice?\n",
    "..."
   ]
  },
  {
   "cell_type": "markdown",
   "metadata": {},
   "source": [
    "But imagine one die is so biased that it never lands 1 or 4?\n",
    "\n",
    "..."
   ]
  },
  {
   "cell_type": "markdown",
   "metadata": {
    "slideshow": {
     "slide_type": "subslide"
    }
   },
   "source": [
    "## What logic should we use to populate our columns?\n",
    "\n",
    "- Use loops to create the roll and flip columns\n",
    "- calculate the score column afterwards"
   ]
  },
  {
   "cell_type": "code",
   "execution_count": null,
   "metadata": {
    "slideshow": {
     "slide_type": "fragment"
    }
   },
   "outputs": [],
   "source": [
    "rolls = np.array([], dtype = np.int)\n",
    "flips = np.array([], dtype = np.int)\n",
    "\n",
    "# Every possible roll of a die\n",
    "for roll in np.arange(1, 7):\n",
    "    # Every possible flip of a coin\n",
    "    for flip in np.arange(2):\n",
    "        ... np.append\n",
    "        ... np.append"
   ]
  },
  {
   "cell_type": "code",
   "execution_count": null,
   "metadata": {
    "slideshow": {
     "slide_type": "fragment"
    }
   },
   "outputs": [],
   "source": [
    "rolls"
   ]
  },
  {
   "cell_type": "code",
   "execution_count": null,
   "metadata": {
    "slideshow": {
     "slide_type": "fragment"
    }
   },
   "outputs": [],
   "source": [
    "flips"
   ]
  },
  {
   "cell_type": "code",
   "execution_count": null,
   "metadata": {
    "slideshow": {
     "slide_type": "subslide"
    }
   },
   "outputs": [],
   "source": [
    "possibilities = bpd.DataFrame().assign(\n",
    "    Roll = rolls,\n",
    "    Flip = flips,\n",
    ")\n",
    "possibilities"
   ]
  },
  {
   "cell_type": "markdown",
   "metadata": {
    "slideshow": {
     "slide_type": "subslide"
    }
   },
   "source": [
    "## Now we should add the \"Score\" column,\n",
    "### Q: How do we do this?\n",
    "Rules reminder: You roll a die and flip a coin. Score equals: roll * 1 if heads or roll * 2 if tails."
   ]
  },
  {
   "cell_type": "markdown",
   "metadata": {},
   "source": [
    "Heads: 0, Tails: 1"
   ]
  },
  {
   "cell_type": "code",
   "execution_count": null,
   "metadata": {},
   "outputs": [],
   "source": [
    "scores = ...\n",
    "scores"
   ]
  },
  {
   "cell_type": "code",
   "execution_count": null,
   "metadata": {
    "slideshow": {
     "slide_type": "subslide"
    }
   },
   "outputs": [],
   "source": [
    "possibilities = possibilities.assign(\n",
    "    Score =  scores\n",
    ")\n",
    "possibilities"
   ]
  },
  {
   "cell_type": "markdown",
   "metadata": {
    "slideshow": {
     "slide_type": "slide"
    }
   },
   "source": [
    "# Let's look at the distribution of scores\n",
    "---\n",
    "\n",
    "We want to figure out the exact probability of all possible sums of the game are, based on all possible rolls and flips."
   ]
  },
  {
   "cell_type": "code",
   "execution_count": null,
   "metadata": {
    "slideshow": {
     "slide_type": "fragment"
    }
   },
   "outputs": [],
   "source": [
    "# Let's make the bins of this histogram go from min to max\n",
    "possibilities.plot(kind = \"hist\", y = \"Score\", \n",
    "    bins = np.arange(\n",
    "        possibilities.get(\"Score\").min(), possibilities.get(\"Score\").max() + 2, 1\n",
    "    )\n",
    ")"
   ]
  },
  {
   "cell_type": "code",
   "execution_count": null,
   "metadata": {
    "slideshow": {
     "slide_type": "subslide"
    }
   },
   "outputs": [],
   "source": [
    "# Let's save those bins for the future\n",
    "bins = np.arange(possibilities.get(\"Score\").min(), possibilities.get(\"Score\").max() + 2, 1)\n",
    "bins"
   ]
  },
  {
   "cell_type": "code",
   "execution_count": null,
   "metadata": {
    "slideshow": {
     "slide_type": "fragment"
    }
   },
   "outputs": [],
   "source": [
    "# I also want to print out all of the probabilities for reference\n",
    "x, y = [], []\n",
    "for score in np.unique(possibilities.get(\"Score\")):\n",
    "    y.append(score)\n",
    "    full_size = possibilities.shape[0]\n",
    "    score_prob = ... / full_size\n",
    "    x.append(probs)\n",
    "plt.bar(y, x);"
   ]
  },
  {
   "cell_type": "markdown",
   "metadata": {},
   "source": [
    "### How is this different than the histogram?"
   ]
  },
  {
   "cell_type": "code",
   "execution_count": null,
   "metadata": {},
   "outputs": [],
   "source": [
    "# Let's make the bins of this histogram go from min to max ;) \n",
    "possibilities.plot(kind = \"hist\", y = \"Score\", \n",
    "    bins = np.arange(\n",
    "        possibilities.get(\"Score\").min(), possibilities.get(\"Score\").max() + 2, 1\n",
    "    )\n",
    ")"
   ]
  },
  {
   "cell_type": "markdown",
   "metadata": {
    "slideshow": {
     "slide_type": "slide"
    }
   },
   "source": [
    "# Distributions: a quick aside\n",
    "---"
   ]
  },
  {
   "cell_type": "markdown",
   "metadata": {
    "slideshow": {
     "slide_type": "subslide"
    }
   },
   "source": [
    "## Probability Distribution of a Statistic\n",
    "\n",
    "* “Sampling distribution” or “probability distribution” of the statistic\n",
    "    - All possible values of the statistic and all the corresponding probabilities.\n",
    "* Can be hard to calculate: \n",
    "    - either have to do the math or have to generate all possible samples and calculate the statistic based on each sample\n"
   ]
  },
  {
   "cell_type": "markdown",
   "metadata": {
    "slideshow": {
     "slide_type": "subslide"
    }
   },
   "source": [
    "## Empirical Distribution of a Statistic\n",
    "* Empirical distribution of the statistic\n",
    "    - Based on simulated values of the statistic\n",
    "    - Consists of all the observed values of the statistic,\n",
    "    - and the proportion of times each value appeared\n",
    "\n",
    "* Good approximation to the probability distribution of the statistic \n",
    "    - if the number of repetitions in the simulation is large\n"
   ]
  },
  {
   "cell_type": "markdown",
   "metadata": {
    "slideshow": {
     "slide_type": "subslide"
    }
   },
   "source": [
    "## Q: Can we design a game that has a uniform score distribution with the one die and coin? What would such a game be?"
   ]
  },
  {
   "cell_type": "markdown",
   "metadata": {
    "slideshow": {
     "slide_type": "fragment"
    }
   },
   "source": [
    "```\n",
    "Flip of heads adds 6 to the dice roll, tails adds 0. Would this have a uniform prob. distribution?\n",
    "```"
   ]
  },
  {
   "cell_type": "markdown",
   "metadata": {
    "slideshow": {
     "slide_type": "subslide"
    }
   },
   "source": [
    "# Let's simulate our previous game\n",
    "---\n",
    "\n",
    "Say I wanted to simulate matches of the game we defined above."
   ]
  },
  {
   "cell_type": "code",
   "execution_count": null,
   "metadata": {},
   "outputs": [],
   "source": [
    "def score(roll, flip):\n",
    "    return roll * (flip + 1)"
   ]
  },
  {
   "cell_type": "code",
   "execution_count": null,
   "metadata": {
    "slideshow": {
     "slide_type": "fragment"
    }
   },
   "outputs": [],
   "source": [
    "# We could write a function\n",
    "def simulate():\n",
    "    \"\"\" Uses np.random.choice for simulation \"\"\"\n",
    "    roll = np.random.choice(np.arange(1, 7))\n",
    "    flip = np.random.choice(np.arange(2))\n",
    "    return score(roll, flip)\n",
    "\n",
    "# And use it a bunch of times\n",
    "trials = 10000\n",
    "results = np.array([], dtype = np.int)\n",
    "\n",
    "for i in np.arange(trials):\n",
    "    roll_result = ...\n",
    "    ... np.append\n",
    "    \n",
    "results"
   ]
  },
  {
   "cell_type": "markdown",
   "metadata": {
    "slideshow": {
     "slide_type": "subslide"
    }
   },
   "source": [
    "# But... this seems familiar.  Have we seen these \"simulations\" before?"
   ]
  },
  {
   "cell_type": "markdown",
   "metadata": {
    "slideshow": {
     "slide_type": "fragment"
    }
   },
   "source": [
    "```\n",
    "Every match is already in our table of possibilities.\n",
    "```"
   ]
  },
  {
   "cell_type": "markdown",
   "metadata": {
    "slideshow": {
     "slide_type": "subslide"
    }
   },
   "source": [
    "# So, what does that mean we can do instead of simulating?"
   ]
  },
  {
   "cell_type": "markdown",
   "metadata": {
    "slideshow": {
     "slide_type": "fragment"
    }
   },
   "source": [
    "```\n",
    "We can just sample from our `possibilities` table!\n",
    "```"
   ]
  },
  {
   "cell_type": "markdown",
   "metadata": {
    "slideshow": {
     "slide_type": "slide"
    }
   },
   "source": [
    "# Sampling\n",
    "---\n",
    "\n",
    "Sampling is a way of getting a subset of population."
   ]
  },
  {
   "cell_type": "markdown",
   "metadata": {
    "slideshow": {
     "slide_type": "fragment"
    }
   },
   "source": [
    "## What do we use sampling for?"
   ]
  },
  {
   "cell_type": "markdown",
   "metadata": {
    "slideshow": {
     "slide_type": "fragment"
    }
   },
   "source": [
    "```\n",
    "We can use sampling to estimate a population statistic when we don't have \n",
    "our hands on the full population! And in real life we almost never have the full population.\n",
    "```"
   ]
  },
  {
   "cell_type": "markdown",
   "metadata": {},
   "source": [
    "### Can you think of some examples where we won't have the full population?"
   ]
  },
  {
   "cell_type": "markdown",
   "metadata": {
    "slideshow": {
     "slide_type": "subslide"
    }
   },
   "source": [
    "### Deterministic sample:\n",
    "* Sampling scheme doesn’t involve chance\n",
    "\n",
    "### Probability (random) sample:\n",
    "* Before the sample is drawn, you have to know the probability of selecting each group of people in the population\n",
    "* Not all individuals need to have an equal chance of being selected"
   ]
  },
  {
   "cell_type": "code",
   "execution_count": null,
   "metadata": {
    "slideshow": {
     "slide_type": "subslide"
    }
   },
   "outputs": [],
   "source": [
    "# If we take every row with a score of 6\n",
    "# what type of sampling is this?\n",
    "\n",
    "possibilities[possibilities.get(\"Score\") == 6]"
   ]
  },
  {
   "cell_type": "markdown",
   "metadata": {
    "slideshow": {
     "slide_type": "fragment"
    }
   },
   "source": [
    "```\n",
    "Deterministic / Random?\n",
    "```\n",
    "\n",
    "(It somewhat depends, but one answer is usually more probable.)"
   ]
  },
  {
   "cell_type": "code",
   "execution_count": null,
   "metadata": {
    "slideshow": {
     "slide_type": "subslide"
    }
   },
   "outputs": [],
   "source": [
    "# If we sample a random selection of 5 rows\n",
    "# what type of sampling is this?\n",
    "\n",
    "possibilities.sample(5)"
   ]
  },
  {
   "cell_type": "markdown",
   "metadata": {
    "slideshow": {
     "slide_type": "fragment"
    }
   },
   "source": [
    "```\n",
    "Deterministic / Random?\n",
    "```"
   ]
  },
  {
   "cell_type": "code",
   "execution_count": null,
   "metadata": {},
   "outputs": [],
   "source": [
    "np.random.seed(42)\n",
    "sample_index = np.random.choice(np.arange(5), 5)\n",
    "np.random.seed()\n",
    "possibilities.take(sample_index)"
   ]
  },
  {
   "cell_type": "markdown",
   "metadata": {},
   "source": [
    "```\n",
    "Deterministic / Random?\n",
    "```"
   ]
  },
  {
   "cell_type": "code",
   "execution_count": null,
   "metadata": {
    "slideshow": {
     "slide_type": "subslide"
    }
   },
   "outputs": [],
   "source": [
    "# What if we sample the first 5 rows that we see?\n",
    "# Is this not the same as simulating 5 times?\n",
    "# What kind of sampling is this?\n",
    "\n",
    "possibilities.take(np.arange(5))"
   ]
  },
  {
   "cell_type": "markdown",
   "metadata": {
    "slideshow": {
     "slide_type": "fragment"
    }
   },
   "source": [
    "```\n",
    "Deterministic / Random\n",
    "```"
   ]
  },
  {
   "cell_type": "code",
   "execution_count": null,
   "metadata": {
    "slideshow": {
     "slide_type": "subslide"
    }
   },
   "outputs": [],
   "source": [
    "# Okay, what if we shuffle the possibilities, and then pick the first 5?\n",
    "# Should be fine, right?\n",
    "\n",
    "row_ids = np.arange(possibilities.shape[0])\n",
    "\n",
    "np.random.shuffle(row_ids)\n",
    "shuffled = possibilities.iloc[row_ids]\n",
    "shuffled.take(np.arange(5))"
   ]
  },
  {
   "cell_type": "markdown",
   "metadata": {
    "slideshow": {
     "slide_type": "fragment"
    }
   },
   "source": [
    "```\n",
    "Is this the same as the sample without replacement?\n",
    "```"
   ]
  },
  {
   "cell_type": "code",
   "execution_count": null,
   "metadata": {},
   "outputs": [],
   "source": [
    "# How about this? Deterministic / Random?\n",
    "\n",
    "to_sample = possibilities[possibilities.get(\"Score\") >= 3]\n",
    "\n",
    "row_ids = np.arange(to_sample.shape[0])\n",
    "\n",
    "np.random.shuffle(row_ids)\n",
    "shuffled = to_sample.iloc[row_ids]\n",
    "shuffled.take(np.arange(5))"
   ]
  },
  {
   "cell_type": "markdown",
   "metadata": {},
   "source": [
    "```\n",
    "Random selection from a deterministic subset of the data. \n",
    "\n",
    "Not deterministic. \n",
    "\n",
    "Not perfectly random, but still random.\n",
    "```"
   ]
  },
  {
   "cell_type": "markdown",
   "metadata": {
    "slideshow": {
     "slide_type": "subslide"
    }
   },
   "source": [
    "# What conditions must be satisfied for accurate sampling?\n",
    "# What do we mean by \"accurate\" sampling?\n",
    "---\n",
    "\n",
    "I'm glad you asked!"
   ]
  },
  {
   "cell_type": "markdown",
   "metadata": {
    "slideshow": {
     "slide_type": "subslide"
    }
   },
   "source": [
    "# Accuracy vs. Precision"
   ]
  },
  {
   "cell_type": "markdown",
   "metadata": {
    "slideshow": {
     "slide_type": "fragment"
    }
   },
   "source": [
    "Accuracy: close to the true value\n",
    "    \n",
    "Precision: individual guesses are all close together"
   ]
  },
  {
   "cell_type": "code",
   "execution_count": null,
   "metadata": {
    "slideshow": {
     "slide_type": "subslide"
    }
   },
   "outputs": [],
   "source": [
    "# Recall that sampling is a way for us to discover things about\n",
    "# a population when we don't have access to that population.\n",
    "#\n",
    "# So by that logic, an \"accurate\" sample would mean..."
   ]
  },
  {
   "cell_type": "markdown",
   "metadata": {
    "slideshow": {
     "slide_type": "fragment"
    }
   },
   "source": [
    "```\n",
    "That we can accurately predict things about the population using the sample.\n",
    "```"
   ]
  },
  {
   "cell_type": "markdown",
   "metadata": {
    "slideshow": {
     "slide_type": "subslide"
    }
   },
   "source": [
    "# Law of Large Numbers\n",
    "---\n",
    "As long as we satisfy the conditions for an accurate sample then we know that:\n",
    "- As the number of samples increases, the distribution of sample results will approach the true distribution of the population\n",
    "\n",
    "In other words, the empirical distribution will get closer to the probability distribution"
   ]
  },
  {
   "cell_type": "code",
   "execution_count": null,
   "metadata": {
    "slideshow": {
     "slide_type": "subslide"
    }
   },
   "outputs": [],
   "source": [
    "# Let's verify this ourselves"
   ]
  },
  {
   "cell_type": "code",
   "execution_count": null,
   "metadata": {
    "slideshow": {
     "slide_type": "fragment"
    }
   },
   "outputs": [],
   "source": [
    "# We can define a simulate function\n",
    "def simulate(num):\n",
    "    return possibilities.sample(num, replace = True).get(\"Score\")"
   ]
  },
  {
   "cell_type": "code",
   "execution_count": null,
   "metadata": {
    "slideshow": {
     "slide_type": "subslide"
    }
   },
   "outputs": [],
   "source": [
    "plt.figure(figsize=(15,10))\n",
    "plt.subplot(2, 2, 1)\n",
    "x = 0\n",
    "for trials in [10, 100, 1000, 10000]:\n",
    "    x += 1\n",
    "    plt.subplot(2,2,x)\n",
    "    plt.hist(simulate(trials), bins = bins)\n",
    "    plt.title(\"simulate {} times\".format(trials))"
   ]
  },
  {
   "cell_type": "code",
   "execution_count": null,
   "metadata": {
    "slideshow": {
     "slide_type": "subslide"
    }
   },
   "outputs": [],
   "source": [
    "possibilities.plot(kind = \"hist\", y= \"Score\", bins = bins)"
   ]
  },
  {
   "cell_type": "markdown",
   "metadata": {
    "slideshow": {
     "slide_type": "slide"
    }
   },
   "source": [
    "# Sample statistics\n",
    "---\n",
    "\n",
    "In addition to the distribution of sample results approaching the true distribution, the average of sample statistics will approach the true population statistic."
   ]
  },
  {
   "cell_type": "markdown",
   "metadata": {
    "slideshow": {
     "slide_type": "subslide"
    }
   },
   "source": [
    "## What's a sample statistic?"
   ]
  },
  {
   "cell_type": "markdown",
   "metadata": {
    "slideshow": {
     "slide_type": "fragment"
    }
   },
   "source": [
    "```\n",
    "A measurement of the sample, like the mean, median, or min+max/2\n",
    "```"
   ]
  },
  {
   "cell_type": "markdown",
   "metadata": {
    "slideshow": {
     "slide_type": "subslide"
    }
   },
   "source": [
    "## Let's try and calculate a sample statistic\n",
    "---\n",
    "In addition to choosing a statistic (we'll be using mean of scores in the game), there's another thing we must decide.\n",
    "\n",
    "\n",
    "What is it?"
   ]
  },
  {
   "cell_type": "markdown",
   "metadata": {
    "slideshow": {
     "slide_type": "fragment"
    }
   },
   "source": [
    "```\n",
    "Sample size\n",
    "```"
   ]
  },
  {
   "cell_type": "markdown",
   "metadata": {
    "slideshow": {
     "slide_type": "subslide"
    }
   },
   "source": [
    "# What does our sample statistic translate to in words?"
   ]
  },
  {
   "cell_type": "markdown",
   "metadata": {
    "slideshow": {
     "slide_type": "fragment"
    }
   },
   "source": [
    "```\n",
    "For sample size of 100:\n",
    "Our sample mean is the average score of 100 simulated games\n",
    "```"
   ]
  },
  {
   "cell_type": "code",
   "execution_count": null,
   "metadata": {
    "slideshow": {
     "slide_type": "fragment"
    }
   },
   "outputs": [],
   "source": [
    "# Alright, now let's compute a sample statistic.  Try with multiple sizes.\n",
    "sample_size = 10\n",
    "simulate(sample_size).mean()"
   ]
  },
  {
   "cell_type": "code",
   "execution_count": null,
   "metadata": {
    "slideshow": {
     "slide_type": "subslide"
    }
   },
   "outputs": [],
   "source": [
    "# Let's find another sample statistic\n",
    "sample_size = 5\n",
    "sample = simulate(sample_size)\n",
    "(sample.min() + sample.max()) / 2 "
   ]
  },
  {
   "cell_type": "markdown",
   "metadata": {
    "slideshow": {
     "slide_type": "slide"
    }
   },
   "source": [
    "# Distribution of Sample Statistics\n",
    "---\n",
    "\n",
    "Recall, we said that:\n",
    ">As the number of trials grows large, the average of the distribution of sample statistics approaches the population average for that statistic."
   ]
  },
  {
   "cell_type": "markdown",
   "metadata": {
    "slideshow": {
     "slide_type": "fragment"
    }
   },
   "source": [
    "# But... how does \"number of trials\" differ from \"sample size\"?"
   ]
  },
  {
   "cell_type": "markdown",
   "metadata": {
    "slideshow": {
     "slide_type": "fragment"
    }
   },
   "source": [
    "```\n",
    "Number of trials is the number of unique samples we take to calculate our final guess of sample statistic.\n",
    "\n",
    "Sample size is the size of each of the unique samples.\n",
    "```"
   ]
  },
  {
   "cell_type": "code",
   "execution_count": null,
   "metadata": {
    "slideshow": {
     "slide_type": "subslide"
    }
   },
   "outputs": [],
   "source": [
    "# Alright, let's find a bunch of sample statistics and find their average.\n",
    "trials = 1000\n",
    "sample_size = 10\n",
    "\n",
    "sample_stats = np.array([])\n",
    "\n",
    "for trial in np.arange(trials):\n",
    "    stat = simulate(sample_size).mean()\n",
    "    sample_stats = np.append(sample_stats, stat)\n",
    "    \n",
    "np.mean(sample_stats)"
   ]
  },
  {
   "cell_type": "markdown",
   "metadata": {
    "slideshow": {
     "slide_type": "fragment"
    }
   },
   "source": [
    "### What is the actual population statistic?"
   ]
  },
  {
   "cell_type": "code",
   "execution_count": null,
   "metadata": {
    "slideshow": {
     "slide_type": "fragment"
    }
   },
   "outputs": [],
   "source": [
    "possibilities.get(\"Score\").mean()"
   ]
  },
  {
   "cell_type": "markdown",
   "metadata": {
    "slideshow": {
     "slide_type": "subslide"
    }
   },
   "source": [
    "# Let's change around the statistic we calculate"
   ]
  },
  {
   "cell_type": "code",
   "execution_count": null,
   "metadata": {
    "slideshow": {
     "slide_type": "fragment"
    }
   },
   "outputs": [],
   "source": [
    "# Alright, let's find a bunch of sample statistics and find their average.\n",
    "trials = 1_000\n",
    "sample_size = 10\n",
    "\n",
    "sample_stats = np.array([])\n",
    "\n",
    "for trial in np.arange(trials):\n",
    "    stat = simulate(sample_size).max()\n",
    "    sample_stats = np.append(sample_stats, stat)\n",
    "    \n",
    "sample_stats.mean(), possibilities.get(\"Score\").max()"
   ]
  },
  {
   "cell_type": "markdown",
   "metadata": {},
   "source": [
    "We are underestimating, how could we make the prediction better?"
   ]
  },
  {
   "cell_type": "code",
   "execution_count": null,
   "metadata": {
    "slideshow": {
     "slide_type": "subslide"
    }
   },
   "outputs": [],
   "source": [
    "# Let's plot the distribution of sample means and see what's going on as trials\n",
    "# and sample size change.\n",
    "\n",
    "\n",
    "sample_size = 3\n",
    "plt.figure(figsize=(15,10))\n",
    "x = 0\n",
    "\n",
    "for trials in [2, 5, 100, 1000]:\n",
    "    \n",
    "    sample_stats = np.array([])\n",
    "    \n",
    "    x += 1\n",
    "    print(x, end = ', ')\n",
    "    plt.subplot(2,2,x)\n",
    "    \n",
    "    for trial in np.arange(trials):\n",
    "        stat = simulate(sample_size).mean()\n",
    "        sample_stats = np.append(sample_stats, stat)\n",
    "        \n",
    "\n",
    "    plt.hist(sample_stats)\n",
    "    plt.axvline(possibilities.get(\"Score\").mean(), c='r')\n",
    "    plt.axvline(np.mean(np.mean(sample_stats)), c='navy')\n",
    "    plt.legend([\"Population\", \"Sample\"]);\n",
    "    plt.xlim((0,11))"
   ]
  },
  {
   "cell_type": "markdown",
   "metadata": {
    "slideshow": {
     "slide_type": "subslide"
    }
   },
   "source": [
    "# What is the relationship between accuracy and trials?"
   ]
  },
  {
   "cell_type": "markdown",
   "metadata": {
    "slideshow": {
     "slide_type": "fragment"
    }
   },
   "source": [
    "```\n",
    "As the number of trials increases, the accuracy increases\n",
    "```"
   ]
  },
  {
   "cell_type": "markdown",
   "metadata": {
    "slideshow": {
     "slide_type": "subslide"
    }
   },
   "source": [
    "# What is the relationship between accuracy and sample size?"
   ]
  },
  {
   "cell_type": "markdown",
   "metadata": {
    "slideshow": {
     "slide_type": "fragment"
    }
   },
   "source": [
    "```\n",
    "As the sample size increases, the accuracy increases\n",
    "```"
   ]
  },
  {
   "cell_type": "markdown",
   "metadata": {},
   "source": [
    "# How about another case"
   ]
  },
  {
   "cell_type": "code",
   "execution_count": null,
   "metadata": {},
   "outputs": [],
   "source": [
    "# Let's say for some reason we have biased sampling\n",
    "\n",
    "biased_pos = possibilities[possibilities.get(\"Score\") >= 3]\n",
    "\n",
    "def simulate_biased(num):\n",
    "    return biased_pos.sample(num, replace = True).get(\"Score\")"
   ]
  },
  {
   "cell_type": "markdown",
   "metadata": {},
   "source": [
    "### Our simulation is biased\n",
    "### We are always doing 10 trials, but we are using changing sample sizes\n",
    "### We are working with the biased samples"
   ]
  },
  {
   "cell_type": "markdown",
   "metadata": {},
   "source": [
    "## If we plot the mean value of each trial on the graph, how will they compare to the population mean?"
   ]
  },
  {
   "cell_type": "markdown",
   "metadata": {},
   "source": [
    "### As we increase our sample size, will the trial results:\n",
    "    \n",
    "* Be more accurate, but less precise?\n",
    "* Less acurate or more precise?\n",
    "* Neither"
   ]
  },
  {
   "cell_type": "code",
   "execution_count": null,
   "metadata": {},
   "outputs": [],
   "source": [
    "# Let's plot the sample\n",
    "\n",
    "plt.figure(figsize=(15,10))\n",
    "x = 0\n",
    "trials = 10\n",
    "\n",
    "for sample_size in [2, 5, 100, 10_000]:\n",
    "    \n",
    "    x += 1\n",
    "    print(x, end = ', ')\n",
    "    plt.subplot(2,2,x)\n",
    "    \n",
    "    sample_stats = np.array([])\n",
    "    \n",
    "    for trial in np.arange(trials):\n",
    "        stat = simulate_biased(sample_size).mean()\n",
    "        sample_stats = np.append(sample_stats, stat)\n",
    "        plt.axvline(np.mean(sample_stats), c='navy')\n",
    "        \n",
    "\n",
    "    # plt.hist(sample_stats)\n",
    "    plt.axvline(possibilities.get(\"Score\").mean(), c='r')\n",
    "    plt.legend([\"Population\", \"Sample\"]);\n",
    "    plt.xlim((0,11))\n"
   ]
  },
  {
   "cell_type": "markdown",
   "metadata": {},
   "source": [
    "Our estimate of the mean is getting more precise, but it getting less accurate."
   ]
  },
  {
   "cell_type": "code",
   "execution_count": null,
   "metadata": {},
   "outputs": [],
   "source": []
  }
 ],
 "metadata": {
  "celltoolbar": "Slideshow",
  "kernelspec": {
   "display_name": "Python 3",
   "language": "python",
   "name": "python3"
  },
  "language_info": {
   "codemirror_mode": {
    "name": "ipython",
    "version": 3
   },
   "file_extension": ".py",
   "mimetype": "text/x-python",
   "name": "python",
   "nbconvert_exporter": "python",
   "pygments_lexer": "ipython3",
   "version": "3.6.7"
  }
 },
 "nbformat": 4,
 "nbformat_minor": 2
}
