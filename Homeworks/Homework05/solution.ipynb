{
 "cells": [
  {
   "cell_type": "markdown",
   "metadata": {},
   "source": [
    "# Homework 5: Probability and Hypothesis Testing\n",
    "## Due Thursday Feb 20th at 11:59pm\n",
    "\n",
    "Directly sharing answers is not okay, but discussing problems with the course staff or with other students is encouraged. \n",
    "\n",
    "You should start early so that you have time to get help if you're stuck."
   ]
  },
  {
   "cell_type": "code",
   "execution_count": null,
   "metadata": {},
   "outputs": [],
   "source": [
    "#: Don't change this cell; just run it. \n",
    "\n",
    "import math\n",
    "import numpy as np\n",
    "import babypandas as bpd\n",
    "\n",
    "%matplotlib inline\n",
    "import matplotlib.pyplot as plt\n",
    "plt.style.use('fivethirtyeight')\n",
    "\n",
    "from client.api.notebook import Notebook\n",
    "ok = Notebook('hw.ok')\n",
    "_ = ok.auth(inline=True)"
   ]
  },
  {
   "cell_type": "markdown",
   "metadata": {},
   "source": [
    "**Important**: The `ok` tests don't usually tell you that your answer is correct. More often, they help catch careless mistakes. It's up to you to ensure that your answer is correct. If you're not sure, ask someone (not for the answer, but for some guidance about your approach)."
   ]
  },
  {
   "cell_type": "markdown",
   "metadata": {},
   "source": [
    "## 1. Bias towards customers"
   ]
  },
  {
   "cell_type": "markdown",
   "metadata": {},
   "source": [
    "The insurance company LivLife10 classifies its customers into 3 categories - low-income, mid-income and high-income. The company claims that it treats all of its customers equally and makes no compromises on the quality of the products that it provides. You know that the company has 10,000 customers, 40% of which are low-income customers, 30% mid-income and 30% high-income customers. However, over the past year, 60% of the complaints that the company has received are from low-income customers, 30% from mid-income customers and 10% from high-income customers. "
   ]
  },
  {
   "cell_type": "code",
   "execution_count": null,
   "metadata": {},
   "outputs": [],
   "source": [
    "#: Don't change the below three lines\n",
    "type_of_customers = [\"low-income\", \"mid-income\", \"high-income\"]\n",
    "proportion_of_customers = np.array([0.4, 0.3, 0.3])\n",
    "proportion_of_complaints = np.array([0.6, 0.3, 0.1])\n",
    "\n",
    "insurance_customers = bpd.DataFrame().assign(\n",
    "                        Type_of_Customers=type_of_customers,\n",
    "                        Proportion_of_Customers=proportion_of_customers,\n",
    "                        Proportion_of_Complaints=proportion_of_complaints)\n",
    "insurance_customers"
   ]
  },
  {
   "cell_type": "markdown",
   "metadata": {},
   "source": [
    "You have a suspicion that the insurance company is biased towards its high-income customers. That is, the insurance company is providing a better product to the high-income customers than to others. A better product is one that generates lesser complaints. You decide to test your idea. Your null hypothesis is:\n",
    "\n",
    "**Null hypothesis**: The complaints are drawn from the population according to the proportion of customers which are low-, mid-, and high-income."
   ]
  },
  {
   "cell_type": "markdown",
   "metadata": {},
   "source": [
    "**Question 1.1.** What is the expected proportion of complaints that should be heard from the high-income customers under the null hypothesis? Assign your answer to `complaints_proportion_null`."
   ]
  },
  {
   "cell_type": "code",
   "execution_count": null,
   "metadata": {},
   "outputs": [],
   "source": [
    "#...complaints_proportion_null\n",
    "complaints_proportion_null = 0.3\n",
    "complaints_proportion_null"
   ]
  },
  {
   "cell_type": "code",
   "execution_count": null,
   "metadata": {},
   "outputs": [],
   "source": [
    "# grade 1.1\n",
    "_ = ok.grade('q1_1')"
   ]
  },
  {
   "cell_type": "markdown",
   "metadata": {},
   "source": [
    "**Question 1.2.** You wish to check the bias in the insurance company towards different categories of customers. However, there are three categories of customers: high-, mid-, and low-income. Which among the following do you think is **not** a reasonable choice of test statistic for your hypothesis. You may include more than one answer. Append all your choices in a *list* called `unreasonable_test_statistics`. For example, if you think statistics 1, 2, and 3 are unreasonable, you should have `unreasonable_test_statistics = [1,2,3]`\n",
    "\n",
    "1. Average of the absolute difference between proportion of customers and proportion of corresponding complaints\n",
    "2. The total number of complaints that the company has received in the past year\n",
    "3. The absolute difference between the sum of proportion of customers and the sum of proportion of corresponding complaints\n",
    "4. The total variation distance between the probability distribution of customers and the distribution of complaints\n",
    "5. Sum of the absolute difference between proportion of customers and proportion of corresponding complaints\n",
    "6. Average of the sum of the proportion of customers and the proportion of corresponding complaints"
   ]
  },
  {
   "cell_type": "code",
   "execution_count": null,
   "metadata": {},
   "outputs": [],
   "source": [
    "#...unreasonable_test_statistics\n",
    "unreasonable_test_statistics = [2, 3, 6] # Can be in any order; [2, 6, 3] is also correct\n",
    "unreasonable_test_statistics"
   ]
  },
  {
   "cell_type": "code",
   "execution_count": null,
   "metadata": {},
   "outputs": [],
   "source": [
    "# grade 1.2\n",
    "_ = ok.grade('q1_2')"
   ]
  },
  {
   "cell_type": "markdown",
   "metadata": {},
   "source": [
    "**Question 1.3.** Say you went ahead with the total variation distance as your test statistic\n",
    "\n",
    "Write a function called `total_variation_distance` that takes in two probability distributions as arrays and calculates the total variation distance between them."
   ]
  },
  {
   "cell_type": "code",
   "execution_count": null,
   "metadata": {},
   "outputs": [],
   "source": [
    "#DELETE\n",
    "\n",
    "def total_variation_distance(first_distrib, second_distrib):\n",
    "    return sum(np.abs(first_distrib - second_distrib)) / 2"
   ]
  },
  {
   "cell_type": "code",
   "execution_count": null,
   "metadata": {},
   "outputs": [],
   "source": [
    "# Place your answer here. It may contain several lines of code.\n",
    "\n",
    "def total_variation_distance(first_distrib, second_distrib):\n",
    "    ..."
   ]
  },
  {
   "cell_type": "code",
   "execution_count": null,
   "metadata": {},
   "outputs": [],
   "source": [
    "#: Use the below code to test your function\n",
    "total_variation_distance(np.array([1,0,0]), np.array([0,0,1]))  # Output should be 1.0"
   ]
  },
  {
   "cell_type": "code",
   "execution_count": null,
   "metadata": {},
   "outputs": [],
   "source": [
    "# grade 1.3\n",
    "_ = ok.grade('q1_3')"
   ]
  },
  {
   "cell_type": "markdown",
   "metadata": {},
   "source": [
    "**Question 1.4.** Write a simulation which computes the TVD statistic 5000 times on data generated under the null hypothesis. Save the simulated statistics in an *array* called `empirical_tvds`.\n",
    "\n",
    "*Hint:* Use `np.random.multinomial` [documentation](https://docs.scipy.org/doc/numpy-1.15.0/reference/generated/numpy.random.multinomial.html)."
   ]
  },
  {
   "cell_type": "code",
   "execution_count": null,
   "metadata": {},
   "outputs": [],
   "source": [
    "#...empirical_tvds\n",
    "\n",
    "empirical_tvds = np.array([])\n",
    "\n",
    "for _ in range(5000):\n",
    "    simulated_distribution = np.random.multinomial(10000, insurance_customers.get('Proportion_of_Customers'))/10000\n",
    "    current_tvd = total_variation_distance(simulated_distribution, proportion_of_customers)\n",
    "    empirical_tvds = np.append(empirical_tvds, current_tvd)\n",
    "\n",
    "empirical_tvds"
   ]
  },
  {
   "cell_type": "code",
   "execution_count": null,
   "metadata": {},
   "outputs": [],
   "source": [
    "#: grade 1.4\n",
    "_ = ok.grade('q1_4')"
   ]
  },
  {
   "cell_type": "markdown",
   "metadata": {},
   "source": [
    "**Question 1.5.** Calculate the total variation distance in the actual scenario, that is, the observed scenario. Save the result in `observed_tvd`."
   ]
  },
  {
   "cell_type": "code",
   "execution_count": null,
   "metadata": {},
   "outputs": [],
   "source": [
    "#...observed_tvd\n",
    "observed_tvd = total_variation_distance(proportion_of_complaints, proportion_of_customers)\n",
    "observed_tvd"
   ]
  },
  {
   "cell_type": "markdown",
   "metadata": {},
   "source": [
    "Let us plot a histogram of `empirical_tvds` and compare that to our `observed_tvd`"
   ]
  },
  {
   "cell_type": "code",
   "execution_count": null,
   "metadata": {},
   "outputs": [],
   "source": [
    "#: Visualize\n",
    "bpd.DataFrame().assign(empirical_tvds = empirical_tvds).plot(kind='hist')\n",
    "#plt.scatter(observed_tvd, 0, color='red', s=30)"
   ]
  },
  {
   "cell_type": "code",
   "execution_count": null,
   "metadata": {},
   "outputs": [],
   "source": [
    "# grade 1.5\n",
    "_ = ok.grade('q1_5')"
   ]
  },
  {
   "cell_type": "markdown",
   "metadata": {},
   "source": [
    "**Question 1.6.** Recall that the null hypothesis was that the complaints are drawn from the population according to the proportion of customers which where low-, mid-, and high-income.\n",
    "Looking at the histogram above, do you think it is likely that the null hypothesis is true? Write your answer in the variable `insurance_claim_true`. The value of the boolean variable should be `True` if you agree that the null hypothesis is true, and `False` otherwise."
   ]
  },
  {
   "cell_type": "code",
   "execution_count": null,
   "metadata": {},
   "outputs": [],
   "source": [
    "#...insurance_claim_true\n",
    "insurance_claim_true = False\n",
    "insurance_claim_true"
   ]
  },
  {
   "cell_type": "code",
   "execution_count": null,
   "metadata": {},
   "outputs": [],
   "source": [
    "#: grade 1.6\n",
    "_ = ok.grade('q1_6')"
   ]
  },
  {
   "cell_type": "markdown",
   "metadata": {},
   "source": [
    "**Question 1.7.** Does this data show that the insurance company is providing a worse product to certain individuals *because* of their lower income level? Assign `True` to `worse_product` if you believe it does, and assign `False` otherwise."
   ]
  },
  {
   "cell_type": "code",
   "execution_count": null,
   "metadata": {},
   "outputs": [],
   "source": [
    "#... worse_product\n",
    "# we can't conclude *why* the product is worse from the data\n",
    "worse_product = False"
   ]
  },
  {
   "cell_type": "code",
   "execution_count": null,
   "metadata": {},
   "outputs": [],
   "source": [
    "#: grade 1.6\n",
    "_ = ok.grade('q1_7')"
   ]
  },
  {
   "cell_type": "markdown",
   "metadata": {},
   "source": [
    "## 2. Rocket League"
   ]
  },
  {
   "cell_type": "markdown",
   "metadata": {},
   "source": [
    "<img src=\"./rl.jpg\"/>"
   ]
  },
  {
   "cell_type": "markdown",
   "metadata": {},
   "source": [
    "Rocket League is a video game best described as \"soccer, but with rocket-powered cars\". Fun fact: Rocket League was developed in San Diego.\n",
    "\n",
    "Every Tuesday and Friday, you and your seven closest friends hold a Rocket League tournament with the goal of determining who the best Rocket League player is. While different people win from week to week, some of your friends are clearly better than others. You decide to rank your friends from best to worst. For each friend, you take a guess at the probability that they will win the tournament. Your model is:\n",
    "\n",
    "<table>\n",
    "    <tr><th>Player</th><th>Estimated Chance of Winning</th></tr>\n",
    "    <tr><td>Timon</td><td>28%</td></tr>\n",
    "        <tr><td>Kiran</td><td>27%</td></tr>\n",
    "        <tr><td>Naji</td><td>17%</td></tr>\n",
    "        <tr><td>Juliet</td><td>8%</td></tr>\n",
    "       <tr> <td>Evangeline</td><td>6%</td></tr>\n",
    "        <tr><td>You</td><td>6%</td></tr>\n",
    "        <tr><td>Prateek</td><td>5%</td></tr>\n",
    "        <tr><td>Viktor</td><td>3%</td></tr>\n",
    "</table>"
   ]
  },
  {
   "cell_type": "markdown",
   "metadata": {},
   "source": [
    "**Question 2.1.** Write down your probability distribution as an *array*. It should contain 8 elements, each describing the probability of a person winning the tournament, and it should sum to 1. Name this array `hypothesis_model_distribution`.\n"
   ]
  },
  {
   "cell_type": "code",
   "execution_count": null,
   "metadata": {},
   "outputs": [],
   "source": [
    "#...hypothesis_model_distribution\n",
    "hypothesis_model_distribution = np.array([.28, .27, .17, .08, .06, .06, .05, .03])\n",
    "hypothesis_model_distribution"
   ]
  },
  {
   "cell_type": "code",
   "execution_count": null,
   "metadata": {},
   "outputs": [],
   "source": [
    "# grade 2.1\n",
    "_ = ok.grade('q2_1')"
   ]
  },
  {
   "cell_type": "markdown",
   "metadata": {},
   "source": [
    "**Question 2.2.** You are not very confident in your Rocket League skills -- you estimate that you only have a 6% chance of winning any given tournament. Over the course of the next year, you play in 100 tournaments, and win only two. You begin to feel that 6% might be *too high* of an estimate, and that your model is wrong.\n",
    "\n",
    "Using your model in which you have a 6% chance of winning a tournament as your null hypothesis, write a simulation that runs 100 tournaments and keeps track of the absolute difference between how many tournaments you win and the number you'd expect to win (6) if your model is right. Run your simulation 5000 times. Keep track of the differences in an array called `differences`."
   ]
  },
  {
   "cell_type": "code",
   "execution_count": null,
   "metadata": {},
   "outputs": [],
   "source": [
    "n_repetitions = 5000"
   ]
  },
  {
   "cell_type": "code",
   "execution_count": null,
   "metadata": {},
   "outputs": [],
   "source": [
    "#...differences\n",
    "differences = np.array([])\n",
    "for i in np.arange(n_repetitions):\n",
    "    count = (np.random.multinomial(100, hypothesis_model_distribution)).item(5)\n",
    "    differences = np.append(differences, abs(count-6))\n",
    "differences"
   ]
  },
  {
   "cell_type": "code",
   "execution_count": null,
   "metadata": {},
   "outputs": [],
   "source": [
    "#: Visualize with a histogram\n",
    "bpd.DataFrame().assign(Difference = differences).plot(kind='hist', bins=np.arange(10), density=True)"
   ]
  },
  {
   "cell_type": "code",
   "execution_count": null,
   "metadata": {},
   "outputs": [],
   "source": [
    "# grade 2.2\n",
    "_ = ok.grade('q2_2')"
   ]
  },
  {
   "cell_type": "markdown",
   "metadata": {},
   "source": [
    "**Question 2.3.** Your null hypothesis was that you have a 6% chance of winning any given tournament, but you only won 2 out of 100. Set the variable `null_hypothesis_boolean` below to `True` if you think your model is plausible or `False` if it should be rejected. You should reject only if it is very unlikely that you would win only twice under the null hypothesis."
   ]
  },
  {
   "cell_type": "code",
   "execution_count": null,
   "metadata": {},
   "outputs": [],
   "source": [
    "#... null_hypothesis_boolean\n",
    "null_hypothesis_boolean = True  # Should be a boolean"
   ]
  },
  {
   "cell_type": "code",
   "execution_count": null,
   "metadata": {},
   "outputs": [],
   "source": [
    "# grade 2.3\n",
    "_ = ok.grade('q2_3')"
   ]
  },
  {
   "cell_type": "markdown",
   "metadata": {},
   "source": [
    "**Question 2.4.** Now, we check the p-value of our claim. That is, compute the proportion of times in our simulation that we saw a difference of 4 or more between the number of wins and the expected number of wins. Assign your result to `p_value_4_4`"
   ]
  },
  {
   "cell_type": "code",
   "execution_count": null,
   "metadata": {},
   "outputs": [],
   "source": [
    "#...p_value_2_4\n",
    "p_value_2_4 = np.count_nonzero(differences >= 4) / n_repetitions\n",
    "p_value_2_4"
   ]
  },
  {
   "cell_type": "code",
   "execution_count": null,
   "metadata": {},
   "outputs": [],
   "source": [
    "# grade 2.4\n",
    "_ = ok.grade('q2_4')"
   ]
  },
  {
   "cell_type": "markdown",
   "metadata": {},
   "source": [
    "## 3. Loaded Die"
   ]
  },
  {
   "cell_type": "markdown",
   "metadata": {},
   "source": [
    "... And we are back to rolling dice! A loaded die is one that is unfair, i.e., does not have equal probability for each of the outcomes 1–6 (inclusive)."
   ]
  },
  {
   "cell_type": "markdown",
   "metadata": {},
   "source": [
    "**Question 3.1.** Your friend Aby has a model that says that the die is loaded in a way such that the probability of \"1\" coming up is 0.5 and all the other values have the same probabilities. \n",
    "\n",
    "Write down Aby's model's distribution as an *array*. It should contain 6 elements, each describing the probability of seeing the corresponding face of the die, and it should sum to 1."
   ]
  },
  {
   "cell_type": "code",
   "execution_count": null,
   "metadata": {},
   "outputs": [],
   "source": [
    "#...aby_hypothesis_model_distribution\n",
    "aby_hypothesis_model_distribution = np.array([.5, .1, .1, .1, .1, .1])\n",
    "aby_hypothesis_model_distribution"
   ]
  },
  {
   "cell_type": "code",
   "execution_count": null,
   "metadata": {},
   "outputs": [],
   "source": [
    "# grade 3.1\n",
    "_ = ok.grade('q3_1')"
   ]
  },
  {
   "cell_type": "markdown",
   "metadata": {},
   "source": [
    "**Question 3.2.** Say we want to test Aby's model. In particular, we wish to test if the probability of \"1\" coming up is 0.5. We roll the die 10 times and we got \"1\" a whopping 8 times. We claim that Aby's model is wrong. In order to substantiate our claim, we run a simulation of the die-roll.\n",
    "\n",
    "Write a simulation and run it 5000 times, maintaining an array `differences` which keeps track of the absolute difference between number of '1's that were seen and the expected number (5) in each simulation."
   ]
  },
  {
   "cell_type": "code",
   "execution_count": null,
   "metadata": {},
   "outputs": [],
   "source": [
    "n_repetitions = 5000"
   ]
  },
  {
   "cell_type": "code",
   "execution_count": null,
   "metadata": {},
   "outputs": [],
   "source": [
    "#...differences\n",
    "differences = np.array([])\n",
    "for i in np.arange(n_repetitions):\n",
    "    count = (np.random.multinomial(10, aby_hypothesis_model_distribution)).item(0)\n",
    "    differences = np.append(differences, abs(count-5))\n",
    "differences"
   ]
  },
  {
   "cell_type": "code",
   "execution_count": null,
   "metadata": {},
   "outputs": [],
   "source": [
    "#: Visualize with a histogram\n",
    "bpd.DataFrame().assign(Difference = differences).plot(kind='hist', bins=np.arange(8), density=True)"
   ]
  },
  {
   "cell_type": "code",
   "execution_count": null,
   "metadata": {},
   "outputs": [],
   "source": [
    "# grade 3.2\n",
    "_ = ok.grade('q3_2')"
   ]
  },
  {
   "cell_type": "markdown",
   "metadata": {},
   "source": [
    "**Question 3.3.** Recall that we saw the die come up \"1\" eight times. Set the variable `null_hypothesis_boolean` below to `True` if you think Aby's model is plausible or `False` if it should be rejected."
   ]
  },
  {
   "cell_type": "code",
   "execution_count": null,
   "metadata": {},
   "outputs": [],
   "source": [
    "#... null_hypothesis_boolean\n",
    "null_hypothesis_boolean = True"
   ]
  },
  {
   "cell_type": "code",
   "execution_count": null,
   "metadata": {},
   "outputs": [],
   "source": [
    "# grade 3.3\n",
    "_ = ok.grade('q3_3')"
   ]
  },
  {
   "cell_type": "markdown",
   "metadata": {},
   "source": [
    "**Question 3.4.** Now, we check the p-value of our claim. That is, compute the proportion of times in our simulation that we saw a difference of 3 or more between the number of '1's and the expected number of '1's. Assign your result to `p_value_5_4`"
   ]
  },
  {
   "cell_type": "code",
   "execution_count": null,
   "metadata": {},
   "outputs": [],
   "source": [
    "#...p_value_3_4\n",
    "p_value_3_4 = np.count_nonzero(differences >= 3) / n_repetitions\n",
    "p_value_3_4"
   ]
  },
  {
   "cell_type": "code",
   "execution_count": null,
   "metadata": {},
   "outputs": [],
   "source": [
    "# grade 3.4\n",
    "_ = ok.grade('q3_4')"
   ]
  },
  {
   "cell_type": "markdown",
   "metadata": {},
   "source": [
    "# Finish Line\n",
    "\n",
    "Congratulations, you're done with the lab!  Be sure to\n",
    "\n",
    "- **Verify that all tests pass** (the next cell has a shortcut for that), \n",
    "- **Save and Checkpoint** from the `File` menu,\n",
    "- **Run the last code cell to submit your work**\n",
    "- **Save PDF and submit to gradescope**"
   ]
  },
  {
   "cell_type": "code",
   "execution_count": null,
   "metadata": {},
   "outputs": [],
   "source": [
    "#: For your convenience, you can run this cell to run all the tests at once!\n",
    "import os\n",
    "_ = [ok.grade(q[:-3]) for q in os.listdir('tests') if q.startswith('q')]"
   ]
  },
  {
   "cell_type": "markdown",
   "metadata": {},
   "source": [
    "## Before submitting, select \"Kernel\" -> \"Restart & Run All\" from the menu!\n",
    "\n",
    "Then make sure that all of your cells ran without error."
   ]
  },
  {
   "cell_type": "code",
   "execution_count": null,
   "metadata": {},
   "outputs": [],
   "source": [
    "# submit your notebook\n",
    "_ = ok.submit()"
   ]
  },
  {
   "cell_type": "markdown",
   "metadata": {},
   "source": [
    "## Don't forget to also submit your PDF to Gradescope!\n",
    "\n",
    "Select File > Download As > PDF via LaTeX in the File menu. Turn in this PDF file into the respective assignement at https://gradescope.com/.\n",
    "<br>\n",
    "If you submit more than once before the deadline, we will only grade your final submission"
   ]
  }
 ],
 "metadata": {
  "kernelspec": {
   "display_name": "Python 3",
   "language": "python",
   "name": "python3"
  },
  "language_info": {
   "codemirror_mode": {
    "name": "ipython",
    "version": 3
   },
   "file_extension": ".py",
   "mimetype": "text/x-python",
   "name": "python",
   "nbconvert_exporter": "python",
   "pygments_lexer": "ipython3",
   "version": "3.6.7"
  }
 },
 "nbformat": 4,
 "nbformat_minor": 2
}
