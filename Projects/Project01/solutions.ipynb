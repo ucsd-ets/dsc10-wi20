{
 "cells": [
  {
   "cell_type": "markdown",
   "metadata": {},
   "source": [
    "# Project 1: California\n",
    "\n",
    "\n",
    "## Due Thursday, February 6th at 11:59pm\n",
    "\n",
    "Please complete this notebook by filling in the cells provided. Before you begin, execute the following cell to load the provided tests."
   ]
  },
  {
   "cell_type": "code",
   "execution_count": 2,
   "metadata": {},
   "outputs": [
    {
     "name": "stdout",
     "output_type": "stream",
     "text": [
      "=====================================================================\n",
      "Assignment: Project 1\n",
      "OK, version v1.14.18\n",
      "=====================================================================\n",
      "\n",
      "Successfully logged in as chc401@ucsd.edu\n"
     ]
    }
   ],
   "source": [
    "# Don't change this cell; just run it\n",
    "import numpy as np\n",
    "import babypandas as bpd\n",
    "\n",
    "import matplotlib.pyplot as plt\n",
    "%matplotlib inline\n",
    "plt.style.use('fivethirtyeight')\n",
    "\n",
    "from client.api.notebook import Notebook\n",
    "ok = Notebook('project.ok')\n",
    "_ = ok.auth(inline=True)"
   ]
  },
  {
   "cell_type": "markdown",
   "metadata": {},
   "source": [
    "In this project we'll explore some data about California. The project is a little longer than a homework, but the questions may require you to **\"put the pieces together\"** more than a typical homework question. You may have to perform several steps to answer a question. Remember that you can always save intermediate results!\n",
    "\n",
    "The datasets in this project consist of real-world data, cleaned slighty for ease of use. As such, there are occasional anomalies that you'll have to look out for and handle specially. You are encouraged to ask your own questions and try to answer them using these datasets!\n",
    "\n",
    "### Logistics\n",
    "\n",
    "**Deadline.** This project is due at **11:59pm on Thursday February 6**. It's much better to be early than late, so start working now.\n",
    "\n",
    "**Plotting Questions**: The plots for the project are **optional** and ungraded, meaning you do **not** need to submit a PDF of this notebook to Gradescope. Hoewever, the plotting questions are good practice for the midterm.\n",
    "\n",
    "**Partners.** You may work with one other partner; only one of you is required to submit the project. On okpy.org, the person who submits should also designate their partner so that both of you receive credit.\n",
    "\n",
    "**Rules.** Don't share your code with anybody but your partner. You are welcome to discuss questions with other students, but don't share the answers or code. The experience of solving the problems in this project will prepare you for exams (and life). If someone asks you for the answer, resist! Instead, you can demonstrate how you would solve a similar problem.\n",
    "\n",
    "**Support.** You are not alone! Come to office hours, post on Campuswire, and talk to your classmates. If you want to ask about the details of your solution to a problem, make a private Campuswire post and the staff will respond. If you're ever feeling overwhelmed or don't know how to make progress, send a private Campuswire post to instructors for help.\n",
    "\n",
    "**Tests.** The tests that are given are not comprehensive and passing the tests for a question does not mean that you answered the question correctly. Tests usually only check that your table has the correct column labels. However, more tests will be applied to verify the correctness of your submission in order to assign your final score, so be careful and check your work!\n",
    "\n",
    "**Advice.** Develop your answers incrementally. To perform a complicated table manipulation, break it up into steps, perform each step on a different line, give a new name to each result, and check that each intermediate result is what you expect. You can add any additional names or functions you want to the provided cells. Make sure that you are using distinct and meaningful variable names throughout the notebook. Along that line, DO NOT reuse the variable names that we use when we grade your answers, otherwise there is the chance that our tests will grade against a variable that's not what you intened (especially if you run the notebook out of order!).\n",
    "\n",
    "You never have to use just one line in this project or any others. Use intermediate variables and multiple lines as much as you would like!"
   ]
  },
  {
   "cell_type": "markdown",
   "metadata": {},
   "source": [
    "## 1. California Climates\n",
    "\n",
    "<img src=\"./jtree.jpg\"/>\n",
    "\n",
    "California consists of many different climates -- from the southern deserts to the alpine conditions in the High Sierra. We'll start by getting a sense of what Californian land is like."
   ]
  },
  {
   "cell_type": "markdown",
   "metadata": {},
   "source": [
    "**Question 1.1.** The file `data/landtype.csv` contains information from the US Geological Survey on land type for the entire United States. Read it into a DataFrame named `us_land`."
   ]
  },
  {
   "cell_type": "code",
   "execution_count": null,
   "metadata": {},
   "outputs": [],
   "source": [
    "#... us_land\n",
    "us_land = bpd.read_csv('data/landtype.csv')\n",
    "us_land"
   ]
  },
  {
   "cell_type": "code",
   "execution_count": null,
   "metadata": {},
   "outputs": [],
   "source": [
    "_ = ok.grade('q1_1')"
   ]
  },
  {
   "cell_type": "markdown",
   "metadata": {},
   "source": [
    "The USGS breaks the United States into 3821 regions; each row in the table contains information about one region. Out of the table's 12 columns, the important ones are:\n",
    "\n",
    "<table>\n",
    "    <tr>\n",
    "        <th>Column Name</th>\n",
    "        <th>Description</th>\n",
    "    </tr>\n",
    "    <tr>\n",
    "        <td>strStName</td>\n",
    "        <td>state name</td>\n",
    "    </tr>\n",
    "    <tr>\n",
    "        <td>strClassName</td>\n",
    "        <td>land class</td>\n",
    "    </tr>\n",
    "    <tr>\n",
    "        <td>strEcoSysName</td>\n",
    "        <td>ecological system</td>\n",
    "    </tr>\n",
    "    <tr>\n",
    "        <td>intSqMiles</td>\n",
    "        <td>size in square miles</td>\n",
    "    </tr>\n",
    "</table>"
   ]
  },
  {
   "cell_type": "markdown",
   "metadata": {},
   "source": [
    "**Question 1.2.** To make the data easier to work with, let's keep only the columns listed above and give them better names. Create a new DataFrame named `us_land_renamed` which contains four columns: \"State\", \"Class\", \"EcologicalSystem\", and \"SquareMiles\", containing the state name, land type, ecological system, and size of each region, respectively."
   ]
  },
  {
   "cell_type": "code",
   "execution_count": null,
   "metadata": {},
   "outputs": [],
   "source": [
    "#... us_land_renamed\n",
    "us_land_renamed = bpd.DataFrame().assign(\n",
    "    State=us_land.get('strStName'),\n",
    "    Class=us_land.get('strClassName'),\n",
    "    EcologicalSystem=us_land.get('strEcoSysName'),\n",
    "    SquareMiles=us_land.get('intSqMiles')\n",
    ")\n",
    "us_land_renamed"
   ]
  },
  {
   "cell_type": "code",
   "execution_count": null,
   "metadata": {},
   "outputs": [],
   "source": [
    "_ = ok.grade('q1_2')"
   ]
  },
  {
   "cell_type": "markdown",
   "metadata": {},
   "source": [
    "**Question 1.3.** We only care about California! Create a table called `california_land` which contains only the regions in California. Furthermore, remove the \"State\" column, since it is no longer informative."
   ]
  },
  {
   "cell_type": "code",
   "execution_count": null,
   "metadata": {},
   "outputs": [],
   "source": [
    "#... ca_land\n",
    "ca_land = us_land_renamed[us_land_renamed.get('State') == 'California'].drop(columns='State')\n",
    "ca_land"
   ]
  },
  {
   "cell_type": "code",
   "execution_count": null,
   "metadata": {},
   "outputs": [],
   "source": [
    "_ = ok.grade('q1_3')"
   ]
  },
  {
   "cell_type": "markdown",
   "metadata": {},
   "source": [
    "**Question 1.4.** We are interested in how much of California's land is Forest & Woodland, how much is Open Water, and so on. Create a table named `ca_classes` with two columns, \"SquareMiles\" and \"Percentage\", containing the total area in square miles and the total percentage (as a number between 0 and 1) of California that is made up of each land class. The label of each row should be a land class. That is, your table should look like this (but with the `?`s replaced by numbers):\n",
    "\n",
    "<img width=50% src=\"./q1_output.png\"/>"
   ]
  },
  {
   "cell_type": "code",
   "execution_count": null,
   "metadata": {},
   "outputs": [],
   "source": [
    "#... ca_classes\n",
    "ca_classes = ca_land.assign(\n",
    "    Percentage=ca_land.get('SquareMiles') / ca_land.get('SquareMiles').sum()\n",
    ").groupby('Class').sum()\n",
    "ca_classes"
   ]
  },
  {
   "cell_type": "code",
   "execution_count": null,
   "metadata": {},
   "outputs": [],
   "source": [
    "_ = ok.grade('q1_4')"
   ]
  },
  {
   "cell_type": "markdown",
   "metadata": {},
   "source": [
    "**Question 1.5.** Create a horizontal bar chart showing the percentage of California that is made up of each land class. Make sure that the bars are sorted, from longest at the top to shortest at the bottom."
   ]
  },
  {
   "cell_type": "code",
   "execution_count": null,
   "metadata": {},
   "outputs": [],
   "source": [
    "#- write your code here\n",
    "ca_classes.sort_values(by='Percentage', ascending=True).plot(kind='barh', y='Percentage')"
   ]
  },
  {
   "cell_type": "markdown",
   "metadata": {},
   "source": [
    "**Question 1.6.** You should notice that almost 7% of California's land is developed! How many square miles is this, exactly? Save your answer in `developed_sq_mi`."
   ]
  },
  {
   "cell_type": "code",
   "execution_count": null,
   "metadata": {},
   "outputs": [],
   "source": [
    "#... developed_sq_mi\n",
    "developed_sq_mi = ca_classes.get('SquareMiles').loc['Developed & Other Human Use']\n",
    "developed_sq_mi"
   ]
  },
  {
   "cell_type": "code",
   "execution_count": null,
   "metadata": {},
   "outputs": [],
   "source": [
    "_ = ok.grade('q1_6')"
   ]
  },
  {
   "cell_type": "markdown",
   "metadata": {},
   "source": [
    "## 2. Beaches and Coast"
   ]
  },
  {
   "cell_type": "markdown",
   "metadata": {},
   "source": [
    "<img width=85% src=\"./beach.jpg\"/>"
   ]
  },
  {
   "cell_type": "markdown",
   "metadata": {},
   "source": [
    "California has over 3,400 miles of shoreline. The [California Coastal Commission](https://en.wikipedia.org/wiki/California_Coastal_Commission) is a public agency charged with managing the coast and ensuring that all Californians have access to the ocean.\n",
    "\n",
    "The California Coastal Commission maintains a list of all of the named beaches in the state. The file `beaches.csv` contains this information:"
   ]
  },
  {
   "cell_type": "code",
   "execution_count": null,
   "metadata": {},
   "outputs": [],
   "source": [
    "beaches = bpd.read_csv('data/beaches.csv')\n",
    "beaches"
   ]
  },
  {
   "cell_type": "markdown",
   "metadata": {},
   "source": [
    "The table below shows all of the columns in the DataFrame and their contents:\n",
    "\n",
    "<table>\n",
    "    <tr>\n",
    "        <th>\n",
    "            Column Name\n",
    "        </th>\n",
    "        <th>\n",
    "            Description\n",
    "        </th>\n",
    "    </tr>\n",
    "    <tr>\n",
    "        <td>\n",
    "            COUNTY\n",
    "        </td>\n",
    "        <td>\n",
    "            Name of the county in which the beach is located\n",
    "        </td>\n",
    "    </tr>\n",
    "    <tr>\n",
    "        <td>\n",
    "            PARKING\n",
    "        </td>\n",
    "        <td>\n",
    "            Whether or not there is parking at the beach\n",
    "        </td>\n",
    "    </tr>\n",
    "    <tr>\n",
    "        <td>\n",
    "            FEE\n",
    "        </td>\n",
    "        <td>\n",
    "            Whether or not there is a fee to access the beach\n",
    "        </td>\n",
    "    </tr>\n",
    "    <tr>\n",
    "        <td>\n",
    "            LATITUDE\n",
    "        </td>\n",
    "        <td>\n",
    "            The beach's latitude\n",
    "        </td>\n",
    "    </tr>\n",
    "    <tr>\n",
    "        <td>\n",
    "            LOGITUDE\n",
    "        </td>\n",
    "        <td>\n",
    "            The beach's longitude\n",
    "        </td>\n",
    "    </tr>\n",
    "    <tr>\n",
    "        <td>\n",
    "            NAME\n",
    "        </td>\n",
    "        <td>\n",
    "            Name of the beach\n",
    "        </td>\n",
    "    </tr>\n",
    "    <tr>\n",
    "        <td>\n",
    "            LOCATION\n",
    "        </td>\n",
    "        <td>\n",
    "            A description of the beach's location\n",
    "        </td>\n",
    "    </tr>\n",
    "    <tr>\n",
    "        <td>\n",
    "            DESCRIPTION\n",
    "        </td>\n",
    "        <td>\n",
    "            A short description of the beach\n",
    "        </td>\n",
    "    </tr>\n",
    "</table>"
   ]
  },
  {
   "cell_type": "markdown",
   "metadata": {},
   "source": [
    "**Question 2.1.** Which county has the most beaches?"
   ]
  },
  {
   "cell_type": "code",
   "execution_count": null,
   "metadata": {},
   "outputs": [],
   "source": [
    "#... county_with_most_beaches\n",
    "county_with_most_beaches = beaches.groupby('COUNTY').count().sort_values('FEE').index[-1]\n",
    "county_with_most_beaches"
   ]
  },
  {
   "cell_type": "code",
   "execution_count": null,
   "metadata": {},
   "outputs": [],
   "source": [
    "_ = ok.grade('q2_1')"
   ]
  },
  {
   "cell_type": "markdown",
   "metadata": {},
   "source": [
    "**Question 2.2.** That might not have been the answer we were expecting. What is the county with the most *free* beaches? That is, which county has the most beaches that do not require a fee to access?"
   ]
  },
  {
   "cell_type": "code",
   "execution_count": null,
   "metadata": {},
   "outputs": [],
   "source": [
    "#... county_with_most_free_beaches\n",
    "county_with_most_free_beaches = (\n",
    "    beaches[beaches.get('FEE') == 'No']\n",
    "    .groupby('COUNTY')\n",
    "    .count()\n",
    "    .sort_values('FEE')\n",
    ").index[-1]\n",
    "county_with_most_free_beaches"
   ]
  },
  {
   "cell_type": "code",
   "execution_count": null,
   "metadata": {},
   "outputs": [],
   "source": [
    "_ = ok.grade('q2_2')"
   ]
  },
  {
   "cell_type": "markdown",
   "metadata": {},
   "source": [
    "That's better.\n",
    "\n",
    "**Question 2.3.** How many beaches in San Diego county do not have a fee and do have parking?"
   ]
  },
  {
   "cell_type": "code",
   "execution_count": null,
   "metadata": {},
   "outputs": [],
   "source": [
    "#... san_diego_free_beaches_with_parking\n",
    "san_diego_free_beaches_with_parking = (\n",
    "    beaches[\n",
    "        (beaches.get('COUNTY') == 'San Diego') \n",
    "        & \n",
    "        (beaches.get('PARKING') == 'Yes') \n",
    "        & \n",
    "        (beaches.get('FEE') == 'No')\n",
    "    ]).shape[0]\n",
    "san_diego_free_beaches_with_parking"
   ]
  },
  {
   "cell_type": "code",
   "execution_count": null,
   "metadata": {},
   "outputs": [],
   "source": [
    "_ = ok.grade('q2_3')"
   ]
  },
  {
   "cell_type": "markdown",
   "metadata": {},
   "source": [
    "**Question 2.4.** Create a new DataFrame called `percent_free_beaches` with one row for each county and two columns: \"TOTAL\", containing the total number of beaches in each county, and \"PERCENT_FREE\", containing the percentage of the beaches in that county which do not charge a fee. Your answer should look like the picture below, but with the `?`s replaced by numbers.\n",
    "\n",
    "<img width=30% src=\"./q2_output.png\"/>\n",
    "\n",
    "*Hint*: You might want to create intermediate variables."
   ]
  },
  {
   "cell_type": "code",
   "execution_count": null,
   "metadata": {},
   "outputs": [],
   "source": [
    "#...percent_free_beaches\n",
    "free_beaches_per_county = beaches[beaches.get('FEE') == 'No'].groupby('COUNTY').count().get('PARKING')\n",
    "beaches_per_county = beaches.groupby('COUNTY').count().get('PARKING')\n",
    "\n",
    "percent_free_beaches = bpd.DataFrame().assign(\n",
    "    TOTAL=beaches_per_county,\n",
    "    PERCENT_FREE=free_beaches_per_county/beaches_per_county\n",
    ").sort_values(by='PERCENT_FREE')\n",
    "percent_free_beaches"
   ]
  },
  {
   "cell_type": "code",
   "execution_count": null,
   "metadata": {},
   "outputs": [],
   "source": [
    "_ = ok.grade('q2_4')"
   ]
  },
  {
   "cell_type": "markdown",
   "metadata": {},
   "source": [
    "**Question 2.5.** Highway 101 stretches from Los Angeles to the Canadian border. How many beaches in the dataset are on Highway 101? *Hint*: Look for the string \"Hwy. 101\"."
   ]
  },
  {
   "cell_type": "code",
   "execution_count": null,
   "metadata": {},
   "outputs": [],
   "source": [
    "#... number_on_101\n",
    "number_on_101 = beaches[beaches.get('LOCATION').str.contains('Hwy. 101')].shape[0]\n",
    "number_on_101"
   ]
  },
  {
   "cell_type": "code",
   "execution_count": null,
   "metadata": {},
   "outputs": [],
   "source": [
    "_ = ok.grade('q2_5')"
   ]
  },
  {
   "cell_type": "markdown",
   "metadata": {},
   "source": [
    "**Question 2.6.** Make a rudimentary drawing of the shape of the coast of California with a scatter plot of the beach locations (latitude and longitude).\n",
    "\n",
    "*Tip*: Place\n",
    "```python\n",
    "plt.gca().set_aspect('equal')\n",
    "```\n",
    "after your line of code to fix the aspect ratio."
   ]
  },
  {
   "cell_type": "code",
   "execution_count": null,
   "metadata": {},
   "outputs": [],
   "source": [
    "#- place your code here\n",
    "beaches.plot(kind='scatter', x='LONGITUDE', y='LATITUDE')\n",
    "plt.gca().set_aspect('equal')"
   ]
  },
  {
   "cell_type": "markdown",
   "metadata": {},
   "source": [
    "You'll notice a few dots out in the ocean. Some of those are beaches on the Channel Islands, but the northernmost \"island\" is suspicious -- I don't remember any island around Monterey!\n",
    "\n",
    "Let's use a library called `folium` to visualize the beach locations:"
   ]
  },
  {
   "cell_type": "code",
   "execution_count": null,
   "metadata": {},
   "outputs": [],
   "source": [
    "import folium"
   ]
  },
  {
   "cell_type": "code",
   "execution_count": null,
   "metadata": {},
   "outputs": [],
   "source": [
    "# don't worry too much about this code!\n",
    "m = folium.Map(location=[33.387082, -119.595940], zoom_start=6)\n",
    "\n",
    "for lat, lon, name in zip(\n",
    "        beaches.get('LATITUDE').values, beaches.get('LONGITUDE').values, beaches.get('NAME').values\n",
    "):\n",
    "    folium.Marker(location=[lat, lon], popup=name).add_to(m)\n",
    "\n",
    "m"
   ]
  },
  {
   "cell_type": "markdown",
   "metadata": {},
   "source": [
    "It looks like \"Its Beach\" near Santa Cruz is incorrectly represented in the data. It's latitude is listed as `35.952`, when it is almost surely `36.952`."
   ]
  },
  {
   "cell_type": "markdown",
   "metadata": {},
   "source": [
    "**Question 2.7.** Plot a density histogram of the beach locations by latitude. Use 20 bins."
   ]
  },
  {
   "cell_type": "code",
   "execution_count": null,
   "metadata": {},
   "outputs": [],
   "source": [
    "beaches.plot(kind='hist', y='LATITUDE', bins=20, density=True)"
   ]
  },
  {
   "cell_type": "markdown",
   "metadata": {},
   "source": [
    "**Question 2.8.** What is the name of the northernmost beach in California?"
   ]
  },
  {
   "cell_type": "code",
   "execution_count": null,
   "metadata": {},
   "outputs": [],
   "source": [
    "#... northernmost_beach\n",
    "northernmost_beach = beaches.sort_values('LATITUDE').get('NAME').iloc[-1]\n",
    "northernmost_beach"
   ]
  },
  {
   "cell_type": "code",
   "execution_count": null,
   "metadata": {},
   "outputs": [],
   "source": [
    "_ = ok.grade('q2_8')"
   ]
  },
  {
   "cell_type": "markdown",
   "metadata": {},
   "source": [
    "## 3. Climate Change\n",
    "\n",
    "<img width=90% src=\"./scripps.jpg\"/>\n",
    "\n",
    "California has plenty of coastline, but it is eroding at an alarming rate due to rising sea levels. The USGS [estimates](https://www.usgs.gov/news/sea-level-rise-could-double-erosion-rates-southern-california-coastal-cliffs) that bluffs along the coast of Southern California could be suffer erosion of anywhere from 65 to 135 feet by the year 2100.\n",
    "\n",
    "The file `sea_temp.csv` contains historical measurements of the surface temperature (in Celsius) of the water at the La Jolla oceanographic station; `sea_level.csv` contains measurements of the sea level relative to a global baseline (in meters)."
   ]
  },
  {
   "cell_type": "code",
   "execution_count": 3,
   "metadata": {},
   "outputs": [
    {
     "data": {
      "text/html": [
       "<div>\n",
       "<style scoped>\n",
       "    .dataframe tbody tr th:only-of-type {\n",
       "        vertical-align: middle;\n",
       "    }\n",
       "\n",
       "    .dataframe tbody tr th {\n",
       "        vertical-align: top;\n",
       "    }\n",
       "\n",
       "    .dataframe thead th {\n",
       "        text-align: right;\n",
       "    }\n",
       "</style>\n",
       "<table border=\"1\" class=\"dataframe\">\n",
       "  <thead>\n",
       "    <tr style=\"text-align: right;\">\n",
       "      <th></th>\n",
       "      <th>YEAR</th>\n",
       "      <th>MONTH</th>\n",
       "      <th>DAY</th>\n",
       "      <th>SURFACE_TEMP</th>\n",
       "    </tr>\n",
       "  </thead>\n",
       "  <tbody>\n",
       "    <tr>\n",
       "      <th>0</th>\n",
       "      <td>1916</td>\n",
       "      <td>8</td>\n",
       "      <td>22</td>\n",
       "      <td>19.5</td>\n",
       "    </tr>\n",
       "    <tr>\n",
       "      <th>1</th>\n",
       "      <td>1916</td>\n",
       "      <td>8</td>\n",
       "      <td>23</td>\n",
       "      <td>19.9</td>\n",
       "    </tr>\n",
       "    <tr>\n",
       "      <th>2</th>\n",
       "      <td>1916</td>\n",
       "      <td>8</td>\n",
       "      <td>24</td>\n",
       "      <td>19.7</td>\n",
       "    </tr>\n",
       "    <tr>\n",
       "      <th>3</th>\n",
       "      <td>1916</td>\n",
       "      <td>8</td>\n",
       "      <td>25</td>\n",
       "      <td>19.7</td>\n",
       "    </tr>\n",
       "    <tr>\n",
       "      <th>4</th>\n",
       "      <td>1916</td>\n",
       "      <td>8</td>\n",
       "      <td>26</td>\n",
       "      <td>19.5</td>\n",
       "    </tr>\n",
       "    <tr>\n",
       "      <th>...</th>\n",
       "      <td>...</td>\n",
       "      <td>...</td>\n",
       "      <td>...</td>\n",
       "      <td>...</td>\n",
       "    </tr>\n",
       "    <tr>\n",
       "      <th>36292</th>\n",
       "      <td>2019</td>\n",
       "      <td>5</td>\n",
       "      <td>26</td>\n",
       "      <td>18.0</td>\n",
       "    </tr>\n",
       "    <tr>\n",
       "      <th>36293</th>\n",
       "      <td>2019</td>\n",
       "      <td>5</td>\n",
       "      <td>27</td>\n",
       "      <td>17.6</td>\n",
       "    </tr>\n",
       "    <tr>\n",
       "      <th>36294</th>\n",
       "      <td>2019</td>\n",
       "      <td>5</td>\n",
       "      <td>28</td>\n",
       "      <td>17.1</td>\n",
       "    </tr>\n",
       "    <tr>\n",
       "      <th>36295</th>\n",
       "      <td>2019</td>\n",
       "      <td>5</td>\n",
       "      <td>29</td>\n",
       "      <td>18.1</td>\n",
       "    </tr>\n",
       "    <tr>\n",
       "      <th>36296</th>\n",
       "      <td>2019</td>\n",
       "      <td>5</td>\n",
       "      <td>31</td>\n",
       "      <td>18.3</td>\n",
       "    </tr>\n",
       "  </tbody>\n",
       "</table>\n",
       "<p>36297 rows × 4 columns</p>\n",
       "</div>"
      ],
      "text/plain": [
       "       YEAR  MONTH  DAY  SURFACE_TEMP\n",
       "0      1916      8   22          19.5\n",
       "1      1916      8   23          19.9\n",
       "2      1916      8   24          19.7\n",
       "3      1916      8   25          19.7\n",
       "4      1916      8   26          19.5\n",
       "...     ...    ...  ...           ...\n",
       "36292  2019      5   26          18.0\n",
       "36293  2019      5   27          17.6\n",
       "36294  2019      5   28          17.1\n",
       "36295  2019      5   29          18.1\n",
       "36296  2019      5   31          18.3\n",
       "\n",
       "[36297 rows x 4 columns]"
      ]
     },
     "execution_count": 3,
     "metadata": {},
     "output_type": "execute_result"
    }
   ],
   "source": [
    "sea_temp= bpd.read_csv('data/sea_temp.csv')\n",
    "sea_temp"
   ]
  },
  {
   "cell_type": "code",
   "execution_count": 4,
   "metadata": {},
   "outputs": [
    {
     "data": {
      "text/html": [
       "<div>\n",
       "<style scoped>\n",
       "    .dataframe tbody tr th:only-of-type {\n",
       "        vertical-align: middle;\n",
       "    }\n",
       "\n",
       "    .dataframe tbody tr th {\n",
       "        vertical-align: top;\n",
       "    }\n",
       "\n",
       "    .dataframe thead th {\n",
       "        text-align: right;\n",
       "    }\n",
       "</style>\n",
       "<table border=\"1\" class=\"dataframe\">\n",
       "  <thead>\n",
       "    <tr style=\"text-align: right;\">\n",
       "      <th></th>\n",
       "      <th>year</th>\n",
       "      <th>month</th>\n",
       "      <th>level</th>\n",
       "    </tr>\n",
       "  </thead>\n",
       "  <tbody>\n",
       "    <tr>\n",
       "      <th>0</th>\n",
       "      <td>1924</td>\n",
       "      <td>11</td>\n",
       "      <td>-0.225</td>\n",
       "    </tr>\n",
       "    <tr>\n",
       "      <th>1</th>\n",
       "      <td>1924</td>\n",
       "      <td>12</td>\n",
       "      <td>-0.195</td>\n",
       "    </tr>\n",
       "    <tr>\n",
       "      <th>2</th>\n",
       "      <td>1925</td>\n",
       "      <td>1</td>\n",
       "      <td>-0.198</td>\n",
       "    </tr>\n",
       "    <tr>\n",
       "      <th>3</th>\n",
       "      <td>1925</td>\n",
       "      <td>2</td>\n",
       "      <td>-0.207</td>\n",
       "    </tr>\n",
       "    <tr>\n",
       "      <th>4</th>\n",
       "      <td>1925</td>\n",
       "      <td>3</td>\n",
       "      <td>-0.150</td>\n",
       "    </tr>\n",
       "    <tr>\n",
       "      <th>...</th>\n",
       "      <td>...</td>\n",
       "      <td>...</td>\n",
       "      <td>...</td>\n",
       "    </tr>\n",
       "    <tr>\n",
       "      <th>1136</th>\n",
       "      <td>2019</td>\n",
       "      <td>7</td>\n",
       "      <td>0.006</td>\n",
       "    </tr>\n",
       "    <tr>\n",
       "      <th>1137</th>\n",
       "      <td>2019</td>\n",
       "      <td>8</td>\n",
       "      <td>-0.008</td>\n",
       "    </tr>\n",
       "    <tr>\n",
       "      <th>1138</th>\n",
       "      <td>2019</td>\n",
       "      <td>9</td>\n",
       "      <td>0.036</td>\n",
       "    </tr>\n",
       "    <tr>\n",
       "      <th>1139</th>\n",
       "      <td>2019</td>\n",
       "      <td>10</td>\n",
       "      <td>0.020</td>\n",
       "    </tr>\n",
       "    <tr>\n",
       "      <th>1140</th>\n",
       "      <td>2019</td>\n",
       "      <td>11</td>\n",
       "      <td>0.097</td>\n",
       "    </tr>\n",
       "  </tbody>\n",
       "</table>\n",
       "<p>1141 rows × 3 columns</p>\n",
       "</div>"
      ],
      "text/plain": [
       "      year  month  level\n",
       "0     1924     11 -0.225\n",
       "1     1924     12 -0.195\n",
       "2     1925      1 -0.198\n",
       "3     1925      2 -0.207\n",
       "4     1925      3 -0.150\n",
       "...    ...    ...    ...\n",
       "1136  2019      7  0.006\n",
       "1137  2019      8 -0.008\n",
       "1138  2019      9  0.036\n",
       "1139  2019     10  0.020\n",
       "1140  2019     11  0.097\n",
       "\n",
       "[1141 rows x 3 columns]"
      ]
     },
     "execution_count": 4,
     "metadata": {},
     "output_type": "execute_result"
    }
   ],
   "source": [
    "sea_level = bpd.read_csv('data/sea_level.csv')\n",
    "sea_level"
   ]
  },
  {
   "cell_type": "markdown",
   "metadata": {},
   "source": [
    "**Question 3.1.** Create a new table named `sea_level_inches` which has the same three columns as `sea_level`, but where the \"level\" column is measured in inches instead of meters."
   ]
  },
  {
   "cell_type": "code",
   "execution_count": 5,
   "metadata": {},
   "outputs": [
    {
     "data": {
      "text/html": [
       "<div>\n",
       "<style scoped>\n",
       "    .dataframe tbody tr th:only-of-type {\n",
       "        vertical-align: middle;\n",
       "    }\n",
       "\n",
       "    .dataframe tbody tr th {\n",
       "        vertical-align: top;\n",
       "    }\n",
       "\n",
       "    .dataframe thead th {\n",
       "        text-align: right;\n",
       "    }\n",
       "</style>\n",
       "<table border=\"1\" class=\"dataframe\">\n",
       "  <thead>\n",
       "    <tr style=\"text-align: right;\">\n",
       "      <th></th>\n",
       "      <th>year</th>\n",
       "      <th>month</th>\n",
       "      <th>level</th>\n",
       "    </tr>\n",
       "  </thead>\n",
       "  <tbody>\n",
       "    <tr>\n",
       "      <th>0</th>\n",
       "      <td>1924</td>\n",
       "      <td>11</td>\n",
       "      <td>-8.85825</td>\n",
       "    </tr>\n",
       "    <tr>\n",
       "      <th>1</th>\n",
       "      <td>1924</td>\n",
       "      <td>12</td>\n",
       "      <td>-7.67715</td>\n",
       "    </tr>\n",
       "    <tr>\n",
       "      <th>2</th>\n",
       "      <td>1925</td>\n",
       "      <td>1</td>\n",
       "      <td>-7.79526</td>\n",
       "    </tr>\n",
       "    <tr>\n",
       "      <th>3</th>\n",
       "      <td>1925</td>\n",
       "      <td>2</td>\n",
       "      <td>-8.14959</td>\n",
       "    </tr>\n",
       "    <tr>\n",
       "      <th>4</th>\n",
       "      <td>1925</td>\n",
       "      <td>3</td>\n",
       "      <td>-5.90550</td>\n",
       "    </tr>\n",
       "    <tr>\n",
       "      <th>...</th>\n",
       "      <td>...</td>\n",
       "      <td>...</td>\n",
       "      <td>...</td>\n",
       "    </tr>\n",
       "    <tr>\n",
       "      <th>1136</th>\n",
       "      <td>2019</td>\n",
       "      <td>7</td>\n",
       "      <td>0.23622</td>\n",
       "    </tr>\n",
       "    <tr>\n",
       "      <th>1137</th>\n",
       "      <td>2019</td>\n",
       "      <td>8</td>\n",
       "      <td>-0.31496</td>\n",
       "    </tr>\n",
       "    <tr>\n",
       "      <th>1138</th>\n",
       "      <td>2019</td>\n",
       "      <td>9</td>\n",
       "      <td>1.41732</td>\n",
       "    </tr>\n",
       "    <tr>\n",
       "      <th>1139</th>\n",
       "      <td>2019</td>\n",
       "      <td>10</td>\n",
       "      <td>0.78740</td>\n",
       "    </tr>\n",
       "    <tr>\n",
       "      <th>1140</th>\n",
       "      <td>2019</td>\n",
       "      <td>11</td>\n",
       "      <td>3.81889</td>\n",
       "    </tr>\n",
       "  </tbody>\n",
       "</table>\n",
       "<p>1141 rows × 3 columns</p>\n",
       "</div>"
      ],
      "text/plain": [
       "      year  month    level\n",
       "0     1924     11 -8.85825\n",
       "1     1924     12 -7.67715\n",
       "2     1925      1 -7.79526\n",
       "3     1925      2 -8.14959\n",
       "4     1925      3 -5.90550\n",
       "...    ...    ...      ...\n",
       "1136  2019      7  0.23622\n",
       "1137  2019      8 -0.31496\n",
       "1138  2019      9  1.41732\n",
       "1139  2019     10  0.78740\n",
       "1140  2019     11  3.81889\n",
       "\n",
       "[1141 rows x 3 columns]"
      ]
     },
     "execution_count": 5,
     "metadata": {},
     "output_type": "execute_result"
    }
   ],
   "source": [
    "#... sea_level_inches\n",
    "sea_level_inches = sea_level.assign(\n",
    "    level=sea_level.get('level') * 39.37\n",
    ")\n",
    "sea_level_inches"
   ]
  },
  {
   "cell_type": "code",
   "execution_count": 6,
   "metadata": {},
   "outputs": [
    {
     "name": "stdout",
     "output_type": "stream",
     "text": [
      "~~~~~~~~~~~~~~~~~~~~~~~~~~~~~~~~~~~~~~~~~~~~~~~~~~~~~~~~~~~~~~~~~~~~~\n",
      "Running tests\n",
      "\n",
      "---------------------------------------------------------------------\n",
      "Test summary\n",
      "    Passed: 1\n",
      "    Failed: 0\n",
      "[ooooooooook] 100.0% passed\n",
      "\n"
     ]
    }
   ],
   "source": [
    "_ = ok.grade('q3_1')"
   ]
  },
  {
   "cell_type": "markdown",
   "metadata": {},
   "source": [
    "**Question 3.2.** Create a new table named `sea_temp_fahrenheit` which has the same three columns as `sea_temp`, but where the \"SURFACE_TEMP\" column is measured in Fahrenheit instead of Celsius."
   ]
  },
  {
   "cell_type": "code",
   "execution_count": 7,
   "metadata": {},
   "outputs": [
    {
     "data": {
      "text/html": [
       "<div>\n",
       "<style scoped>\n",
       "    .dataframe tbody tr th:only-of-type {\n",
       "        vertical-align: middle;\n",
       "    }\n",
       "\n",
       "    .dataframe tbody tr th {\n",
       "        vertical-align: top;\n",
       "    }\n",
       "\n",
       "    .dataframe thead th {\n",
       "        text-align: right;\n",
       "    }\n",
       "</style>\n",
       "<table border=\"1\" class=\"dataframe\">\n",
       "  <thead>\n",
       "    <tr style=\"text-align: right;\">\n",
       "      <th></th>\n",
       "      <th>YEAR</th>\n",
       "      <th>MONTH</th>\n",
       "      <th>DAY</th>\n",
       "      <th>SURFACE_TEMP</th>\n",
       "    </tr>\n",
       "  </thead>\n",
       "  <tbody>\n",
       "    <tr>\n",
       "      <th>0</th>\n",
       "      <td>1916</td>\n",
       "      <td>8</td>\n",
       "      <td>22</td>\n",
       "      <td>67.10</td>\n",
       "    </tr>\n",
       "    <tr>\n",
       "      <th>1</th>\n",
       "      <td>1916</td>\n",
       "      <td>8</td>\n",
       "      <td>23</td>\n",
       "      <td>67.82</td>\n",
       "    </tr>\n",
       "    <tr>\n",
       "      <th>2</th>\n",
       "      <td>1916</td>\n",
       "      <td>8</td>\n",
       "      <td>24</td>\n",
       "      <td>67.46</td>\n",
       "    </tr>\n",
       "    <tr>\n",
       "      <th>3</th>\n",
       "      <td>1916</td>\n",
       "      <td>8</td>\n",
       "      <td>25</td>\n",
       "      <td>67.46</td>\n",
       "    </tr>\n",
       "    <tr>\n",
       "      <th>4</th>\n",
       "      <td>1916</td>\n",
       "      <td>8</td>\n",
       "      <td>26</td>\n",
       "      <td>67.10</td>\n",
       "    </tr>\n",
       "    <tr>\n",
       "      <th>...</th>\n",
       "      <td>...</td>\n",
       "      <td>...</td>\n",
       "      <td>...</td>\n",
       "      <td>...</td>\n",
       "    </tr>\n",
       "    <tr>\n",
       "      <th>36292</th>\n",
       "      <td>2019</td>\n",
       "      <td>5</td>\n",
       "      <td>26</td>\n",
       "      <td>64.40</td>\n",
       "    </tr>\n",
       "    <tr>\n",
       "      <th>36293</th>\n",
       "      <td>2019</td>\n",
       "      <td>5</td>\n",
       "      <td>27</td>\n",
       "      <td>63.68</td>\n",
       "    </tr>\n",
       "    <tr>\n",
       "      <th>36294</th>\n",
       "      <td>2019</td>\n",
       "      <td>5</td>\n",
       "      <td>28</td>\n",
       "      <td>62.78</td>\n",
       "    </tr>\n",
       "    <tr>\n",
       "      <th>36295</th>\n",
       "      <td>2019</td>\n",
       "      <td>5</td>\n",
       "      <td>29</td>\n",
       "      <td>64.58</td>\n",
       "    </tr>\n",
       "    <tr>\n",
       "      <th>36296</th>\n",
       "      <td>2019</td>\n",
       "      <td>5</td>\n",
       "      <td>31</td>\n",
       "      <td>64.94</td>\n",
       "    </tr>\n",
       "  </tbody>\n",
       "</table>\n",
       "<p>36297 rows × 4 columns</p>\n",
       "</div>"
      ],
      "text/plain": [
       "       YEAR  MONTH  DAY  SURFACE_TEMP\n",
       "0      1916      8   22         67.10\n",
       "1      1916      8   23         67.82\n",
       "2      1916      8   24         67.46\n",
       "3      1916      8   25         67.46\n",
       "4      1916      8   26         67.10\n",
       "...     ...    ...  ...           ...\n",
       "36292  2019      5   26         64.40\n",
       "36293  2019      5   27         63.68\n",
       "36294  2019      5   28         62.78\n",
       "36295  2019      5   29         64.58\n",
       "36296  2019      5   31         64.94\n",
       "\n",
       "[36297 rows x 4 columns]"
      ]
     },
     "execution_count": 7,
     "metadata": {},
     "output_type": "execute_result"
    }
   ],
   "source": [
    "#... sea_temp_fahrenheit\n",
    "sea_temp_fahrenheit = sea_temp.assign(\n",
    "    SURFACE_TEMP=sea_temp.get('SURFACE_TEMP')*(9/5) + 32\n",
    ")\n",
    "sea_temp_fahrenheit"
   ]
  },
  {
   "cell_type": "code",
   "execution_count": 8,
   "metadata": {},
   "outputs": [
    {
     "name": "stdout",
     "output_type": "stream",
     "text": [
      "~~~~~~~~~~~~~~~~~~~~~~~~~~~~~~~~~~~~~~~~~~~~~~~~~~~~~~~~~~~~~~~~~~~~~\n",
      "Running tests\n",
      "\n",
      "---------------------------------------------------------------------\n",
      "Test summary\n",
      "    Passed: 1\n",
      "    Failed: 0\n",
      "[ooooooooook] 100.0% passed\n",
      "\n"
     ]
    }
   ],
   "source": [
    "_ = ok.grade('q3_2')"
   ]
  },
  {
   "cell_type": "markdown",
   "metadata": {},
   "source": [
    "**Question 3.3.** Create a new table named `sea_averages` which contains one row for each year and two columns: \"TEMPERATURE\", containing the average sea temperature in Fahrenheit for each year, and \"LEVEL\", containing the average sea level in inches for each year. Note that because historical temperatures go back to 1916, but historical sea level measurements only go back to 1924, your table will only have rows for 1924 to 2019. The index of your table should contain the years.\n",
    "\n",
    "*Hint*: As always, you can create intermediate variables.\n",
    "\n",
    "*Note*: You might need to use a feature of `babypandas` that was just recently added. You *probably* have the feature already, but if you write your code and see an unexpected error you might need to update. You can do this by saving your notebook then clicking on \"Control Panel\" in the top right, and the \"Stop My Server\". Wait a few seconds, then click the \"Start My Server\" button when it appears. Your `babypandas` should now be up-to-date."
   ]
  },
  {
   "cell_type": "code",
   "execution_count": 9,
   "metadata": {},
   "outputs": [
    {
     "data": {
      "text/html": [
       "<div>\n",
       "<style scoped>\n",
       "    .dataframe tbody tr th:only-of-type {\n",
       "        vertical-align: middle;\n",
       "    }\n",
       "\n",
       "    .dataframe tbody tr th {\n",
       "        vertical-align: top;\n",
       "    }\n",
       "\n",
       "    .dataframe thead th {\n",
       "        text-align: right;\n",
       "    }\n",
       "</style>\n",
       "<table border=\"1\" class=\"dataframe\">\n",
       "  <thead>\n",
       "    <tr style=\"text-align: right;\">\n",
       "      <th></th>\n",
       "      <th>TEMPERATURE</th>\n",
       "      <th>LEVEL</th>\n",
       "    </tr>\n",
       "  </thead>\n",
       "  <tbody>\n",
       "    <tr>\n",
       "      <th>1924</th>\n",
       "      <td>61.586254</td>\n",
       "      <td>-8.267700</td>\n",
       "    </tr>\n",
       "    <tr>\n",
       "      <th>1925</th>\n",
       "      <td>62.658192</td>\n",
       "      <td>-5.826760</td>\n",
       "    </tr>\n",
       "    <tr>\n",
       "      <th>1926</th>\n",
       "      <td>64.545973</td>\n",
       "      <td>-4.803140</td>\n",
       "    </tr>\n",
       "    <tr>\n",
       "      <th>1927</th>\n",
       "      <td>62.384493</td>\n",
       "      <td>-5.859568</td>\n",
       "    </tr>\n",
       "    <tr>\n",
       "      <th>1928</th>\n",
       "      <td>62.141148</td>\n",
       "      <td>-5.078730</td>\n",
       "    </tr>\n",
       "    <tr>\n",
       "      <th>...</th>\n",
       "      <td>...</td>\n",
       "      <td>...</td>\n",
       "    </tr>\n",
       "    <tr>\n",
       "      <th>2015</th>\n",
       "      <td>67.253529</td>\n",
       "      <td>4.849072</td>\n",
       "    </tr>\n",
       "    <tr>\n",
       "      <th>2016</th>\n",
       "      <td>65.602264</td>\n",
       "      <td>1.430443</td>\n",
       "    </tr>\n",
       "    <tr>\n",
       "      <th>2017</th>\n",
       "      <td>65.463854</td>\n",
       "      <td>1.108922</td>\n",
       "    </tr>\n",
       "    <tr>\n",
       "      <th>2018</th>\n",
       "      <td>66.348645</td>\n",
       "      <td>1.496060</td>\n",
       "    </tr>\n",
       "    <tr>\n",
       "      <th>2019</th>\n",
       "      <td>61.757479</td>\n",
       "      <td>1.295631</td>\n",
       "    </tr>\n",
       "  </tbody>\n",
       "</table>\n",
       "<p>96 rows × 2 columns</p>\n",
       "</div>"
      ],
      "text/plain": [
       "      TEMPERATURE     LEVEL\n",
       "1924    61.586254 -8.267700\n",
       "1925    62.658192 -5.826760\n",
       "1926    64.545973 -4.803140\n",
       "1927    62.384493 -5.859568\n",
       "1928    62.141148 -5.078730\n",
       "...           ...       ...\n",
       "2015    67.253529  4.849072\n",
       "2016    65.602264  1.430443\n",
       "2017    65.463854  1.108922\n",
       "2018    66.348645  1.496060\n",
       "2019    61.757479  1.295631\n",
       "\n",
       "[96 rows x 2 columns]"
      ]
     },
     "execution_count": 9,
     "metadata": {},
     "output_type": "execute_result"
    }
   ],
   "source": [
    "#... sea_averages\n",
    "avg_temp = sea_temp_fahrenheit.groupby('YEAR').mean()\n",
    "avg_level = sea_level_inches.groupby('year').mean()\n",
    "\n",
    "sea_averages_temp = (\n",
    "    avg_temp._pd.merge(avg_level._pd, left_index=True, right_index=True)\n",
    ").get(['SURFACE_TEMP', 'level'])\n",
    "\n",
    "sea_averages = bpd.DataFrame().assign(\n",
    "    TEMPERATURE=sea_averages_temp.get('SURFACE_TEMP'),\n",
    "    LEVEL=sea_averages_temp.get('level')\n",
    ")\n",
    "sea_averages"
   ]
  },
  {
   "cell_type": "code",
   "execution_count": null,
   "metadata": {},
   "outputs": [],
   "source": [
    "_ = ok.grade('q3_3')"
   ]
  },
  {
   "cell_type": "markdown",
   "metadata": {},
   "source": [
    "**Question 3.4.** What were the top 5 years in terms of hottest ocean surface temperature? You can write your answer by hand as a list of integers. Example: `[1942, 1900, 1776, 3000, 1994]`"
   ]
  },
  {
   "cell_type": "code",
   "execution_count": null,
   "metadata": {},
   "outputs": [],
   "source": [
    "#... top_5_hottest_years\n",
    "top_5_hottest_years = list(sea_averages.sort_values('TEMPERATURE', ascending=False).index[:5])\n",
    "top_5_hottest_years"
   ]
  },
  {
   "cell_type": "code",
   "execution_count": null,
   "metadata": {},
   "outputs": [],
   "source": [
    "_ = ok.grade('q3_4')"
   ]
  },
  {
   "cell_type": "markdown",
   "metadata": {},
   "source": [
    "**Question 3.5** What was the median sea surface temperature in Fahrenheit during the month of August, 2018?"
   ]
  },
  {
   "cell_type": "code",
   "execution_count": null,
   "metadata": {},
   "outputs": [],
   "source": [
    "#... august_2018_median_temp\n",
    "august_2018_median_temp = sea_temp_fahrenheit[\n",
    "    (sea_temp_fahrenheit.get('YEAR') == 2018)\n",
    "    &\n",
    "    (sea_temp_fahrenheit.get('MONTH') == 8)\n",
    "].get('SURFACE_TEMP').median()\n",
    "august_2018_median_temp"
   ]
  },
  {
   "cell_type": "code",
   "execution_count": null,
   "metadata": {},
   "outputs": [],
   "source": [
    "_ = ok.grade('q3_5')"
   ]
  },
  {
   "cell_type": "markdown",
   "metadata": {},
   "source": [
    "Now let's plot the yearly average surface temperature in Fahrenheit as a line plot, with year on the horizontal axis:"
   ]
  },
  {
   "cell_type": "code",
   "execution_count": null,
   "metadata": {},
   "outputs": [],
   "source": [
    "#- your code here\n",
    "sea_averages.plot(y='TEMPERATURE')"
   ]
  },
  {
   "cell_type": "markdown",
   "metadata": {},
   "source": [
    "Let's plot the yearly average sea level in inches as a line plot, with year on the horizontal axis:"
   ]
  },
  {
   "cell_type": "code",
   "execution_count": null,
   "metadata": {},
   "outputs": [],
   "source": [
    "sea_averages.plot(y='LEVEL')"
   ]
  },
  {
   "cell_type": "markdown",
   "metadata": {},
   "source": [
    "If your `sea_averages` is right, you should notice a linear increase in the sea level. Let's find the slope of this line and use it to predict the sea level in the future. To start, we need to find the rate at which the sea level has been increasing in inches per year. We could simply take the difference in the height in 2019 and 1924 and divide it by the number of years between them (2019 - 1924 = 95), but this is susceptible to noise.\n",
    "\n",
    "Here's a slightly better way:"
   ]
  },
  {
   "cell_type": "markdown",
   "metadata": {},
   "source": [
    "**Question 3.6.** Define a variable `robust_level_1929` which contains the average of all sea level readings (in inches) taken from 1924 (inclusive) up to 1934 (exclusive). Define a variable `robust_level_2015` which contains the average of all sea level readings (in inches) taken from 2009 (inclusive) to 2019 (exclusive).\n",
    "\n",
    "*Hint*: Should you use `sea_averages` or `sea_level_inches`?"
   ]
  },
  {
   "cell_type": "code",
   "execution_count": null,
   "metadata": {},
   "outputs": [],
   "source": [
    "#... robust_level_1929\n",
    "robust_level_1929 = sea_level_inches[\n",
    "    (sea_level_inches.get('year') >= 1924) \n",
    "    & \n",
    "    (sea_level_inches.get('year') < 1934)\n",
    "].get('level').mean()\n",
    "robust_level_1929"
   ]
  },
  {
   "cell_type": "code",
   "execution_count": null,
   "metadata": {},
   "outputs": [],
   "source": [
    "#... robust_level_2015\n",
    "robust_level_2015 = sea_level_inches[\n",
    "    (sea_level_inches.get('year') >= 2009) \n",
    "    & \n",
    "    (sea_level_inches.get('year') < 2019)\n",
    "].get('level').mean()\n",
    "robust_level_2015"
   ]
  },
  {
   "cell_type": "code",
   "execution_count": null,
   "metadata": {},
   "outputs": [],
   "source": [
    "_ = ok.grade('q3_6')"
   ]
  },
  {
   "cell_type": "markdown",
   "metadata": {},
   "source": [
    "**Question 3.7.** Assume that the sea level increased at a constant rate from a value of `robust_level_1929` inches in 1929 to `robust_level_2015` inches in 2015. What was the rate of increase?"
   ]
  },
  {
   "cell_type": "code",
   "execution_count": null,
   "metadata": {},
   "outputs": [],
   "source": [
    "#... inches_per_year\n",
    "inches_per_year = (robust_level_2015 - robust_level_1929) / (2015 - 1929)\n",
    "inches_per_year"
   ]
  },
  {
   "cell_type": "code",
   "execution_count": null,
   "metadata": {},
   "outputs": [],
   "source": [
    "_ = ok.grade('q3_7')"
   ]
  },
  {
   "cell_type": "markdown",
   "metadata": {},
   "source": [
    "**Question 3.8.** Create a function called `predict_sea_level` which takes in a year and outputs the predicted sea level in that year. You should make your prediction by assuming that the actual sea level in the year 2015 was `robust_level_2015`, and that it increases at a constant rate of `inches_per_year` inches."
   ]
  },
  {
   "cell_type": "code",
   "execution_count": null,
   "metadata": {},
   "outputs": [],
   "source": [
    "def predict_sea_level(year):\n",
    "    ..."
   ]
  },
  {
   "cell_type": "code",
   "execution_count": null,
   "metadata": {},
   "outputs": [],
   "source": [
    "#DELETE\n",
    "def predict_sea_level(year):\n",
    "    return robust_level_2015 + inches_per_year * (year - 2015)"
   ]
  },
  {
   "cell_type": "code",
   "execution_count": null,
   "metadata": {},
   "outputs": [],
   "source": [
    "_ = ok.grade('q3_8')"
   ]
  },
  {
   "cell_type": "markdown",
   "metadata": {},
   "source": [
    "Your prediction is linear; unfortunately, scientists believe that the rate of sea level rise will increase in the coming decades to match the trend in rising temperatures. This means that the sea level is likely to rise much more than your prediction would suggest."
   ]
  },
  {
   "cell_type": "markdown",
   "metadata": {},
   "source": [
    "**Question 3.9.** Make a scatter plot of the yearly average temperature on the horizontal axis versus the yearly average sea level on the vertical axis."
   ]
  },
  {
   "cell_type": "code",
   "execution_count": null,
   "metadata": {},
   "outputs": [],
   "source": [
    "sea_averages.plot(kind='scatter', x='TEMPERATURE', y='LEVEL')"
   ]
  },
  {
   "cell_type": "markdown",
   "metadata": {},
   "source": [
    "## 4. California's Renewable Energy"
   ]
  },
  {
   "cell_type": "markdown",
   "metadata": {},
   "source": [
    "<img width=85% src=\"wind_energy.jpg\"/>"
   ]
  },
  {
   "cell_type": "markdown",
   "metadata": {},
   "source": [
    "To combat climate change, California has increasingly generated its energy from renewable resources, such as solar and wind power. The file `energy.csv` contains hourly measurements of the amount of energy produced in California by various renewable sources in megawatts between April 2010 and January 2018."
   ]
  },
  {
   "cell_type": "code",
   "execution_count": 2,
   "metadata": {},
   "outputs": [
    {
     "data": {
      "text/html": [
       "<div>\n",
       "<style scoped>\n",
       "    .dataframe tbody tr th:only-of-type {\n",
       "        vertical-align: middle;\n",
       "    }\n",
       "\n",
       "    .dataframe tbody tr th {\n",
       "        vertical-align: top;\n",
       "    }\n",
       "\n",
       "    .dataframe thead th {\n",
       "        text-align: right;\n",
       "    }\n",
       "</style>\n",
       "<table border=\"1\" class=\"dataframe\">\n",
       "  <thead>\n",
       "    <tr style=\"text-align: right;\">\n",
       "      <th></th>\n",
       "      <th>BIOGAS</th>\n",
       "      <th>BIOMASS</th>\n",
       "      <th>GEOTHERMAL</th>\n",
       "      <th>SMALL HYDRO</th>\n",
       "      <th>SOLAR</th>\n",
       "      <th>SOLAR PV</th>\n",
       "      <th>SOLAR THERMAL</th>\n",
       "      <th>WIND TOTAL</th>\n",
       "    </tr>\n",
       "    <tr>\n",
       "      <th>TIMESTAMP</th>\n",
       "      <th></th>\n",
       "      <th></th>\n",
       "      <th></th>\n",
       "      <th></th>\n",
       "      <th></th>\n",
       "      <th></th>\n",
       "      <th></th>\n",
       "      <th></th>\n",
       "    </tr>\n",
       "  </thead>\n",
       "  <tbody>\n",
       "    <tr>\n",
       "      <th>2011-07-21 00:00:00</th>\n",
       "      <td>177.0</td>\n",
       "      <td>372.0</td>\n",
       "      <td>984.0</td>\n",
       "      <td>516.0</td>\n",
       "      <td>0.0</td>\n",
       "      <td>0.0</td>\n",
       "      <td>0.0</td>\n",
       "      <td>1607.0</td>\n",
       "    </tr>\n",
       "    <tr>\n",
       "      <th>2011-07-21 01:00:00</th>\n",
       "      <td>176.0</td>\n",
       "      <td>373.0</td>\n",
       "      <td>984.0</td>\n",
       "      <td>509.0</td>\n",
       "      <td>0.0</td>\n",
       "      <td>0.0</td>\n",
       "      <td>0.0</td>\n",
       "      <td>1619.0</td>\n",
       "    </tr>\n",
       "    <tr>\n",
       "      <th>2011-07-21 02:00:00</th>\n",
       "      <td>177.0</td>\n",
       "      <td>371.0</td>\n",
       "      <td>985.0</td>\n",
       "      <td>506.0</td>\n",
       "      <td>0.0</td>\n",
       "      <td>0.0</td>\n",
       "      <td>0.0</td>\n",
       "      <td>1660.0</td>\n",
       "    </tr>\n",
       "    <tr>\n",
       "      <th>2011-07-21 03:00:00</th>\n",
       "      <td>177.0</td>\n",
       "      <td>374.0</td>\n",
       "      <td>985.0</td>\n",
       "      <td>504.0</td>\n",
       "      <td>0.0</td>\n",
       "      <td>0.0</td>\n",
       "      <td>0.0</td>\n",
       "      <td>1633.0</td>\n",
       "    </tr>\n",
       "    <tr>\n",
       "      <th>2011-07-21 04:00:00</th>\n",
       "      <td>177.0</td>\n",
       "      <td>377.0</td>\n",
       "      <td>984.0</td>\n",
       "      <td>508.0</td>\n",
       "      <td>0.0</td>\n",
       "      <td>0.0</td>\n",
       "      <td>0.0</td>\n",
       "      <td>1520.0</td>\n",
       "    </tr>\n",
       "    <tr>\n",
       "      <th>...</th>\n",
       "      <td>...</td>\n",
       "      <td>...</td>\n",
       "      <td>...</td>\n",
       "      <td>...</td>\n",
       "      <td>...</td>\n",
       "      <td>...</td>\n",
       "      <td>...</td>\n",
       "      <td>...</td>\n",
       "    </tr>\n",
       "    <tr>\n",
       "      <th>2013-01-28 19:00:00</th>\n",
       "      <td>209.0</td>\n",
       "      <td>331.0</td>\n",
       "      <td>924.0</td>\n",
       "      <td>404.0</td>\n",
       "      <td>0.0</td>\n",
       "      <td>0.0</td>\n",
       "      <td>0.0</td>\n",
       "      <td>2633.0</td>\n",
       "    </tr>\n",
       "    <tr>\n",
       "      <th>2013-01-28 20:00:00</th>\n",
       "      <td>207.0</td>\n",
       "      <td>334.0</td>\n",
       "      <td>924.0</td>\n",
       "      <td>372.0</td>\n",
       "      <td>0.0</td>\n",
       "      <td>0.0</td>\n",
       "      <td>0.0</td>\n",
       "      <td>2540.0</td>\n",
       "    </tr>\n",
       "    <tr>\n",
       "      <th>2013-01-28 21:00:00</th>\n",
       "      <td>208.0</td>\n",
       "      <td>342.0</td>\n",
       "      <td>926.0</td>\n",
       "      <td>372.0</td>\n",
       "      <td>0.0</td>\n",
       "      <td>0.0</td>\n",
       "      <td>0.0</td>\n",
       "      <td>2408.0</td>\n",
       "    </tr>\n",
       "    <tr>\n",
       "      <th>2013-01-28 22:00:00</th>\n",
       "      <td>208.0</td>\n",
       "      <td>334.0</td>\n",
       "      <td>928.0</td>\n",
       "      <td>358.0</td>\n",
       "      <td>0.0</td>\n",
       "      <td>0.0</td>\n",
       "      <td>0.0</td>\n",
       "      <td>2274.0</td>\n",
       "    </tr>\n",
       "    <tr>\n",
       "      <th>2013-01-28 23:00:00</th>\n",
       "      <td>208.0</td>\n",
       "      <td>335.0</td>\n",
       "      <td>928.0</td>\n",
       "      <td>331.0</td>\n",
       "      <td>0.0</td>\n",
       "      <td>0.0</td>\n",
       "      <td>0.0</td>\n",
       "      <td>2230.0</td>\n",
       "    </tr>\n",
       "  </tbody>\n",
       "</table>\n",
       "<p>67584 rows × 8 columns</p>\n",
       "</div>"
      ],
      "text/plain": [
       "                     BIOGAS  BIOMASS  GEOTHERMAL  SMALL HYDRO  SOLAR  \\\n",
       "TIMESTAMP                                                              \n",
       "2011-07-21 00:00:00   177.0    372.0       984.0        516.0    0.0   \n",
       "2011-07-21 01:00:00   176.0    373.0       984.0        509.0    0.0   \n",
       "2011-07-21 02:00:00   177.0    371.0       985.0        506.0    0.0   \n",
       "2011-07-21 03:00:00   177.0    374.0       985.0        504.0    0.0   \n",
       "2011-07-21 04:00:00   177.0    377.0       984.0        508.0    0.0   \n",
       "...                     ...      ...         ...          ...    ...   \n",
       "2013-01-28 19:00:00   209.0    331.0       924.0        404.0    0.0   \n",
       "2013-01-28 20:00:00   207.0    334.0       924.0        372.0    0.0   \n",
       "2013-01-28 21:00:00   208.0    342.0       926.0        372.0    0.0   \n",
       "2013-01-28 22:00:00   208.0    334.0       928.0        358.0    0.0   \n",
       "2013-01-28 23:00:00   208.0    335.0       928.0        331.0    0.0   \n",
       "\n",
       "                     SOLAR PV  SOLAR THERMAL  WIND TOTAL  \n",
       "TIMESTAMP                                                 \n",
       "2011-07-21 00:00:00       0.0            0.0      1607.0  \n",
       "2011-07-21 01:00:00       0.0            0.0      1619.0  \n",
       "2011-07-21 02:00:00       0.0            0.0      1660.0  \n",
       "2011-07-21 03:00:00       0.0            0.0      1633.0  \n",
       "2011-07-21 04:00:00       0.0            0.0      1520.0  \n",
       "...                       ...            ...         ...  \n",
       "2013-01-28 19:00:00       0.0            0.0      2633.0  \n",
       "2013-01-28 20:00:00       0.0            0.0      2540.0  \n",
       "2013-01-28 21:00:00       0.0            0.0      2408.0  \n",
       "2013-01-28 22:00:00       0.0            0.0      2274.0  \n",
       "2013-01-28 23:00:00       0.0            0.0      2230.0  \n",
       "\n",
       "[67584 rows x 8 columns]"
      ]
     },
     "execution_count": 2,
     "metadata": {},
     "output_type": "execute_result"
    }
   ],
   "source": [
    "energy_raw = bpd.read_csv('data/energy.csv').set_index('TIMESTAMP')\n",
    "energy_raw"
   ]
  },
  {
   "cell_type": "markdown",
   "metadata": {},
   "source": [
    "The index labels are *timestamps*. These are standardized strings specifying a particular time and date. For instance, \"2013-01-28 23:00:00\" represents January 28, 2013 at 11 pm."
   ]
  },
  {
   "cell_type": "markdown",
   "metadata": {},
   "source": [
    "**Question 4.1.** The data set has two columns for similar solar technologies: SOLAR and SOLAR PV. It makes sense to combine these columns into one. Create a new table named `energy` in which the \"SOLAR\" column is the sum of the \"SOLAR\" and \"SOLAR PV\" columns in `energy_raw`. Remove \"SOLAR PV\" from this new table."
   ]
  },
  {
   "cell_type": "code",
   "execution_count": 3,
   "metadata": {},
   "outputs": [
    {
     "data": {
      "text/html": [
       "<div>\n",
       "<style scoped>\n",
       "    .dataframe tbody tr th:only-of-type {\n",
       "        vertical-align: middle;\n",
       "    }\n",
       "\n",
       "    .dataframe tbody tr th {\n",
       "        vertical-align: top;\n",
       "    }\n",
       "\n",
       "    .dataframe thead th {\n",
       "        text-align: right;\n",
       "    }\n",
       "</style>\n",
       "<table border=\"1\" class=\"dataframe\">\n",
       "  <thead>\n",
       "    <tr style=\"text-align: right;\">\n",
       "      <th></th>\n",
       "      <th>BIOGAS</th>\n",
       "      <th>BIOMASS</th>\n",
       "      <th>GEOTHERMAL</th>\n",
       "      <th>SMALL HYDRO</th>\n",
       "      <th>SOLAR</th>\n",
       "      <th>SOLAR THERMAL</th>\n",
       "      <th>WIND TOTAL</th>\n",
       "    </tr>\n",
       "    <tr>\n",
       "      <th>TIMESTAMP</th>\n",
       "      <th></th>\n",
       "      <th></th>\n",
       "      <th></th>\n",
       "      <th></th>\n",
       "      <th></th>\n",
       "      <th></th>\n",
       "      <th></th>\n",
       "    </tr>\n",
       "  </thead>\n",
       "  <tbody>\n",
       "    <tr>\n",
       "      <th>2011-07-21 00:00:00</th>\n",
       "      <td>177.0</td>\n",
       "      <td>372.0</td>\n",
       "      <td>984.0</td>\n",
       "      <td>516.0</td>\n",
       "      <td>0.0</td>\n",
       "      <td>0.0</td>\n",
       "      <td>1607.0</td>\n",
       "    </tr>\n",
       "    <tr>\n",
       "      <th>2011-07-21 01:00:00</th>\n",
       "      <td>176.0</td>\n",
       "      <td>373.0</td>\n",
       "      <td>984.0</td>\n",
       "      <td>509.0</td>\n",
       "      <td>0.0</td>\n",
       "      <td>0.0</td>\n",
       "      <td>1619.0</td>\n",
       "    </tr>\n",
       "    <tr>\n",
       "      <th>2011-07-21 02:00:00</th>\n",
       "      <td>177.0</td>\n",
       "      <td>371.0</td>\n",
       "      <td>985.0</td>\n",
       "      <td>506.0</td>\n",
       "      <td>0.0</td>\n",
       "      <td>0.0</td>\n",
       "      <td>1660.0</td>\n",
       "    </tr>\n",
       "    <tr>\n",
       "      <th>2011-07-21 03:00:00</th>\n",
       "      <td>177.0</td>\n",
       "      <td>374.0</td>\n",
       "      <td>985.0</td>\n",
       "      <td>504.0</td>\n",
       "      <td>0.0</td>\n",
       "      <td>0.0</td>\n",
       "      <td>1633.0</td>\n",
       "    </tr>\n",
       "    <tr>\n",
       "      <th>2011-07-21 04:00:00</th>\n",
       "      <td>177.0</td>\n",
       "      <td>377.0</td>\n",
       "      <td>984.0</td>\n",
       "      <td>508.0</td>\n",
       "      <td>0.0</td>\n",
       "      <td>0.0</td>\n",
       "      <td>1520.0</td>\n",
       "    </tr>\n",
       "    <tr>\n",
       "      <th>...</th>\n",
       "      <td>...</td>\n",
       "      <td>...</td>\n",
       "      <td>...</td>\n",
       "      <td>...</td>\n",
       "      <td>...</td>\n",
       "      <td>...</td>\n",
       "      <td>...</td>\n",
       "    </tr>\n",
       "    <tr>\n",
       "      <th>2013-01-28 19:00:00</th>\n",
       "      <td>209.0</td>\n",
       "      <td>331.0</td>\n",
       "      <td>924.0</td>\n",
       "      <td>404.0</td>\n",
       "      <td>0.0</td>\n",
       "      <td>0.0</td>\n",
       "      <td>2633.0</td>\n",
       "    </tr>\n",
       "    <tr>\n",
       "      <th>2013-01-28 20:00:00</th>\n",
       "      <td>207.0</td>\n",
       "      <td>334.0</td>\n",
       "      <td>924.0</td>\n",
       "      <td>372.0</td>\n",
       "      <td>0.0</td>\n",
       "      <td>0.0</td>\n",
       "      <td>2540.0</td>\n",
       "    </tr>\n",
       "    <tr>\n",
       "      <th>2013-01-28 21:00:00</th>\n",
       "      <td>208.0</td>\n",
       "      <td>342.0</td>\n",
       "      <td>926.0</td>\n",
       "      <td>372.0</td>\n",
       "      <td>0.0</td>\n",
       "      <td>0.0</td>\n",
       "      <td>2408.0</td>\n",
       "    </tr>\n",
       "    <tr>\n",
       "      <th>2013-01-28 22:00:00</th>\n",
       "      <td>208.0</td>\n",
       "      <td>334.0</td>\n",
       "      <td>928.0</td>\n",
       "      <td>358.0</td>\n",
       "      <td>0.0</td>\n",
       "      <td>0.0</td>\n",
       "      <td>2274.0</td>\n",
       "    </tr>\n",
       "    <tr>\n",
       "      <th>2013-01-28 23:00:00</th>\n",
       "      <td>208.0</td>\n",
       "      <td>335.0</td>\n",
       "      <td>928.0</td>\n",
       "      <td>331.0</td>\n",
       "      <td>0.0</td>\n",
       "      <td>0.0</td>\n",
       "      <td>2230.0</td>\n",
       "    </tr>\n",
       "  </tbody>\n",
       "</table>\n",
       "<p>67584 rows × 7 columns</p>\n",
       "</div>"
      ],
      "text/plain": [
       "                     BIOGAS  BIOMASS  GEOTHERMAL  SMALL HYDRO  SOLAR  \\\n",
       "TIMESTAMP                                                              \n",
       "2011-07-21 00:00:00   177.0    372.0       984.0        516.0    0.0   \n",
       "2011-07-21 01:00:00   176.0    373.0       984.0        509.0    0.0   \n",
       "2011-07-21 02:00:00   177.0    371.0       985.0        506.0    0.0   \n",
       "2011-07-21 03:00:00   177.0    374.0       985.0        504.0    0.0   \n",
       "2011-07-21 04:00:00   177.0    377.0       984.0        508.0    0.0   \n",
       "...                     ...      ...         ...          ...    ...   \n",
       "2013-01-28 19:00:00   209.0    331.0       924.0        404.0    0.0   \n",
       "2013-01-28 20:00:00   207.0    334.0       924.0        372.0    0.0   \n",
       "2013-01-28 21:00:00   208.0    342.0       926.0        372.0    0.0   \n",
       "2013-01-28 22:00:00   208.0    334.0       928.0        358.0    0.0   \n",
       "2013-01-28 23:00:00   208.0    335.0       928.0        331.0    0.0   \n",
       "\n",
       "                     SOLAR THERMAL  WIND TOTAL  \n",
       "TIMESTAMP                                       \n",
       "2011-07-21 00:00:00            0.0      1607.0  \n",
       "2011-07-21 01:00:00            0.0      1619.0  \n",
       "2011-07-21 02:00:00            0.0      1660.0  \n",
       "2011-07-21 03:00:00            0.0      1633.0  \n",
       "2011-07-21 04:00:00            0.0      1520.0  \n",
       "...                            ...         ...  \n",
       "2013-01-28 19:00:00            0.0      2633.0  \n",
       "2013-01-28 20:00:00            0.0      2540.0  \n",
       "2013-01-28 21:00:00            0.0      2408.0  \n",
       "2013-01-28 22:00:00            0.0      2274.0  \n",
       "2013-01-28 23:00:00            0.0      2230.0  \n",
       "\n",
       "[67584 rows x 7 columns]"
      ]
     },
     "execution_count": 3,
     "metadata": {},
     "output_type": "execute_result"
    }
   ],
   "source": [
    "#... energy\n",
    "energy = energy_raw.assign(\n",
    "    SOLAR=energy_raw.get('SOLAR') + energy_raw.get('SOLAR PV')\n",
    ").drop(columns='SOLAR PV')\n",
    "energy"
   ]
  },
  {
   "cell_type": "code",
   "execution_count": 4,
   "metadata": {},
   "outputs": [
    {
     "name": "stdout",
     "output_type": "stream",
     "text": [
      "~~~~~~~~~~~~~~~~~~~~~~~~~~~~~~~~~~~~~~~~~~~~~~~~~~~~~~~~~~~~~~~~~~~~~\n",
      "Running tests\n",
      "\n",
      "---------------------------------------------------------------------\n",
      "Test summary\n",
      "    Passed: 1\n",
      "    Failed: 0\n",
      "[ooooooooook] 100.0% passed\n",
      "\n"
     ]
    }
   ],
   "source": [
    "_ = ok.grade('q4_1')"
   ]
  },
  {
   "cell_type": "markdown",
   "metadata": {},
   "source": [
    "**Question 4.2.** Return the hour which had the highest production of geothermal energy. Your answer should be in the form of a timestamp, like \"2011-07-21 00:00:00\"."
   ]
  },
  {
   "cell_type": "code",
   "execution_count": 5,
   "metadata": {},
   "outputs": [
    {
     "data": {
      "text/plain": [
       "'2017-09-23 06:00:00'"
      ]
     },
     "execution_count": 5,
     "metadata": {},
     "output_type": "execute_result"
    }
   ],
   "source": [
    "#... most_geothermal_timestamp\n",
    "most_geothermal_timestamp = energy.sort_values(by='GEOTHERMAL').index[-1]\n",
    "most_geothermal_timestamp"
   ]
  },
  {
   "cell_type": "code",
   "execution_count": 6,
   "metadata": {},
   "outputs": [
    {
     "name": "stdout",
     "output_type": "stream",
     "text": [
      "~~~~~~~~~~~~~~~~~~~~~~~~~~~~~~~~~~~~~~~~~~~~~~~~~~~~~~~~~~~~~~~~~~~~~\n",
      "Running tests\n",
      "\n",
      "---------------------------------------------------------------------\n",
      "Test summary\n",
      "    Passed: 1\n",
      "    Failed: 0\n",
      "[ooooooooook] 100.0% passed\n",
      "\n"
     ]
    }
   ],
   "source": [
    "_ = ok.grade('q4_2')"
   ]
  },
  {
   "cell_type": "markdown",
   "metadata": {},
   "source": [
    "**Question 4.3.** Create functions called `extract_year`, `extract_month`, and `extract_day` which, given a timestamp string of the form \"2011-07-21 00:00:00\", returns the year, month, and day, respectively, all as a `int`s.\n",
    "\n",
    "*Hint*: remember that `.split()` can accept the character to split on."
   ]
  },
  {
   "cell_type": "code",
   "execution_count": 7,
   "metadata": {},
   "outputs": [],
   "source": [
    "def extract_year(timestamp):\n",
    "    ...\n",
    "    \n",
    "def extract_month(timestamp):\n",
    "    ...\n",
    "    \n",
    "def extract_day(timestamp):\n",
    "    ..."
   ]
  },
  {
   "cell_type": "code",
   "execution_count": 8,
   "metadata": {},
   "outputs": [],
   "source": [
    "#DELETE\n",
    "def extract_year(timestamp):\n",
    "    return int(timestamp.split('-')[0])\n",
    "    \n",
    "def extract_month(timestamp):\n",
    "    return int(timestamp.split('-')[1])\n",
    "    \n",
    "def extract_day(timestamp):\n",
    "    return int(timestamp.split('-')[2].split()[0])"
   ]
  },
  {
   "cell_type": "code",
   "execution_count": 9,
   "metadata": {},
   "outputs": [
    {
     "name": "stdout",
     "output_type": "stream",
     "text": [
      "Should return 2011: 2011\n",
      "Should return 7: 7\n",
      "Should return 21: 21\n"
     ]
    }
   ],
   "source": [
    "print('Should return 2011:', extract_year('2011-07-21 00:00:00'))\n",
    "print('Should return 7:', extract_month('2011-07-21 00:00:00'))\n",
    "print('Should return 21:', extract_day('2011-07-21 00:00:00'))"
   ]
  },
  {
   "cell_type": "code",
   "execution_count": 10,
   "metadata": {},
   "outputs": [
    {
     "name": "stdout",
     "output_type": "stream",
     "text": [
      "~~~~~~~~~~~~~~~~~~~~~~~~~~~~~~~~~~~~~~~~~~~~~~~~~~~~~~~~~~~~~~~~~~~~~\n",
      "Running tests\n",
      "\n",
      "---------------------------------------------------------------------\n",
      "Test summary\n",
      "    Passed: 1\n",
      "    Failed: 0\n",
      "[ooooooooook] 100.0% passed\n",
      "\n"
     ]
    }
   ],
   "source": [
    "_ = ok.grade('q4_3')"
   ]
  },
  {
   "cell_type": "markdown",
   "metadata": {},
   "source": [
    "**Question 4.4.** Create a function called `extract_hour` which, given a timestamp string of the form \"2011-07-21 00:00:00\", returns the hour as an `int`."
   ]
  },
  {
   "cell_type": "code",
   "execution_count": 11,
   "metadata": {},
   "outputs": [],
   "source": [
    "def extract_hour(timestamp):\n",
    "    ..."
   ]
  },
  {
   "cell_type": "code",
   "execution_count": 12,
   "metadata": {},
   "outputs": [],
   "source": [
    "#DELETE\n",
    "def extract_hour(timestamp):\n",
    "    return int(timestamp.split()[1].split(':')[0])"
   ]
  },
  {
   "cell_type": "code",
   "execution_count": 13,
   "metadata": {},
   "outputs": [
    {
     "name": "stdout",
     "output_type": "stream",
     "text": [
      "Should return 13: 13\n"
     ]
    }
   ],
   "source": [
    "print('Should return 13:', extract_hour('2011-07-21 13:00:00'))"
   ]
  },
  {
   "cell_type": "code",
   "execution_count": 14,
   "metadata": {},
   "outputs": [
    {
     "name": "stdout",
     "output_type": "stream",
     "text": [
      "~~~~~~~~~~~~~~~~~~~~~~~~~~~~~~~~~~~~~~~~~~~~~~~~~~~~~~~~~~~~~~~~~~~~~\n",
      "Running tests\n",
      "\n",
      "---------------------------------------------------------------------\n",
      "Test summary\n",
      "    Passed: 1\n",
      "    Failed: 0\n",
      "[ooooooooook] 100.0% passed\n",
      "\n"
     ]
    }
   ],
   "source": [
    "_ = ok.grade('q4_4')"
   ]
  },
  {
   "cell_type": "markdown",
   "metadata": {},
   "source": [
    "**Question 4.5.** Create a new table called `energy_with_time` which contains all of the columns of `energy`, plus columns \"YEAR\", \"MONTH\", \"DAY\", and \"HOUR\" containing the year, month, day, and hour of each row as integers. Your table should not have an index (other than the default index consisting of numbers).\n",
    "\n",
    "Your table should look like the picture below, but with the `?`s replaced by numbers:\n",
    "<img width=85% src=\"./q4_output.png\"/>"
   ]
  },
  {
   "cell_type": "code",
   "execution_count": 15,
   "metadata": {},
   "outputs": [
    {
     "data": {
      "text/html": [
       "<div>\n",
       "<style scoped>\n",
       "    .dataframe tbody tr th:only-of-type {\n",
       "        vertical-align: middle;\n",
       "    }\n",
       "\n",
       "    .dataframe tbody tr th {\n",
       "        vertical-align: top;\n",
       "    }\n",
       "\n",
       "    .dataframe thead th {\n",
       "        text-align: right;\n",
       "    }\n",
       "</style>\n",
       "<table border=\"1\" class=\"dataframe\">\n",
       "  <thead>\n",
       "    <tr style=\"text-align: right;\">\n",
       "      <th></th>\n",
       "      <th>BIOGAS</th>\n",
       "      <th>BIOMASS</th>\n",
       "      <th>GEOTHERMAL</th>\n",
       "      <th>SMALL HYDRO</th>\n",
       "      <th>SOLAR</th>\n",
       "      <th>SOLAR THERMAL</th>\n",
       "      <th>WIND TOTAL</th>\n",
       "      <th>YEAR</th>\n",
       "      <th>MONTH</th>\n",
       "      <th>DAY</th>\n",
       "      <th>HOUR</th>\n",
       "    </tr>\n",
       "  </thead>\n",
       "  <tbody>\n",
       "    <tr>\n",
       "      <th>0</th>\n",
       "      <td>177.0</td>\n",
       "      <td>372.0</td>\n",
       "      <td>984.0</td>\n",
       "      <td>516.0</td>\n",
       "      <td>0.0</td>\n",
       "      <td>0.0</td>\n",
       "      <td>1607.0</td>\n",
       "      <td>2011</td>\n",
       "      <td>7</td>\n",
       "      <td>21</td>\n",
       "      <td>0</td>\n",
       "    </tr>\n",
       "    <tr>\n",
       "      <th>1</th>\n",
       "      <td>176.0</td>\n",
       "      <td>373.0</td>\n",
       "      <td>984.0</td>\n",
       "      <td>509.0</td>\n",
       "      <td>0.0</td>\n",
       "      <td>0.0</td>\n",
       "      <td>1619.0</td>\n",
       "      <td>2011</td>\n",
       "      <td>7</td>\n",
       "      <td>21</td>\n",
       "      <td>1</td>\n",
       "    </tr>\n",
       "    <tr>\n",
       "      <th>2</th>\n",
       "      <td>177.0</td>\n",
       "      <td>371.0</td>\n",
       "      <td>985.0</td>\n",
       "      <td>506.0</td>\n",
       "      <td>0.0</td>\n",
       "      <td>0.0</td>\n",
       "      <td>1660.0</td>\n",
       "      <td>2011</td>\n",
       "      <td>7</td>\n",
       "      <td>21</td>\n",
       "      <td>2</td>\n",
       "    </tr>\n",
       "    <tr>\n",
       "      <th>3</th>\n",
       "      <td>177.0</td>\n",
       "      <td>374.0</td>\n",
       "      <td>985.0</td>\n",
       "      <td>504.0</td>\n",
       "      <td>0.0</td>\n",
       "      <td>0.0</td>\n",
       "      <td>1633.0</td>\n",
       "      <td>2011</td>\n",
       "      <td>7</td>\n",
       "      <td>21</td>\n",
       "      <td>3</td>\n",
       "    </tr>\n",
       "    <tr>\n",
       "      <th>4</th>\n",
       "      <td>177.0</td>\n",
       "      <td>377.0</td>\n",
       "      <td>984.0</td>\n",
       "      <td>508.0</td>\n",
       "      <td>0.0</td>\n",
       "      <td>0.0</td>\n",
       "      <td>1520.0</td>\n",
       "      <td>2011</td>\n",
       "      <td>7</td>\n",
       "      <td>21</td>\n",
       "      <td>4</td>\n",
       "    </tr>\n",
       "    <tr>\n",
       "      <th>...</th>\n",
       "      <td>...</td>\n",
       "      <td>...</td>\n",
       "      <td>...</td>\n",
       "      <td>...</td>\n",
       "      <td>...</td>\n",
       "      <td>...</td>\n",
       "      <td>...</td>\n",
       "      <td>...</td>\n",
       "      <td>...</td>\n",
       "      <td>...</td>\n",
       "      <td>...</td>\n",
       "    </tr>\n",
       "    <tr>\n",
       "      <th>67579</th>\n",
       "      <td>209.0</td>\n",
       "      <td>331.0</td>\n",
       "      <td>924.0</td>\n",
       "      <td>404.0</td>\n",
       "      <td>0.0</td>\n",
       "      <td>0.0</td>\n",
       "      <td>2633.0</td>\n",
       "      <td>2013</td>\n",
       "      <td>1</td>\n",
       "      <td>28</td>\n",
       "      <td>19</td>\n",
       "    </tr>\n",
       "    <tr>\n",
       "      <th>67580</th>\n",
       "      <td>207.0</td>\n",
       "      <td>334.0</td>\n",
       "      <td>924.0</td>\n",
       "      <td>372.0</td>\n",
       "      <td>0.0</td>\n",
       "      <td>0.0</td>\n",
       "      <td>2540.0</td>\n",
       "      <td>2013</td>\n",
       "      <td>1</td>\n",
       "      <td>28</td>\n",
       "      <td>20</td>\n",
       "    </tr>\n",
       "    <tr>\n",
       "      <th>67581</th>\n",
       "      <td>208.0</td>\n",
       "      <td>342.0</td>\n",
       "      <td>926.0</td>\n",
       "      <td>372.0</td>\n",
       "      <td>0.0</td>\n",
       "      <td>0.0</td>\n",
       "      <td>2408.0</td>\n",
       "      <td>2013</td>\n",
       "      <td>1</td>\n",
       "      <td>28</td>\n",
       "      <td>21</td>\n",
       "    </tr>\n",
       "    <tr>\n",
       "      <th>67582</th>\n",
       "      <td>208.0</td>\n",
       "      <td>334.0</td>\n",
       "      <td>928.0</td>\n",
       "      <td>358.0</td>\n",
       "      <td>0.0</td>\n",
       "      <td>0.0</td>\n",
       "      <td>2274.0</td>\n",
       "      <td>2013</td>\n",
       "      <td>1</td>\n",
       "      <td>28</td>\n",
       "      <td>22</td>\n",
       "    </tr>\n",
       "    <tr>\n",
       "      <th>67583</th>\n",
       "      <td>208.0</td>\n",
       "      <td>335.0</td>\n",
       "      <td>928.0</td>\n",
       "      <td>331.0</td>\n",
       "      <td>0.0</td>\n",
       "      <td>0.0</td>\n",
       "      <td>2230.0</td>\n",
       "      <td>2013</td>\n",
       "      <td>1</td>\n",
       "      <td>28</td>\n",
       "      <td>23</td>\n",
       "    </tr>\n",
       "  </tbody>\n",
       "</table>\n",
       "<p>67584 rows × 11 columns</p>\n",
       "</div>"
      ],
      "text/plain": [
       "       BIOGAS  BIOMASS  GEOTHERMAL  SMALL HYDRO  SOLAR  SOLAR THERMAL  \\\n",
       "0       177.0    372.0       984.0        516.0    0.0            0.0   \n",
       "1       176.0    373.0       984.0        509.0    0.0            0.0   \n",
       "2       177.0    371.0       985.0        506.0    0.0            0.0   \n",
       "3       177.0    374.0       985.0        504.0    0.0            0.0   \n",
       "4       177.0    377.0       984.0        508.0    0.0            0.0   \n",
       "...       ...      ...         ...          ...    ...            ...   \n",
       "67579   209.0    331.0       924.0        404.0    0.0            0.0   \n",
       "67580   207.0    334.0       924.0        372.0    0.0            0.0   \n",
       "67581   208.0    342.0       926.0        372.0    0.0            0.0   \n",
       "67582   208.0    334.0       928.0        358.0    0.0            0.0   \n",
       "67583   208.0    335.0       928.0        331.0    0.0            0.0   \n",
       "\n",
       "       WIND TOTAL  YEAR  MONTH  DAY  HOUR  \n",
       "0          1607.0  2011      7   21     0  \n",
       "1          1619.0  2011      7   21     1  \n",
       "2          1660.0  2011      7   21     2  \n",
       "3          1633.0  2011      7   21     3  \n",
       "4          1520.0  2011      7   21     4  \n",
       "...           ...   ...    ...  ...   ...  \n",
       "67579      2633.0  2013      1   28    19  \n",
       "67580      2540.0  2013      1   28    20  \n",
       "67581      2408.0  2013      1   28    21  \n",
       "67582      2274.0  2013      1   28    22  \n",
       "67583      2230.0  2013      1   28    23  \n",
       "\n",
       "[67584 rows x 11 columns]"
      ]
     },
     "execution_count": 15,
     "metadata": {},
     "output_type": "execute_result"
    }
   ],
   "source": [
    "#... energy_with_time\n",
    "energy_temp = energy.reset_index()\n",
    "energy_with_time = energy_temp.assign(\n",
    "    YEAR=energy_temp.get('TIMESTAMP').apply(extract_year),\n",
    "    MONTH=energy_temp.get('TIMESTAMP').apply(extract_month),\n",
    "    DAY=energy_temp.get('TIMESTAMP').apply(extract_day),\n",
    "    HOUR=energy_temp.get('TIMESTAMP').apply(extract_hour)\n",
    ").drop(columns='TIMESTAMP')\n",
    "energy_with_time"
   ]
  },
  {
   "cell_type": "code",
   "execution_count": 16,
   "metadata": {},
   "outputs": [
    {
     "name": "stdout",
     "output_type": "stream",
     "text": [
      "~~~~~~~~~~~~~~~~~~~~~~~~~~~~~~~~~~~~~~~~~~~~~~~~~~~~~~~~~~~~~~~~~~~~~\n",
      "Running tests\n",
      "\n",
      "---------------------------------------------------------------------\n",
      "Test summary\n",
      "    Passed: 1\n",
      "    Failed: 0\n",
      "[ooooooooook] 100.0% passed\n",
      "\n"
     ]
    }
   ],
   "source": [
    "_ = ok.grade('q4_5')"
   ]
  },
  {
   "cell_type": "markdown",
   "metadata": {},
   "source": [
    "**Question 4.6.** Create a table called `monthly_totals` which contains the total amount of energy produced by each method for each month in the data set. That is, your table should have one row for July 2011, another row for August 2011, another for September 2011, and so on. Your resulting table should have the same columns as `energy_with_time`, except \"DAY\" and \"HOUR\" should be removed.\n",
    "\n",
    "*Hint*: Your table should have 94 rows."
   ]
  },
  {
   "cell_type": "code",
   "execution_count": 17,
   "metadata": {},
   "outputs": [
    {
     "data": {
      "text/html": [
       "<div>\n",
       "<style scoped>\n",
       "    .dataframe tbody tr th:only-of-type {\n",
       "        vertical-align: middle;\n",
       "    }\n",
       "\n",
       "    .dataframe tbody tr th {\n",
       "        vertical-align: top;\n",
       "    }\n",
       "\n",
       "    .dataframe thead th {\n",
       "        text-align: right;\n",
       "    }\n",
       "</style>\n",
       "<table border=\"1\" class=\"dataframe\">\n",
       "  <thead>\n",
       "    <tr style=\"text-align: right;\">\n",
       "      <th></th>\n",
       "      <th>YEAR</th>\n",
       "      <th>MONTH</th>\n",
       "      <th>BIOGAS</th>\n",
       "      <th>BIOMASS</th>\n",
       "      <th>GEOTHERMAL</th>\n",
       "      <th>SMALL HYDRO</th>\n",
       "      <th>SOLAR</th>\n",
       "      <th>SOLAR THERMAL</th>\n",
       "      <th>WIND TOTAL</th>\n",
       "    </tr>\n",
       "  </thead>\n",
       "  <tbody>\n",
       "    <tr>\n",
       "      <th>0</th>\n",
       "      <td>2010</td>\n",
       "      <td>4</td>\n",
       "      <td>44622.0</td>\n",
       "      <td>75933.0</td>\n",
       "      <td>277881.0</td>\n",
       "      <td>77812.0</td>\n",
       "      <td>27307.0</td>\n",
       "      <td>0.0</td>\n",
       "      <td>208245.0</td>\n",
       "    </tr>\n",
       "    <tr>\n",
       "      <th>1</th>\n",
       "      <td>2010</td>\n",
       "      <td>5</td>\n",
       "      <td>117271.0</td>\n",
       "      <td>168901.0</td>\n",
       "      <td>778631.0</td>\n",
       "      <td>263391.0</td>\n",
       "      <td>101640.0</td>\n",
       "      <td>0.0</td>\n",
       "      <td>665327.0</td>\n",
       "    </tr>\n",
       "    <tr>\n",
       "      <th>2</th>\n",
       "      <td>2010</td>\n",
       "      <td>6</td>\n",
       "      <td>120467.0</td>\n",
       "      <td>246372.0</td>\n",
       "      <td>751765.0</td>\n",
       "      <td>296879.0</td>\n",
       "      <td>131065.0</td>\n",
       "      <td>0.0</td>\n",
       "      <td>805400.0</td>\n",
       "    </tr>\n",
       "    <tr>\n",
       "      <th>3</th>\n",
       "      <td>2010</td>\n",
       "      <td>7</td>\n",
       "      <td>122346.0</td>\n",
       "      <td>304649.0</td>\n",
       "      <td>756300.0</td>\n",
       "      <td>274086.0</td>\n",
       "      <td>130052.0</td>\n",
       "      <td>0.0</td>\n",
       "      <td>842461.0</td>\n",
       "    </tr>\n",
       "    <tr>\n",
       "      <th>4</th>\n",
       "      <td>2010</td>\n",
       "      <td>8</td>\n",
       "      <td>120080.0</td>\n",
       "      <td>276269.0</td>\n",
       "      <td>734931.0</td>\n",
       "      <td>285446.0</td>\n",
       "      <td>118890.0</td>\n",
       "      <td>0.0</td>\n",
       "      <td>680201.0</td>\n",
       "    </tr>\n",
       "    <tr>\n",
       "      <th>...</th>\n",
       "      <td>...</td>\n",
       "      <td>...</td>\n",
       "      <td>...</td>\n",
       "      <td>...</td>\n",
       "      <td>...</td>\n",
       "      <td>...</td>\n",
       "      <td>...</td>\n",
       "      <td>...</td>\n",
       "      <td>...</td>\n",
       "    </tr>\n",
       "    <tr>\n",
       "      <th>89</th>\n",
       "      <td>2017</td>\n",
       "      <td>9</td>\n",
       "      <td>117843.0</td>\n",
       "      <td>267106.0</td>\n",
       "      <td>838393.0</td>\n",
       "      <td>259454.0</td>\n",
       "      <td>2225836.0</td>\n",
       "      <td>125466.0</td>\n",
       "      <td>1159574.0</td>\n",
       "    </tr>\n",
       "    <tr>\n",
       "      <th>90</th>\n",
       "      <td>2017</td>\n",
       "      <td>10</td>\n",
       "      <td>156121.0</td>\n",
       "      <td>241056.0</td>\n",
       "      <td>601337.0</td>\n",
       "      <td>228460.0</td>\n",
       "      <td>2076023.0</td>\n",
       "      <td>105184.0</td>\n",
       "      <td>991351.0</td>\n",
       "    </tr>\n",
       "    <tr>\n",
       "      <th>91</th>\n",
       "      <td>2017</td>\n",
       "      <td>11</td>\n",
       "      <td>160756.0</td>\n",
       "      <td>230921.0</td>\n",
       "      <td>661893.0</td>\n",
       "      <td>293635.0</td>\n",
       "      <td>1375899.0</td>\n",
       "      <td>49857.0</td>\n",
       "      <td>841107.0</td>\n",
       "    </tr>\n",
       "    <tr>\n",
       "      <th>92</th>\n",
       "      <td>2017</td>\n",
       "      <td>12</td>\n",
       "      <td>177256.0</td>\n",
       "      <td>248422.0</td>\n",
       "      <td>690448.0</td>\n",
       "      <td>321602.0</td>\n",
       "      <td>1392400.0</td>\n",
       "      <td>50210.0</td>\n",
       "      <td>520035.0</td>\n",
       "    </tr>\n",
       "    <tr>\n",
       "      <th>93</th>\n",
       "      <td>2018</td>\n",
       "      <td>1</td>\n",
       "      <td>83733.0</td>\n",
       "      <td>124943.0</td>\n",
       "      <td>361737.0</td>\n",
       "      <td>143817.0</td>\n",
       "      <td>581836.0</td>\n",
       "      <td>21450.0</td>\n",
       "      <td>274922.0</td>\n",
       "    </tr>\n",
       "  </tbody>\n",
       "</table>\n",
       "<p>94 rows × 9 columns</p>\n",
       "</div>"
      ],
      "text/plain": [
       "    YEAR  MONTH    BIOGAS   BIOMASS  GEOTHERMAL  SMALL HYDRO      SOLAR  \\\n",
       "0   2010      4   44622.0   75933.0    277881.0      77812.0    27307.0   \n",
       "1   2010      5  117271.0  168901.0    778631.0     263391.0   101640.0   \n",
       "2   2010      6  120467.0  246372.0    751765.0     296879.0   131065.0   \n",
       "3   2010      7  122346.0  304649.0    756300.0     274086.0   130052.0   \n",
       "4   2010      8  120080.0  276269.0    734931.0     285446.0   118890.0   \n",
       "..   ...    ...       ...       ...         ...          ...        ...   \n",
       "89  2017      9  117843.0  267106.0    838393.0     259454.0  2225836.0   \n",
       "90  2017     10  156121.0  241056.0    601337.0     228460.0  2076023.0   \n",
       "91  2017     11  160756.0  230921.0    661893.0     293635.0  1375899.0   \n",
       "92  2017     12  177256.0  248422.0    690448.0     321602.0  1392400.0   \n",
       "93  2018      1   83733.0  124943.0    361737.0     143817.0   581836.0   \n",
       "\n",
       "    SOLAR THERMAL  WIND TOTAL  \n",
       "0             0.0    208245.0  \n",
       "1             0.0    665327.0  \n",
       "2             0.0    805400.0  \n",
       "3             0.0    842461.0  \n",
       "4             0.0    680201.0  \n",
       "..            ...         ...  \n",
       "89       125466.0   1159574.0  \n",
       "90       105184.0    991351.0  \n",
       "91        49857.0    841107.0  \n",
       "92        50210.0    520035.0  \n",
       "93        21450.0    274922.0  \n",
       "\n",
       "[94 rows x 9 columns]"
      ]
     },
     "execution_count": 17,
     "metadata": {},
     "output_type": "execute_result"
    }
   ],
   "source": [
    "#... monthly_totals\n",
    "monthly_totals = energy_with_time.groupby(['YEAR', 'MONTH']).sum().reset_index().drop(columns=['DAY', 'HOUR'])\n",
    "monthly_totals"
   ]
  },
  {
   "cell_type": "code",
   "execution_count": 18,
   "metadata": {},
   "outputs": [
    {
     "name": "stdout",
     "output_type": "stream",
     "text": [
      "~~~~~~~~~~~~~~~~~~~~~~~~~~~~~~~~~~~~~~~~~~~~~~~~~~~~~~~~~~~~~~~~~~~~~\n",
      "Running tests\n",
      "\n",
      "---------------------------------------------------------------------\n",
      "Test summary\n",
      "    Passed: 1\n",
      "    Failed: 0\n",
      "[ooooooooook] 100.0% passed\n",
      "\n"
     ]
    }
   ],
   "source": [
    "_ = ok.grade('q4_6')"
   ]
  },
  {
   "cell_type": "markdown",
   "metadata": {},
   "source": [
    "**Question 4.7.** Plot the monthly total production of SOLAR, GEOTHERMAL, and WIND TOTAL on one plot."
   ]
  },
  {
   "cell_type": "code",
   "execution_count": null,
   "metadata": {},
   "outputs": [],
   "source": [
    "#- put your code here\n",
    "monthly_totals.get(['SOLAR', 'GEOTHERMAL', 'WIND TOTAL']).plot()"
   ]
  },
  {
   "cell_type": "markdown",
   "metadata": {},
   "source": [
    "**Question 4.8.** Create a table called `hourly_averages_june_2017` which contains the average output of every energy source by hour in the month of June 2017. Your table should not contain DAY, MONTH, or YEAR columns.\n",
    "\n",
    "Your answer should look like this (I've intentionally left the numbers in the table so that you can check your answer):\n",
    "\n",
    "<img width=90% src=\"./q48_output.png\"/>"
   ]
  },
  {
   "cell_type": "code",
   "execution_count": null,
   "metadata": {},
   "outputs": [],
   "source": [
    "#... hourly_averages_june_2017\n",
    "hourly_averages_june_2017 = energy_with_time[\n",
    "    (energy_with_time.get('YEAR') == 2017)\n",
    "    &\n",
    "    (energy_with_time.get('MONTH') == 6)\n",
    "].groupby('HOUR').mean().drop(columns=['YEAR', 'MONTH', 'DAY'])\n",
    "hourly_averages_june_2017"
   ]
  },
  {
   "cell_type": "code",
   "execution_count": null,
   "metadata": {},
   "outputs": [],
   "source": [
    "_ = ok.grade('q4_8')"
   ]
  },
  {
   "cell_type": "markdown",
   "metadata": {},
   "source": [
    "**Question 4.9.** Plot the hourly average production of solar, wind, and geothermal in June 2017 on one plot."
   ]
  },
  {
   "cell_type": "code",
   "execution_count": null,
   "metadata": {},
   "outputs": [],
   "source": [
    "#- put your code here\n",
    "hourly_averages_june_2017.get(['SOLAR', 'WIND TOTAL', 'GEOTHERMAL']).plot()"
   ]
  },
  {
   "cell_type": "markdown",
   "metadata": {},
   "source": [
    "You should see that solar production is zero at night, but reaches a peak in the afternoon. On the other hand, wind output is highest at night."
   ]
  },
  {
   "cell_type": "markdown",
   "metadata": {},
   "source": [
    "# Finish Line\n",
    "\n",
    "Congratulations, you're done with the project!  Be sure to\n",
    "\n",
    "- **Verify that all tests pass** (the next cell has a shortcut for that), \n",
    "- **Save and Checkpoint** from the `File` menu,\n",
    "- **Run the last cell to submit your work**\n",
    "\n",
    "### You *do not* need to submit a notebook to Gradescope for this project!"
   ]
  },
  {
   "cell_type": "code",
   "execution_count": null,
   "metadata": {
    "scrolled": false
   },
   "outputs": [],
   "source": [
    "# For your convenience, you can run this cell to run all the tests at once!\n",
    "import os\n",
    "_ = [ok.grade(q[:-3]) for q in os.listdir('tests') if q.startswith('q')]"
   ]
  },
  {
   "cell_type": "code",
   "execution_count": null,
   "metadata": {},
   "outputs": [],
   "source": [
    "_ = ok.submit()"
   ]
  }
 ],
 "metadata": {
  "kernelspec": {
   "display_name": "Python 3",
   "language": "python",
   "name": "python3"
  },
  "language_info": {
   "codemirror_mode": {
    "name": "ipython",
    "version": 3
   },
   "file_extension": ".py",
   "mimetype": "text/x-python",
   "name": "python",
   "nbconvert_exporter": "python",
   "pygments_lexer": "ipython3",
   "version": "3.6.7"
  }
 },
 "nbformat": 4,
 "nbformat_minor": 2
}
