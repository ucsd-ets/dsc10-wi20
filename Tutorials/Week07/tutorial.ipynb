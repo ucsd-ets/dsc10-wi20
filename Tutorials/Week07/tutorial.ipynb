{
 "cells": [
  {
   "cell_type": "markdown",
   "metadata": {},
   "source": [
    "# Programming basics week 7"
   ]
  },
  {
   "cell_type": "code",
   "execution_count": null,
   "metadata": {},
   "outputs": [],
   "source": []
  },
  {
   "cell_type": "code",
   "execution_count": 2,
   "metadata": {
    "colab": {},
    "colab_type": "code",
    "id": "GNnkmJJkMCyl"
   },
   "outputs": [],
   "source": [
    "import numpy as np\n",
    "import math"
   ]
  },
  {
   "cell_type": "markdown",
   "metadata": {
    "colab_type": "text",
    "id": "eTC2rPogYqA7"
   },
   "source": [
    "1. Without using any predefined functions like max(), write a function find_max to find the largest integer in an array. \n",
    "\n",
    "for example: \n",
    "\n",
    "    find_max(np.array([1, 5, 4, 6, 7, 8]))\n",
    "    8\n",
    "    find_max(np.array([-1, 5, 0]))\n",
    "    5\n"
   ]
  },
  {
   "cell_type": "code",
   "execution_count": null,
   "metadata": {
    "colab": {},
    "colab_type": "code",
    "id": "JW1kqG5mcbjG"
   },
   "outputs": [],
   "source": [
    "#write your code here"
   ]
  },
  {
   "cell_type": "markdown",
   "metadata": {
    "colab_type": "text",
    "id": "J0bDRmeda00B"
   },
   "source": [
    "2. Write a function is_monotonic to check if given array is monotonic. An array is considered monotonic if the elements in the array are always increasing or always decreasing. Note that we do not consider (3, 4, 4, 5) is not monotonic because the array is not increasing from 4 to 4\n",
    "\n",
    "for example:\n",
    "\n",
    "    is_monotonic(np.array([1, 2, 3]))\n",
    "    true\n",
    "    is_monotonic(np.array([3, 2, 1]))\n",
    "    true\n",
    "    is_monotonic(np.array([1, 0, 3]))\n",
    "    false"
   ]
  },
  {
   "cell_type": "code",
   "execution_count": null,
   "metadata": {
    "colab": {},
    "colab_type": "code",
    "id": "dU4xx4FsceQO"
   },
   "outputs": [],
   "source": [
    "#write your code here"
   ]
  },
  {
   "cell_type": "markdown",
   "metadata": {
    "colab_type": "text",
    "id": "nqbVS3D7Z8k4"
   },
   "source": [
    "3. Without using any predefined functions like np.sort() or list.sort(), write a function to sort an array in ascending order. (Hint: compare the items in a loop)\n",
    "\n",
    "for example:\n",
    "\n",
    "    my_sort(np.array([1, 5, 4, 6, 7, 8]))\n",
    "    [1, 4, 5, 6, 7, 8]\n",
    "    my_sort(np.array([-1, 5, 0])\n",
    "    [-1, 0, 5]"
   ]
  },
  {
   "cell_type": "code",
   "execution_count": null,
   "metadata": {
    "colab": {},
    "colab_type": "code",
    "id": "CwDbtaYMce8o"
   },
   "outputs": [],
   "source": [
    "#write your code here"
   ]
  },
  {
   "cell_type": "markdown",
   "metadata": {
    "colab_type": "text",
    "id": "pfNcVnUJbL7I"
   },
   "source": [
    "4. Define a function find_common to find all common values from two arrays and return a list of the common values.\n",
    "\n",
    "starter examples (both arrays have the same length and the common values appear in same position）:\n",
    "\n",
    "    find_common(np.array([1, 2, 3, 4]), np.array([2, 3, 4, 5]))\n",
    "    [2, 3, 4]\n",
    "    find_common(np.array([\"A\", \"C\", \"Z\"]), np.array([\"P\", \"C\", \"D\"]))\n",
    "    ['C']\n",
    "\n",
    "advanced examples (hint: look at the operation 'in'):\n",
    "       \n",
    "    find_common(np.array([1, 2, 3, 4]), np.array([2, 4]))\n",
    "    [2, 4]\n",
    "    find_common(np.array([\"D\", \"S\", \"C\"]), np.array([\"P\", \"C\", \"D\"]))\n",
    "    ['D', 'C'] # ['C', 'D'] is also fine, depending on your implementation"
   ]
  },
  {
   "cell_type": "code",
   "execution_count": 4,
   "metadata": {
    "colab": {},
    "colab_type": "code",
    "id": "hQKQK5Dwcfbu"
   },
   "outputs": [],
   "source": [
    "#write your code here"
   ]
  },
  {
   "cell_type": "markdown",
   "metadata": {
    "colab_type": "text",
    "id": "tU-RDxNQTPtg"
   },
   "source": [
    "5. What does the following function do?"
   ]
  },
  {
   "cell_type": "code",
   "execution_count": 9,
   "metadata": {
    "colab": {},
    "colab_type": "code",
    "id": "Nrx6LoMEgi8u"
   },
   "outputs": [],
   "source": [
    "def my_func(lst, a):\n",
    "    new = np.array([])\n",
    "    for i in range(len(lst)):\n",
    "        new = np.append(new, lst[i])\n",
    "        if (lst[i] == a):\n",
    "              new = np.append(new, a)\n",
    "    if a not in new:\n",
    "            new = np.append(new, a)\n",
    "    return new\n"
   ]
  },
  {
   "cell_type": "markdown",
   "metadata": {
    "colab_type": "text",
    "id": "-Egksh6MeI9x"
   },
   "source": [
    "6. Suppose you have a 2d coordinate system with many data points. A point (3, 1) has a x value of 3 and a y value of 1. Define a function dist_to_center to find a list of the euclidean distance from the center to each data point. We will set a default center at the origin, (0, 0). Hint: use x ** 0.5 to find square root.\n",
    "\n",
    "for example:\n",
    "\n",
    "    dist_to_center(np.array([[1, 5], [3, 6], [2, 8], [-9, 0]]))\n",
    "    [5.0990195135927845, 6.708203932499369, 8.246211251235321, 9.0]\n",
    "    "
   ]
  },
  {
   "cell_type": "code",
   "execution_count": 23,
   "metadata": {
    "colab": {},
    "colab_type": "code",
    "id": "d84qw13nS_Cq"
   },
   "outputs": [],
   "source": [
    "# write your code using the starter code\n",
    "def dist_to_center(coordinates, origin = np.array([0, 0])):\n",
    "    return"
   ]
  },
  {
   "cell_type": "code",
   "execution_count": null,
   "metadata": {},
   "outputs": [],
   "source": []
  }
 ],
 "metadata": {
  "colab": {
   "name": "Week 7.ipynb",
   "provenance": []
  },
  "kernelspec": {
   "display_name": "Python 3",
   "language": "python",
   "name": "python3"
  },
  "language_info": {
   "codemirror_mode": {
    "name": "ipython",
    "version": 3
   },
   "file_extension": ".py",
   "mimetype": "text/x-python",
   "name": "python",
   "nbconvert_exporter": "python",
   "pygments_lexer": "ipython3",
   "version": "3.7.3"
  }
 },
 "nbformat": 4,
 "nbformat_minor": 1
}
