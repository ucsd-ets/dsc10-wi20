{
 "cells": [
  {
   "cell_type": "markdown",
   "metadata": {},
   "source": [
    "# Programming basics week 9"
   ]
  },
  {
   "cell_type": "markdown",
   "metadata": {},
   "source": [
    "## Python Visualizer\n",
    "[http://pythontutor.com/visualize.html#mode=edit](http://pythontutor.com/visualize.html#mode=edit)\n",
    "\n",
    "Check out this tool if you want to visualize how Python executes your code line by line."
   ]
  },
  {
   "cell_type": "code",
   "execution_count": 1,
   "metadata": {
    "colab": {},
    "colab_type": "code",
    "id": "NxJHiS69pIro"
   },
   "outputs": [],
   "source": [
    "# run this cell!\n",
    "import numpy as np\n",
    "import math"
   ]
  },
  {
   "cell_type": "markdown",
   "metadata": {
    "colab_type": "text",
    "id": "QN-vtsOjoufa"
   },
   "source": [
    "1. How can we reshape a 1-d array into higher dimensions?\n",
    "\n",
    "\n",
    "    Warmup: Reshape a 10-element array into a 2-d array with 5 elements each.\n",
    "    \n",
    "\n",
    "> reshape1(np.array([1, 2, 3, 4, 5, 6, 7, 8, 9, 10]), 5) -->\n",
    "     [[1, 2, 3, 4, 5], [6, 7, 8, 9, 10]]\n",
    "\n"
   ]
  },
  {
   "cell_type": "code",
   "execution_count": 2,
   "metadata": {
    "colab": {},
    "colab_type": "code",
    "id": "awVlgzvHo09M"
   },
   "outputs": [],
   "source": [
    "def reshape1(arr, elem):\n",
    "    # your code here\n",
    "    return []"
   ]
  },
  {
   "cell_type": "markdown",
   "metadata": {},
   "source": [
    "    Intermediate: Reshape array of arbitrary length into a 2-d array with n elements each. Fill in np.nan if there are no remaining elements\n",
    "    \n",
    "\n",
    "> reshape2(np.array([1, 2, 3, 4, 5, 6, 7, 8, 9]), 4) -->\n",
    "     [[1, 2, 3, 4], [5, 6, 7, 8], [9, np.nan, np.nan, np.nan]]"
   ]
  },
  {
   "cell_type": "code",
   "execution_count": 3,
   "metadata": {},
   "outputs": [],
   "source": [
    "def reshape2(arr, elem):\n",
    "    # your code here\n",
    "    return []"
   ]
  },
  {
   "cell_type": "markdown",
   "metadata": {
    "colab_type": "text",
    "id": "Zd8J04EIqetG"
   },
   "source": [
    "2. Remove from one array those items that exist in another\n",
    "\n",
    "> a = np.array([1,2,3,4,5])                                                                    \n",
    "> b = np.array([5,6,7,8,9])                                                                    \n",
    "> remove_same(a, b) --> [1, 2, 3, 4]\n",
    "\n",
    "> c = np.array([1,2,3,4,5])                                                                    \n",
    "> d = np.array([1,2,3,4,5])                                                                     \n",
    "> remove_same(c, d) --> []"
   ]
  },
  {
   "cell_type": "code",
   "execution_count": 4,
   "metadata": {
    "colab": {},
    "colab_type": "code",
    "id": "g5gjXWGcrtz2"
   },
   "outputs": [],
   "source": [
    "def remove_same(a, b):\n",
    "    # your code here\n",
    "    return []"
   ]
  },
  {
   "cell_type": "markdown",
   "metadata": {
    "colab_type": "text",
    "id": "m0O8YfS6r8zy"
   },
   "source": [
    "3. A Palindrome is a word, sequence or phrase that reads the same forward as it does backwards, for example words like ‘dad’, ‘mom’, ‘madam’ or numbers like ‘11’, ‘121’, or ‘99099’. Write a function to check if the input string is a palindrome. Remember that any string of length 0 or 1 is symmetric.\n"
   ]
  },
  {
   "cell_type": "code",
   "execution_count": 5,
   "metadata": {
    "colab": {},
    "colab_type": "code",
    "id": "YZKg3aKxr8CV"
   },
   "outputs": [],
   "source": [
    "def is_palindrome(string):\n",
    "    # your code here\n",
    "    return True"
   ]
  },
  {
   "cell_type": "markdown",
   "metadata": {
    "colab_type": "text",
    "id": "OPX26BxTwvGf"
   },
   "source": [
    "4. Define a function that takes the nth character out of a string, then add it to the back and shift every other character accordingly.\n",
    "\n",
    "> shift_char('dsc10 is fun', 4) --> 'dsc1 is fun0'"
   ]
  },
  {
   "cell_type": "code",
   "execution_count": 6,
   "metadata": {
    "colab": {},
    "colab_type": "code",
    "id": "mrRgT9UQ00kV"
   },
   "outputs": [],
   "source": [
    "def shift_char(string, index):\n",
    "    # your code here\n",
    "    return string"
   ]
  },
  {
   "cell_type": "markdown",
   "metadata": {
    "colab_type": "text",
    "id": "SzflGuBB7aMy"
   },
   "source": [
    "5. Given a list that contains distinct integers 0 through n in any order, return number(s) that are missing from the list. Return -1 if all elements are present.\n",
    "\n",
    "> missing_num([0, 1, 2, 3]) --> -1                                                            \n",
    "> missing_num([0, 2, 3]) --> 1                                                                \n",
    "> missing_num([1, 2, 3]) --> 0"
   ]
  },
  {
   "cell_type": "code",
   "execution_count": 7,
   "metadata": {
    "colab": {},
    "colab_type": "code",
    "id": "t0adJhvd7w2j"
   },
   "outputs": [],
   "source": [
    "def missing_num(lst):\n",
    "    # your code here\n",
    "    return -1"
   ]
  }
 ],
 "metadata": {
  "colab": {
   "collapsed_sections": [],
   "name": "Week 8.ipynb",
   "provenance": []
  },
  "kernelspec": {
   "display_name": "Python 3",
   "language": "python",
   "name": "python3"
  },
  "language_info": {
   "codemirror_mode": {
    "name": "ipython",
    "version": 3
   },
   "file_extension": ".py",
   "mimetype": "text/x-python",
   "name": "python",
   "nbconvert_exporter": "python",
   "pygments_lexer": "ipython3",
   "version": "3.7.3"
  }
 },
 "nbformat": 4,
 "nbformat_minor": 1
}
